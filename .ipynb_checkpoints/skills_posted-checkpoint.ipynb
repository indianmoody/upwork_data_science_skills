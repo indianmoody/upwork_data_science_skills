{
 "cells": [
  {
   "cell_type": "code",
   "execution_count": 4,
   "metadata": {
    "collapsed": true
   },
   "outputs": [],
   "source": [
    "import numpy as np\n",
    "import pandas as pd\n",
    "import requests\n",
    "from bs4 import BeautifulSoup"
   ]
  },
  {
   "cell_type": "code",
   "execution_count": 5,
   "metadata": {
    "collapsed": true
   },
   "outputs": [],
   "source": [
    "# first, trying on a single page"
   ]
  },
  {
   "cell_type": "code",
   "execution_count": 24,
   "metadata": {
    "collapsed": true
   },
   "outputs": [],
   "source": [
    "upwork_url = \"https://www.upwork.com/o/jobs/browse/c/data-science-analytics/?page=2\"\n",
    "page = requests.get(upwork_url)\n",
    "soup = BeautifulSoup(page.content, 'html.parser')"
   ]
  },
  {
   "cell_type": "code",
   "execution_count": 29,
   "metadata": {
    "collapsed": false
   },
   "outputs": [
    {
     "data": {
      "text/plain": [
       "[]"
      ]
     },
     "execution_count": 29,
     "metadata": {},
     "output_type": "execute_result"
    }
   ],
   "source": [
    "soup.select(\"div[class='col-sm-9']\")"
   ]
  },
  {
   "cell_type": "code",
   "execution_count": 26,
   "metadata": {
    "collapsed": false
   },
   "outputs": [
    {
     "data": {
      "text/plain": [
       "<html><head><script src=\"https://www.google.com/recaptcha/api.js\"></script> <link href=\"https://assets.static-upwork.com/components/1.8.4/air.global.1.8.4.min.css\" rel=\"stylesheet\">\n",
       "<link href=\"https://assets.static-upwork.com/components/1.8.4/air.components.1.8.4.min.css\" rel=\"stylesheet\">\n",
       "<link href=\"https://assets.static-upwork.com/fonts/1.10.0/fonts.gotham.1.10.0.css\" rel=\"stylesheet\">\n",
       "<link href=\"https://assets.static-upwork.com/fonts/1.10.0/fonts.air-icons.1.10.0.css\" rel=\"stylesheet\">\n",
       "<script src=\"https://assets.static-upwork.com/components/1.8.4/core.1.8.4.min.js\"></script>\n",
       "<script src=\"https://assets.static-upwork.com/components/1.8.4/angular-select.1.8.4.min.js\"></script>\n",
       "<script src=\"https://assets.static-upwork.com/components/1.8.4/files.1.8.4.min.js\"></script>\n",
       "<script>\n",
       "                        //async font loading\n",
       "                        window.onload = function() {\n",
       "                        var linkGotham = document.createElement('link');\n",
       "                        linkGotham.href = 'http://components.elance-odesk.com/fonts/1.10.0/fonts.gotham-async.1.10.0.css';\n",
       "                        linkGotham.rel = 'stylesheet';\n",
       "                        document.getElementsByTagName('head')[0].appendChild(linkGotham);\n",
       "\n",
       "                        var linkIcons = document.createElement('link');\n",
       "                        linkIcons.href = 'http://components.elance-odesk.com/fonts/1.10.0/fonts.air-icons-async.1.10.0.css';\n",
       "                        linkIcons.rel = 'stylesheet';\n",
       "                        document.getElementsByTagName('head')[0].appendChild(linkIcons);\n",
       "                        };\n",
       "                    </script>\n",
       "<script>function handleCaptcha(response) { var vid = \"\"; var uuid = \"ec8919e0-8fda-11e7-907b-877d9bcb8cbb\"; var name = \"_pxCaptcha\"; var expiryUtc = new Date(Date.now() + 1000 * 10).toUTCString(); var cookieParts = [name, \"=\", response + \":\" + vid + \":\" + uuid, \"; expires=\", expiryUtc, \"; path=/\"]; document.cookie = cookieParts.join(\"\"); document.cookie=cookieParts.join(\"\");location.reload()}(function () { window._pxAppId = \"PXSs13U803\"; var p = document.getElementsByTagName(\"script\")[0], s = document.createElement(\"script\"); s.async = 1; s.src = \"//client.perimeterx.net/PXSs13U803/main.min.js\"; p.parentNode.insertBefore(s, p); }());</script></link></link></link></link></head>\n",
       "<body class=\"skinny-layout\">\n",
       "<div id=\"layout\">\n",
       "<header class=\"header-navbar-wrapper header-navbar-skinny\" role=\"banner\">\n",
       "<nav class=\"primary-navbar navbar navbar-default\" role=\"navigation\">\n",
       "<div class=\"container\">\n",
       "<div class=\"nav navbar-header navbar-left\">\n",
       "<a class=\"navbar-brand\" href=\"/\" target=\"_self\"></a>\n",
       "</div>\n",
       "</div>\n",
       "</nav>\n",
       "</header>\n",
       "<div class=\"container\">\n",
       "<div class=\"row\">\n",
       "<div class=\"col-md-12\">\n",
       "<div class=\"eo-navigation-image-alert\"></div>\n",
       "<h1 class=\"m-0-top m-lg-top text-center\">Please pass the challenge to continue.</h1>\n",
       "</div>\n",
       "</div>\n",
       "<div class=\"center-block g-recaptcha\" data-callback=\"handleCaptcha\" data-sitekey=\"6Lcj-R8TAAAAABs3FrRPuQhLMbp5QrHsHufzLf7b\" style=\"width: 320px;\">\n",
       "</div>\n",
       "<div>\n",
       "<h2 class=\"m-0-top m-lg-top text-center\">Please make sure your browser supports JavaScript and cookies and that you are not blocking them from loading. To learn more about how Upwork uses cookies please review our <a href=\"https://www.upwork.com/legal/cookie-policy/\">Cookie Policy</a>.</h2>\n",
       "<p class=\"m-0-top m-lg-top text-center\">Reference ID: ec8919e0-8fda-11e7-907b-877d9bcb8cbb </p>\n",
       "</div>\n",
       "</div>\n",
       "</div>\n",
       "</body>\n",
       "</html>"
      ]
     },
     "execution_count": 26,
     "metadata": {},
     "output_type": "execute_result"
    }
   ],
   "source": [
    "soup"
   ]
  },
  {
   "cell_type": "code",
   "execution_count": 3,
   "metadata": {
    "collapsed": true
   },
   "outputs": [],
   "source": [
    "from selenium import webdriver"
   ]
  },
  {
   "cell_type": "code",
   "execution_count": null,
   "metadata": {
    "collapsed": true
   },
   "outputs": [],
   "source": []
  },
  {
   "cell_type": "raw",
   "metadata": {},
   "source": []
  }
 ],
 "metadata": {
  "kernelspec": {
   "display_name": "Python 3",
   "language": "python",
   "name": "python3"
  },
  "language_info": {
   "codemirror_mode": {
    "name": "ipython",
    "version": 3
   },
   "file_extension": ".py",
   "mimetype": "text/x-python",
   "name": "python",
   "nbconvert_exporter": "python",
   "pygments_lexer": "ipython3",
   "version": "3.6.0"
  }
 },
 "nbformat": 4,
 "nbformat_minor": 2
}
