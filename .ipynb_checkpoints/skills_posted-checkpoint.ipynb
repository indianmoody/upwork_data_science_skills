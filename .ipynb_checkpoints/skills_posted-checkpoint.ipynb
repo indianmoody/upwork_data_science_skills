{
 "cells": [
  {
   "cell_type": "code",
   "execution_count": 93,
   "metadata": {
    "collapsed": true
   },
   "outputs": [],
   "source": [
    "from bs4 import BeautifulSoup #for HTML parsing\n",
    "from selenium import webdriver #to scrap javascript code of page, 'requests' fails to scrap required data"
   ]
  },
  {
   "cell_type": "code",
   "execution_count": 94,
   "metadata": {
    "collapsed": false
   },
   "outputs": [],
   "source": [
    "skill_list = []     #list to store tagged skills in job postings\n",
    "job_type_list = []  #list to store job type : Hourly or Fixed-Price\n",
    "job_tier_list = []  #list to store job tier : Entry-Level, Intermediate or Expert"
   ]
  },
  {
   "cell_type": "code",
   "execution_count": 100,
   "metadata": {
    "collapsed": false
   },
   "outputs": [],
   "source": [
    "for i in range(80,81):\n",
    "    upwork_url = \"https://www.upwork.com/o/jobs/browse/c/data-science-analytics/?page=\" + str(i)\n",
    "    browser = webdriver.Safari()\n",
    "    browser.get(upwork_url)\n",
    "    inhtml = browser.execute_script(\"return document.body.innerHTML\")\n",
    "    soup = BeautifulSoup(inhtml, 'html.parser')\n",
    "    \n",
    "    job_tile_soup = soup.select(\"div[id='jobs-list'] section[class='job-tile']\")\n",
    "    \n",
    "    for job_tile in job_tile_soup:\n",
    "        temp_skill_list = job_tile.select(\"span[class='js-skills skills'] a\")\n",
    "        temp_skill_list = [x.text.strip() for x in temp_skill_list]\n",
    "        if len(temp_skill_list) == 0:\n",
    "            continue\n",
    "        skill_list.extend(temp_skill_list)\n",
    "        \n",
    "        temp_job_type_list = job_tile.select(\"strong[class='js-type']\")\n",
    "        temp_job_type_list = [x.text.strip() for x in temp_job_type_list]\n",
    "        temp_job_type_list = temp_job_type_list * len(temp_skill_list)\n",
    "        job_type_list.extend(temp_job_type_list)\n",
    "        \n",
    "        temp_job_tier_list = job_tile.select(\"span[class='js-contractor-tier']\")\n",
    "        temp_job_tier_list = [x.text.strip().split()[0] for x in temp_job_tier_list]\n",
    "        temp_job_tier_list = temp_job_tier_list * len(temp_skill_list)\n",
    "        job_tier_list.extend(temp_job_tier_list)\n",
    "\n",
    "    browser.quit()"
   ]
  },
  {
   "cell_type": "code",
   "execution_count": 108,
   "metadata": {
    "collapsed": false
   },
   "outputs": [
    {
     "name": "stdout",
     "output_type": "stream",
     "text": [
      "Python\tFixed-Price\tIntermediate\n",
      "Argus\tHourly\tExpert\n",
      "Financial Analysis\tHourly\tExpert\n",
      "Financial Modeling\tHourly\tExpert\n",
      "Real Estate Appraisal\tHourly\tExpert\n",
      "Real Estate IDX\tHourly\tExpert\n",
      "Real Estate Law\tHourly\tExpert\n",
      "Real Estate Management\tHourly\tExpert\n",
      "Statistics\tHourly\tExpert\n",
      "Financial Analysis\tHourly\tExpert\n"
     ]
    }
   ],
   "source": [
    "for j in range(10):\n",
    "    print(\"{}\\t{}\\t{}\".format(skill_list[j], job_type_list[j], job_tier_list[j]))"
   ]
  },
  {
   "cell_type": "code",
   "execution_count": 101,
   "metadata": {
    "collapsed": false
   },
   "outputs": [
    {
     "data": {
      "text/plain": [
       "2168"
      ]
     },
     "execution_count": 101,
     "metadata": {},
     "output_type": "execute_result"
    }
   ],
   "source": [
    "len(skill_list)"
   ]
  },
  {
   "cell_type": "code",
   "execution_count": 102,
   "metadata": {
    "collapsed": false
   },
   "outputs": [
    {
     "data": {
      "text/plain": [
       "2168"
      ]
     },
     "execution_count": 102,
     "metadata": {},
     "output_type": "execute_result"
    }
   ],
   "source": [
    "len(job_type_list)"
   ]
  },
  {
   "cell_type": "code",
   "execution_count": 103,
   "metadata": {
    "collapsed": false
   },
   "outputs": [
    {
     "data": {
      "text/plain": [
       "2168"
      ]
     },
     "execution_count": 103,
     "metadata": {},
     "output_type": "execute_result"
    }
   ],
   "source": [
    "len(job_tier_list)"
   ]
  },
  {
   "cell_type": "code",
   "execution_count": 104,
   "metadata": {
    "collapsed": true
   },
   "outputs": [],
   "source": [
    "import numpy as np\n",
    "import pandas as pd"
   ]
  },
  {
   "cell_type": "code",
   "execution_count": 106,
   "metadata": {
    "collapsed": true
   },
   "outputs": [],
   "source": [
    "skill_frame = pd.DataFrame({'Skill':skill_list, 'Job Type':job_type_list, 'Job Tier':job_tier_list})"
   ]
  },
  {
   "cell_type": "code",
   "execution_count": 107,
   "metadata": {
    "collapsed": false
   },
   "outputs": [
    {
     "data": {
      "text/html": [
       "<div>\n",
       "<style>\n",
       "    .dataframe thead tr:only-child th {\n",
       "        text-align: right;\n",
       "    }\n",
       "\n",
       "    .dataframe thead th {\n",
       "        text-align: left;\n",
       "    }\n",
       "\n",
       "    .dataframe tbody tr th {\n",
       "        vertical-align: top;\n",
       "    }\n",
       "</style>\n",
       "<table border=\"1\" class=\"dataframe\">\n",
       "  <thead>\n",
       "    <tr style=\"text-align: right;\">\n",
       "      <th></th>\n",
       "      <th>Job Tier</th>\n",
       "      <th>Job Type</th>\n",
       "      <th>Skill</th>\n",
       "    </tr>\n",
       "  </thead>\n",
       "  <tbody>\n",
       "    <tr>\n",
       "      <th>0</th>\n",
       "      <td>Intermediate</td>\n",
       "      <td>Fixed-Price</td>\n",
       "      <td>Python</td>\n",
       "    </tr>\n",
       "    <tr>\n",
       "      <th>1</th>\n",
       "      <td>Expert</td>\n",
       "      <td>Hourly</td>\n",
       "      <td>Argus</td>\n",
       "    </tr>\n",
       "    <tr>\n",
       "      <th>2</th>\n",
       "      <td>Expert</td>\n",
       "      <td>Hourly</td>\n",
       "      <td>Financial Analysis</td>\n",
       "    </tr>\n",
       "    <tr>\n",
       "      <th>3</th>\n",
       "      <td>Expert</td>\n",
       "      <td>Hourly</td>\n",
       "      <td>Financial Modeling</td>\n",
       "    </tr>\n",
       "    <tr>\n",
       "      <th>4</th>\n",
       "      <td>Expert</td>\n",
       "      <td>Hourly</td>\n",
       "      <td>Real Estate Appraisal</td>\n",
       "    </tr>\n",
       "    <tr>\n",
       "      <th>5</th>\n",
       "      <td>Expert</td>\n",
       "      <td>Hourly</td>\n",
       "      <td>Real Estate IDX</td>\n",
       "    </tr>\n",
       "    <tr>\n",
       "      <th>6</th>\n",
       "      <td>Expert</td>\n",
       "      <td>Hourly</td>\n",
       "      <td>Real Estate Law</td>\n",
       "    </tr>\n",
       "    <tr>\n",
       "      <th>7</th>\n",
       "      <td>Expert</td>\n",
       "      <td>Hourly</td>\n",
       "      <td>Real Estate Management</td>\n",
       "    </tr>\n",
       "    <tr>\n",
       "      <th>8</th>\n",
       "      <td>Expert</td>\n",
       "      <td>Hourly</td>\n",
       "      <td>Statistics</td>\n",
       "    </tr>\n",
       "    <tr>\n",
       "      <th>9</th>\n",
       "      <td>Expert</td>\n",
       "      <td>Hourly</td>\n",
       "      <td>Financial Analysis</td>\n",
       "    </tr>\n",
       "  </tbody>\n",
       "</table>\n",
       "</div>"
      ],
      "text/plain": [
       "       Job Tier     Job Type                   Skill\n",
       "0  Intermediate  Fixed-Price                  Python\n",
       "1        Expert       Hourly                   Argus\n",
       "2        Expert       Hourly      Financial Analysis\n",
       "3        Expert       Hourly      Financial Modeling\n",
       "4        Expert       Hourly   Real Estate Appraisal\n",
       "5        Expert       Hourly         Real Estate IDX\n",
       "6        Expert       Hourly         Real Estate Law\n",
       "7        Expert       Hourly  Real Estate Management\n",
       "8        Expert       Hourly              Statistics\n",
       "9        Expert       Hourly      Financial Analysis"
      ]
     },
     "execution_count": 107,
     "metadata": {},
     "output_type": "execute_result"
    }
   ],
   "source": [
    "skill_frame.head(10)"
   ]
  },
  {
   "cell_type": "code",
   "execution_count": 109,
   "metadata": {
    "collapsed": true
   },
   "outputs": [],
   "source": [
    "skill_frame.to_csv('job_postings_data.csv')"
   ]
  },
  {
   "cell_type": "code",
   "execution_count": 110,
   "metadata": {
    "collapsed": true
   },
   "outputs": [],
   "source": [
    "df = pd.read_csv('job_postings_data.csv', index_col=0)"
   ]
  },
  {
   "cell_type": "code",
   "execution_count": 111,
   "metadata": {
    "collapsed": false
   },
   "outputs": [
    {
     "data": {
      "text/html": [
       "<div>\n",
       "<style>\n",
       "    .dataframe thead tr:only-child th {\n",
       "        text-align: right;\n",
       "    }\n",
       "\n",
       "    .dataframe thead th {\n",
       "        text-align: left;\n",
       "    }\n",
       "\n",
       "    .dataframe tbody tr th {\n",
       "        vertical-align: top;\n",
       "    }\n",
       "</style>\n",
       "<table border=\"1\" class=\"dataframe\">\n",
       "  <thead>\n",
       "    <tr style=\"text-align: right;\">\n",
       "      <th></th>\n",
       "      <th>Job Tier</th>\n",
       "      <th>Job Type</th>\n",
       "      <th>Skill</th>\n",
       "    </tr>\n",
       "  </thead>\n",
       "  <tbody>\n",
       "    <tr>\n",
       "      <th>0</th>\n",
       "      <td>Intermediate</td>\n",
       "      <td>Fixed-Price</td>\n",
       "      <td>Python</td>\n",
       "    </tr>\n",
       "    <tr>\n",
       "      <th>1</th>\n",
       "      <td>Expert</td>\n",
       "      <td>Hourly</td>\n",
       "      <td>Argus</td>\n",
       "    </tr>\n",
       "    <tr>\n",
       "      <th>2</th>\n",
       "      <td>Expert</td>\n",
       "      <td>Hourly</td>\n",
       "      <td>Financial Analysis</td>\n",
       "    </tr>\n",
       "    <tr>\n",
       "      <th>3</th>\n",
       "      <td>Expert</td>\n",
       "      <td>Hourly</td>\n",
       "      <td>Financial Modeling</td>\n",
       "    </tr>\n",
       "    <tr>\n",
       "      <th>4</th>\n",
       "      <td>Expert</td>\n",
       "      <td>Hourly</td>\n",
       "      <td>Real Estate Appraisal</td>\n",
       "    </tr>\n",
       "  </tbody>\n",
       "</table>\n",
       "</div>"
      ],
      "text/plain": [
       "       Job Tier     Job Type                  Skill\n",
       "0  Intermediate  Fixed-Price                 Python\n",
       "1        Expert       Hourly                  Argus\n",
       "2        Expert       Hourly     Financial Analysis\n",
       "3        Expert       Hourly     Financial Modeling\n",
       "4        Expert       Hourly  Real Estate Appraisal"
      ]
     },
     "execution_count": 111,
     "metadata": {},
     "output_type": "execute_result"
    }
   ],
   "source": [
    "df.head()"
   ]
  },
  {
   "cell_type": "code",
   "execution_count": null,
   "metadata": {
    "collapsed": true
   },
   "outputs": [],
   "source": []
  },
  {
   "cell_type": "code",
   "execution_count": null,
   "metadata": {
    "collapsed": true
   },
   "outputs": [],
   "source": []
  },
  {
   "cell_type": "code",
   "execution_count": null,
   "metadata": {
    "collapsed": true
   },
   "outputs": [],
   "source": []
  },
  {
   "cell_type": "code",
   "execution_count": 36,
   "metadata": {
    "collapsed": true
   },
   "outputs": [],
   "source": [
    "skill_dictionary = {}"
   ]
  },
  {
   "cell_type": "code",
   "execution_count": 37,
   "metadata": {
    "collapsed": true
   },
   "outputs": [],
   "source": [
    "for sk in skill_dict:\n",
    "    skill_dictionary[sk] = skill_dictionary.get(sk, 0) + 1"
   ]
  },
  {
   "cell_type": "code",
   "execution_count": 39,
   "metadata": {
    "collapsed": false
   },
   "outputs": [
    {
     "data": {
      "text/plain": [
       "457"
      ]
     },
     "execution_count": 39,
     "metadata": {},
     "output_type": "execute_result"
    }
   ],
   "source": [
    "len(skill_dictionary)"
   ]
  },
  {
   "cell_type": "code",
   "execution_count": 43,
   "metadata": {
    "collapsed": true
   },
   "outputs": [],
   "source": [
    "skill_desc = []\n",
    "count_desc = []\n",
    "for k, v in sorted(skill_dictionary.items(), key=lambda x: x[1], reverse=True):\n",
    "    skill_desc.append(k)\n",
    "    count_desc.append(v)"
   ]
  },
  {
   "cell_type": "code",
   "execution_count": 46,
   "metadata": {
    "collapsed": false
   },
   "outputs": [
    {
     "data": {
      "text/plain": [
       "['Microsoft Excel',\n",
       " 'Data Mining',\n",
       " 'Python',\n",
       " 'Data Entry',\n",
       " 'Data Scraping',\n",
       " 'Data Analytics',\n",
       " 'Machine Learning',\n",
       " 'Internet Research',\n",
       " 'Data Science',\n",
       " 'Data Visualization',\n",
       " 'Web Scraping',\n",
       " 'Statistics',\n",
       " 'Excel VBA',\n",
       " 'Analytics',\n",
       " 'SQL',\n",
       " 'Microsoft Power BI',\n",
       " 'Financial Analysis',\n",
       " 'Lead Generation',\n",
       " 'Tableau Software',\n",
       " 'Quantitative Analysis']"
      ]
     },
     "execution_count": 46,
     "metadata": {},
     "output_type": "execute_result"
    }
   ],
   "source": [
    "skill_desc[:20]"
   ]
  },
  {
   "cell_type": "code",
   "execution_count": 47,
   "metadata": {
    "collapsed": false
   },
   "outputs": [
    {
     "data": {
      "text/plain": [
       "[136,\n",
       " 105,\n",
       " 78,\n",
       " 75,\n",
       " 71,\n",
       " 66,\n",
       " 63,\n",
       " 55,\n",
       " 52,\n",
       " 42,\n",
       " 39,\n",
       " 35,\n",
       " 34,\n",
       " 24,\n",
       " 24,\n",
       " 22,\n",
       " 21,\n",
       " 20,\n",
       " 20,\n",
       " 20]"
      ]
     },
     "execution_count": 47,
     "metadata": {},
     "output_type": "execute_result"
    }
   ],
   "source": [
    "count_desc[:20]"
   ]
  },
  {
   "cell_type": "code",
   "execution_count": null,
   "metadata": {
    "collapsed": true
   },
   "outputs": [],
   "source": []
  },
  {
   "cell_type": "code",
   "execution_count": null,
   "metadata": {
    "collapsed": true
   },
   "outputs": [],
   "source": []
  },
  {
   "cell_type": "code",
   "execution_count": null,
   "metadata": {
    "collapsed": true
   },
   "outputs": [],
   "source": []
  },
  {
   "cell_type": "code",
   "execution_count": 32,
   "metadata": {
    "collapsed": true
   },
   "outputs": [],
   "source": [
    "from selenium import webdriver"
   ]
  },
  {
   "cell_type": "code",
   "execution_count": 33,
   "metadata": {
    "collapsed": false
   },
   "outputs": [],
   "source": [
    "browser = webdriver.Safari()"
   ]
  },
  {
   "cell_type": "code",
   "execution_count": 34,
   "metadata": {
    "collapsed": true
   },
   "outputs": [],
   "source": [
    "upwork_url = \"https://www.upwork.com/o/jobs/browse/c/data-science-analytics/?page=2\""
   ]
  },
  {
   "cell_type": "code",
   "execution_count": 35,
   "metadata": {
    "collapsed": false
   },
   "outputs": [],
   "source": [
    "browser.get(upwork_url)"
   ]
  },
  {
   "cell_type": "code",
   "execution_count": 36,
   "metadata": {
    "collapsed": true
   },
   "outputs": [],
   "source": [
    "inhtml = browser.execute_script(\"return document.body.innerHTML\")"
   ]
  },
  {
   "cell_type": "code",
   "execution_count": 37,
   "metadata": {
    "collapsed": false
   },
   "outputs": [
    {
     "data": {
      "text/plain": [
       "str"
      ]
     },
     "execution_count": 37,
     "metadata": {},
     "output_type": "execute_result"
    }
   ],
   "source": [
    "type(inhtml)"
   ]
  },
  {
   "cell_type": "code",
   "execution_count": 38,
   "metadata": {
    "collapsed": false
   },
   "outputs": [],
   "source": [
    "soup = BeautifulSoup(inhtml, 'html.parser')"
   ]
  },
  {
   "cell_type": "code",
   "execution_count": 40,
   "metadata": {
    "collapsed": false
   },
   "outputs": [],
   "source": [
    "job_tile_soup = soup.select(\"div[id='jobs-list'] section[class='job-tile']\")"
   ]
  },
  {
   "cell_type": "code",
   "execution_count": 52,
   "metadata": {
    "collapsed": false
   },
   "outputs": [
    {
     "data": {
      "text/plain": [
       "<section class=\"job-tile\" data-key=\"~01b3a8d604b8c44444\" data-position=\"12\" data-qm=\"~01b3a8d604b8c44444\" data-relevance=\"{}\" id=\"job_~01b3a8d604b8c44444\" itemscope=\"\" itemtype=\"https://schema.org/JobPosting\">\n",
       "<div class=\"row\">\n",
       "<div class=\"col-md-12\">\n",
       "<h4 class=\"m-0\">\n",
       "<a class=\"job-title-link break visited\" data-key=\"~01b3a8d604b8c44444\" data-o-event-logging=\"\" data-o-log-result-click=\"search_results_title\" data-position=\"12\" data-relevance=\"{}\" href=\"/o/jobs/job/_~01b3a8d604b8c44444/\" itemprop=\"url\">\n",
       "                    Convert PDF Rhyming Dictionary to Searchable Online Dictionary\n",
       "                </a>\n",
       "</h4>\n",
       "</div>\n",
       "</div>\n",
       "<div class=\"row\">\n",
       "<div class=\"col-md-12\">\n",
       "<small class=\"text-muted display-inline-block m-sm-bottom m-sm-top\">\n",
       "<strong class=\"js-type\">Fixed-Price</strong>\n",
       "                                                    -\n",
       "                            <span class=\"js-contractor-tier\">\n",
       "                                Intermediate ($$)\n",
       "                            </span>\n",
       "                                                -\n",
       "                        <span class=\"js-budget\">\n",
       "                            Est. Budget:\n",
       "                                                            <span itemprop=\"baseSalary\">$150</span>\n",
       "</span>\n",
       "                                                    -\n",
       "                <span class=\"js-posted\">Posted\n",
       "                                        <time data-eo-relative=\"2017-09-06T07:21:17+00:00\" datetime=\"2017-09-06T07:21:17+00:00\" itemprop=\"datePosted\">4 hours ago</time>\n",
       "</span>\n",
       "</small>\n",
       "<div class=\"description break m-sm-bottom\" data-ng-controller=\"JobSearchUI.common.jobs.JobDescriptionController as jobDescriptionController\" data-ng-init=\"jobDescriptionController.description = &quot;Hi there!\\n\\nI have a PDF Rhyming Dictionary (see sample attached) which I would like to have made searchable, and placed on a website for me to access whenever needed.\\n\\nThis dictionary functions slightly differently to a normal Dictionary.\\n\\nIt is organised via Vowel Sounds. For example, the A section has:\\n\\n\\u0100 ('a' sound in 'ale')\\n\\u00c2 ('a' sound in 'care') \\n\\u01cd ('a' sound in 'add') \\n\\u00c4 ('a' sound in 'arm') \\n\\u0226 ('a' sound in 'ask')\\n\\nIt then organises words via their vowel + consonant:\\n\\ne.g. \\n\\n\\u0100\\naffray\\nairway\\narchway...\\n\\n\\u0100D\\nabrade\\nabraid\\naccolade...\\n\\n\\u0100F\\nChafe\\nsafe...\\n\\nand so on.\\n\\nWhen a word (e.g. &amp;quot;safe) is typed into the search bar, it must first find the word &amp;quot;safe&amp;quot; then the parent vowel sound (\\u0100F - therefore parent vowel is \\u0100), and then list not only all the words under \\u0100F, but all the other columns that have \\u0100 in their heading (\\u0100, \\u0100B, \\u0100CH, \\u0100CHT ...\\u0100Z etc). \\n\\nThe order it lists these resulting words is determined by the consonant in the original searched word.\\n\\nI have attached a PNG called &amp;quot;order scheme&amp;quot; - consonants are organised into families called &amp;quot;Plosives&amp;quot;, Fricatives and &amp;quot;Nasals&amp;quot;. If the starting word &amp;quot;safe&amp;quot; ends with a Fricative, (\\u0100F - fricative is F), the words are organised by 1) \\u0100F first, then the consonant directly opposite it in the png (\\u0100V), then by the rest of the rhyme columns beginning with consonants within that family (\\u0100th, \\u0100TH, \\u0100S, \\u0100Z, \\u0100sh, \\u0100zh...), then the plosives (\\u0100B, \\u0100D etc.) and nasals (\\u0100m, \\u0100n etc.).\\n\\nI hope i explained that part well. If you need any clarification, lemme know!\\n\\nOnce this is done, we can discuss the website layout. Will be very simple though (think google website, or even generally the design style of Upwork (clean, white with highlight color), and results will be presented in columns across the page (maybe stacks of 5 columns).&quot;\">\n",
       "<div class=\"\" data-eo-chars-threshold=\"250\" data-eo-truncation-html-unsafe=\"jobDescriptionController.description\" data-is-open=\"isOpen[12]\" data-key=\"~01b3a8d604b8c44444\" data-o-event-logging=\"\" data-o-log-tile-less-more=\"\" data-position=\"12\" data-relevance=\"{}\"><span class=\"\" data-ng-show=\"!isOpen\">\n",
       "<span data-ng-bind-html=\"truncatedHtml\">Hi there!\n",
       "\n",
       "I have a PDF Rhyming Dictionary (see sample attached) which I would like to have made searchable, and placed on a website for me to access whenever needed.\n",
       "\n",
       "This dictionary functions slightly differently to a normal Dictionary.\n",
       "\n",
       "It is orga ...</span>\n",
       "<!-- --><a class=\"eo-truncate-toggle-text eo-truncate-toggle-text-open\" data-ng-click=\"toggle()\" data-ng-if=\"truncationMade\" href=\"javascript:void(0)\">\n",
       "           more\n",
       "    </a><!-- -->\n",
       "</span>\n",
       "<span class=\"ng-hide\" data-ng-show=\"isOpen\">\n",
       "<span data-ng-bind-html=\"htmlToTruncate\">Hi there!\n",
       "\n",
       "I have a PDF Rhyming Dictionary (see sample attached) which I would like to have made searchable, and placed on a website for me to access whenever needed.\n",
       "\n",
       "This dictionary functions slightly differently to a normal Dictionary.\n",
       "\n",
       "It is organised via Vowel Sounds. For example, the A section has:\n",
       "\n",
       "Ā ('a' sound in 'ale')\n",
       "Â ('a' sound in 'care') \n",
       "Ǎ ('a' sound in 'add') \n",
       "Ä ('a' sound in 'arm') \n",
       "Ȧ ('a' sound in 'ask')\n",
       "\n",
       "It then organises words via their vowel + consonant:\n",
       "\n",
       "e.g. \n",
       "\n",
       "Ā\n",
       "affray\n",
       "airway\n",
       "archway...\n",
       "\n",
       "ĀD\n",
       "abrade\n",
       "abraid\n",
       "accolade...\n",
       "\n",
       "ĀF\n",
       "Chafe\n",
       "safe...\n",
       "\n",
       "and so on.\n",
       "\n",
       "When a word (e.g. \"safe) is typed into the search bar, it must first find the word \"safe\" then the parent vowel sound (ĀF - therefore parent vowel is Ā), and then list not only all the words under ĀF, but all the other columns that have Ā in their heading (Ā, ĀB, ĀCH, ĀCHT ...ĀZ etc). \n",
       "\n",
       "The order it lists these resulting words is determined by the consonant in the original searched word.\n",
       "\n",
       "I have attached a PNG called \"order scheme\" - consonants are organised into families called \"Plosives\", Fricatives and \"Nasals\". If the starting word \"safe\" ends with a Fricative, (ĀF - fricative is F), the words are organised by 1) ĀF first, then the consonant directly opposite it in the png (ĀV), then by the rest of the rhyme columns beginning with consonants within that family (Āth, ĀTH, ĀS, ĀZ, Āsh, Āzh...), then the plosives (ĀB, ĀD etc.) and nasals (Ām, Ān etc.).\n",
       "\n",
       "I hope i explained that part well. If you need any clarification, lemme know!\n",
       "\n",
       "Once this is done, we can discuss the website layout. Will be very simple though (think google website, or even generally the design style of Upwork (clean, white with highlight color), and results will be presented in columns across the page (maybe stacks of 5 columns).</span>\n",
       "<a class=\"eo-truncate-toggle-text eo-truncate-toggle-text-open\" data-ng-click=\"toggle()\" href=\"javascript:void(0)\">\n",
       "           less\n",
       "    </a>\n",
       "</span>\n",
       "</div>\n",
       "</div>\n",
       "<small class=\"text-muted\">\n",
       "<span class=\"js-skills skills\">\n",
       "<strong class=\"m-xs-right\">Skills:</strong>\n",
       "<span data-skills-truncation=\"5\">\n",
       "<a class=\"o-tag-skill\" data-key=\"~01b3a8d604b8c44444\" data-o-event-logging=\"\" data-o-log-result-click=\"search_results_skill\" data-position=\"12\" data-relevance=\"{}\" data-skill=\"data-entry\" href=\"/o/jobs/browse/skill/data-entry/\" target=\"_self\">\n",
       "<span data-ng-class=\"{highlight: false}\">Data Entry</span>\n",
       "</a>\n",
       "<a class=\"o-tag-skill\" data-key=\"~01b3a8d604b8c44444\" data-o-event-logging=\"\" data-o-log-result-click=\"search_results_skill\" data-position=\"12\" data-relevance=\"{}\" data-skill=\"javascript\" href=\"/o/jobs/browse/skill/javascript/\" target=\"_self\">\n",
       "<span data-ng-class=\"{highlight: false}\">JavaScript</span>\n",
       "</a>\n",
       "<a class=\"o-tag-skill\" data-key=\"~01b3a8d604b8c44444\" data-o-event-logging=\"\" data-o-log-result-click=\"search_results_skill\" data-position=\"12\" data-relevance=\"{}\" data-skill=\"mysql-programming\" href=\"/o/jobs/browse/skill/mysql-programming/\" target=\"_self\">\n",
       "<span data-ng-class=\"{highlight: false}\">MySQL Programming</span>\n",
       "</a>\n",
       "<a class=\"o-tag-skill\" data-key=\"~01b3a8d604b8c44444\" data-o-event-logging=\"\" data-o-log-result-click=\"search_results_skill\" data-position=\"12\" data-relevance=\"{}\" data-skill=\"pdf-conversion\" href=\"/o/jobs/browse/skill/pdf-conversion/\" target=\"_self\">\n",
       "<span data-ng-class=\"{highlight: false}\">PDF Conversion</span>\n",
       "</a>\n",
       "<a class=\"o-tag-skill\" data-key=\"~01b3a8d604b8c44444\" data-o-event-logging=\"\" data-o-log-result-click=\"search_results_skill\" data-position=\"12\" data-relevance=\"{}\" data-skill=\"php\" href=\"/o/jobs/browse/skill/php/\" target=\"_self\">\n",
       "<span data-ng-class=\"{highlight: false}\">PHP</span>\n",
       "</a>\n",
       "<a class=\"o-tag-skill ng-hide\" data-key=\"~01b3a8d604b8c44444\" data-o-event-logging=\"\" data-o-log-result-click=\"search_results_skill\" data-position=\"12\" data-relevance=\"{}\" data-skill=\"python\" href=\"/o/jobs/browse/skill/python/\" ng-show=\"vm.open\" target=\"_self\">\n",
       "<span data-ng-class=\"{highlight: false}\">Python</span>\n",
       "</a>\n",
       "<a class=\"o-tag-skill ng-hide\" data-key=\"~01b3a8d604b8c44444\" data-o-event-logging=\"\" data-o-log-result-click=\"search_results_skill\" data-position=\"12\" data-relevance=\"{}\" data-skill=\"website-development\" href=\"/o/jobs/browse/skill/website-development/\" ng-show=\"vm.open\" target=\"_self\">\n",
       "<span data-ng-class=\"{highlight: false}\">Website Development</span>\n",
       "</a>\n",
       "<!-- --><button class=\"btn btn-link m-0 p-0\" data-ng-click=\"vm.toggle()\" data-ng-if=\"!vm.open\" type=\"button\">2 more</button><!-- --><!-- --></span>\n",
       "</span>\n",
       "</small>\n",
       "</div>\n",
       "</div>\n",
       "</section>"
      ]
     },
     "execution_count": 52,
     "metadata": {},
     "output_type": "execute_result"
    }
   ],
   "source": [
    "job_tile_soup[1]"
   ]
  },
  {
   "cell_type": "code",
   "execution_count": 53,
   "metadata": {
    "collapsed": false
   },
   "outputs": [
    {
     "data": {
      "text/plain": [
       "[<a class=\"o-tag-skill\" data-key=\"~01b3a8d604b8c44444\" data-o-event-logging=\"\" data-o-log-result-click=\"search_results_skill\" data-position=\"12\" data-relevance=\"{}\" data-skill=\"data-entry\" href=\"/o/jobs/browse/skill/data-entry/\" target=\"_self\">\n",
       " <span data-ng-class=\"{highlight: false}\">Data Entry</span>\n",
       " </a>,\n",
       " <a class=\"o-tag-skill\" data-key=\"~01b3a8d604b8c44444\" data-o-event-logging=\"\" data-o-log-result-click=\"search_results_skill\" data-position=\"12\" data-relevance=\"{}\" data-skill=\"javascript\" href=\"/o/jobs/browse/skill/javascript/\" target=\"_self\">\n",
       " <span data-ng-class=\"{highlight: false}\">JavaScript</span>\n",
       " </a>,\n",
       " <a class=\"o-tag-skill\" data-key=\"~01b3a8d604b8c44444\" data-o-event-logging=\"\" data-o-log-result-click=\"search_results_skill\" data-position=\"12\" data-relevance=\"{}\" data-skill=\"mysql-programming\" href=\"/o/jobs/browse/skill/mysql-programming/\" target=\"_self\">\n",
       " <span data-ng-class=\"{highlight: false}\">MySQL Programming</span>\n",
       " </a>,\n",
       " <a class=\"o-tag-skill\" data-key=\"~01b3a8d604b8c44444\" data-o-event-logging=\"\" data-o-log-result-click=\"search_results_skill\" data-position=\"12\" data-relevance=\"{}\" data-skill=\"pdf-conversion\" href=\"/o/jobs/browse/skill/pdf-conversion/\" target=\"_self\">\n",
       " <span data-ng-class=\"{highlight: false}\">PDF Conversion</span>\n",
       " </a>,\n",
       " <a class=\"o-tag-skill\" data-key=\"~01b3a8d604b8c44444\" data-o-event-logging=\"\" data-o-log-result-click=\"search_results_skill\" data-position=\"12\" data-relevance=\"{}\" data-skill=\"php\" href=\"/o/jobs/browse/skill/php/\" target=\"_self\">\n",
       " <span data-ng-class=\"{highlight: false}\">PHP</span>\n",
       " </a>,\n",
       " <a class=\"o-tag-skill ng-hide\" data-key=\"~01b3a8d604b8c44444\" data-o-event-logging=\"\" data-o-log-result-click=\"search_results_skill\" data-position=\"12\" data-relevance=\"{}\" data-skill=\"python\" href=\"/o/jobs/browse/skill/python/\" ng-show=\"vm.open\" target=\"_self\">\n",
       " <span data-ng-class=\"{highlight: false}\">Python</span>\n",
       " </a>,\n",
       " <a class=\"o-tag-skill ng-hide\" data-key=\"~01b3a8d604b8c44444\" data-o-event-logging=\"\" data-o-log-result-click=\"search_results_skill\" data-position=\"12\" data-relevance=\"{}\" data-skill=\"website-development\" href=\"/o/jobs/browse/skill/website-development/\" ng-show=\"vm.open\" target=\"_self\">\n",
       " <span data-ng-class=\"{highlight: false}\">Website Development</span>\n",
       " </a>]"
      ]
     },
     "execution_count": 53,
     "metadata": {},
     "output_type": "execute_result"
    }
   ],
   "source": [
    "job_tile_soup[1].select(\"span[class='js-skills skills'] a\")"
   ]
  },
  {
   "cell_type": "code",
   "execution_count": 58,
   "metadata": {
    "collapsed": false
   },
   "outputs": [
    {
     "data": {
      "text/plain": [
       "'Fixed-Price'"
      ]
     },
     "execution_count": 58,
     "metadata": {},
     "output_type": "execute_result"
    }
   ],
   "source": [
    "job_tile_soup[1].select(\"strong[class='js-type']\")[0].text.strip()"
   ]
  },
  {
   "cell_type": "code",
   "execution_count": 55,
   "metadata": {
    "collapsed": false
   },
   "outputs": [
    {
     "data": {
      "text/plain": [
       "[<span class=\"js-contractor-tier\">\n",
       "                                 Intermediate ($$)\n",
       "                             </span>]"
      ]
     },
     "execution_count": 55,
     "metadata": {},
     "output_type": "execute_result"
    }
   ],
   "source": [
    "job_tile_soup[1].select(\"span[class='js-contractor-tier']\")"
   ]
  },
  {
   "cell_type": "code",
   "execution_count": null,
   "metadata": {
    "collapsed": true
   },
   "outputs": [],
   "source": []
  },
  {
   "cell_type": "code",
   "execution_count": null,
   "metadata": {
    "collapsed": true
   },
   "outputs": [],
   "source": []
  },
  {
   "cell_type": "code",
   "execution_count": null,
   "metadata": {
    "collapsed": true
   },
   "outputs": [],
   "source": []
  },
  {
   "cell_type": "code",
   "execution_count": 9,
   "metadata": {
    "collapsed": false
   },
   "outputs": [],
   "source": [
    "#single_page_skill_list = soup2.select(\"a[class='o-tag-skill ng-hide'] span\")\n",
    "#single_page_skill_list = soup2.select(\"a[class='o-tag-skill ng-hide'] span\")\n",
    "#single_page_skill_list = soup.select(\"div[id='jobs-list'] span[class='js-skills skills'] a\")"
   ]
  },
  {
   "cell_type": "code",
   "execution_count": 10,
   "metadata": {
    "collapsed": false
   },
   "outputs": [],
   "source": [
    "#single_page_skill_list = [x.text.strip() for x in single_page_skill_list]\n",
    "#single_page_skill_list"
   ]
  },
  {
   "cell_type": "code",
   "execution_count": 12,
   "metadata": {
    "collapsed": false
   },
   "outputs": [],
   "source": [
    "temp_job_type_list = soup.select(\"div[id='jobs-list']\")"
   ]
  },
  {
   "cell_type": "code",
   "execution_count": 13,
   "metadata": {
    "collapsed": false
   },
   "outputs": [
    {
     "data": {
      "text/plain": [
       "[<div class=\"col-sm-12 jobs-list\" data-o-event-logging=\"\" data-o-log-impressions=\"\" id=\"jobs-list\">\n",
       " <section class=\"job-tile\" data-key=\"~01f30bb81fee38790e\" data-position=\"11\" data-qm=\"~01f30bb81fee38790e\" data-relevance=\"{}\" id=\"job_~01f30bb81fee38790e\" itemscope=\"\" itemtype=\"https://schema.org/JobPosting\">\n",
       " <div class=\"row\">\n",
       " <div class=\"col-md-12\">\n",
       " <h4 class=\"m-0\">\n",
       " <a class=\"job-title-link break visited\" data-key=\"~01f30bb81fee38790e\" data-o-event-logging=\"\" data-o-log-result-click=\"search_results_title\" data-position=\"11\" data-relevance=\"{}\" href=\"/o/jobs/job/_~01f30bb81fee38790e/\" itemprop=\"url\">\n",
       "                     Data Scientist/ML expert for simple price prediction model\n",
       "                 </a>\n",
       " </h4>\n",
       " </div>\n",
       " </div>\n",
       " <div class=\"row\">\n",
       " <div class=\"col-md-12\">\n",
       " <small class=\"text-muted display-inline-block m-sm-bottom m-sm-top\">\n",
       " <strong class=\"js-type\">Hourly</strong>\n",
       "                                             -\n",
       "                         <span class=\"js-contractor-tier\">\n",
       "                             Intermediate ($$)\n",
       "                         </span>\n",
       "                                         -\n",
       "                     <span class=\"js-duration\">\n",
       "                         Est. Time: Less than 1 month, Less than 10 hrs/week\n",
       "                     </span>\n",
       "                                 -\n",
       "                 <span class=\"js-posted\">Posted\n",
       "                                         <time data-eo-relative=\"2017-09-06T05:55:35+00:00\" datetime=\"2017-09-06T05:55:35+00:00\" itemprop=\"datePosted\">3 hours ago</time>\n",
       " </span>\n",
       " </small>\n",
       " <div class=\"description break m-sm-bottom\" data-ng-controller=\"JobSearchUI.common.jobs.JobDescriptionController as jobDescriptionController\" data-ng-init=\"jobDescriptionController.description = &quot;We are a hotel booking app. We now want to build a simple model which predicts whether a hotel is likely to be available and profitable (for example profit margin &amp;gt; 5%), based on past data, to help speed up our search time.\\n\\nIdeally, we'd like to use Python (sklearn) for this. The first task would be to look at the data and the problem and to discuss what are the possible alternatives. We then move to actually building it.&quot;\">\n",
       " <div class=\"\" data-eo-chars-threshold=\"250\" data-eo-truncation-html-unsafe=\"jobDescriptionController.description\" data-is-open=\"isOpen[11]\" data-key=\"~01f30bb81fee38790e\" data-o-event-logging=\"\" data-o-log-tile-less-more=\"\" data-position=\"11\" data-relevance=\"{}\"><span class=\"\" data-ng-show=\"!isOpen\">\n",
       " <span data-ng-bind-html=\"truncatedHtml\">We are a hotel booking app. We now want to build a simple model which predicts whether a hotel is likely to be available and profitable (for example profit margin &gt; 5%), based on past data, to help speed up our search time.\n",
       " \n",
       " Ideally, we'd like to use ...</span>\n",
       " <!-- --><a class=\"eo-truncate-toggle-text eo-truncate-toggle-text-open\" data-ng-click=\"toggle()\" data-ng-if=\"truncationMade\" href=\"javascript:void(0)\">\n",
       "            more\n",
       "     </a><!-- -->\n",
       " </span>\n",
       " <span class=\"ng-hide\" data-ng-show=\"isOpen\">\n",
       " <span data-ng-bind-html=\"htmlToTruncate\">We are a hotel booking app. We now want to build a simple model which predicts whether a hotel is likely to be available and profitable (for example profit margin &gt; 5%), based on past data, to help speed up our search time.\n",
       " \n",
       " Ideally, we'd like to use Python (sklearn) for this. The first task would be to look at the data and the problem and to discuss what are the possible alternatives. We then move to actually building it.</span>\n",
       " <a class=\"eo-truncate-toggle-text eo-truncate-toggle-text-open\" data-ng-click=\"toggle()\" href=\"javascript:void(0)\">\n",
       "            less\n",
       "     </a>\n",
       " </span>\n",
       " </div>\n",
       " </div>\n",
       " <small class=\"text-muted\">\n",
       " </small>\n",
       " </div>\n",
       " </div>\n",
       " </section>\n",
       " <section class=\"job-tile\" data-key=\"~01a5f1d1f16f137e8f\" data-position=\"12\" data-qm=\"~01a5f1d1f16f137e8f\" data-relevance=\"{}\" id=\"job_~01a5f1d1f16f137e8f\" itemscope=\"\" itemtype=\"https://schema.org/JobPosting\">\n",
       " <div class=\"row\">\n",
       " <div class=\"col-md-12\">\n",
       " <h4 class=\"m-0\">\n",
       " <a class=\"job-title-link break visited\" data-key=\"~01a5f1d1f16f137e8f\" data-o-event-logging=\"\" data-o-log-result-click=\"search_results_title\" data-position=\"12\" data-relevance=\"{}\" href=\"/o/jobs/job/_~01a5f1d1f16f137e8f/\" itemprop=\"url\">\n",
       "                     Data Administrator for crunching data (basic) needed\n",
       "                 </a>\n",
       " </h4>\n",
       " </div>\n",
       " </div>\n",
       " <div class=\"row\">\n",
       " <div class=\"col-md-12\">\n",
       " <small class=\"text-muted display-inline-block m-sm-bottom m-sm-top\">\n",
       " <strong class=\"js-type\">Hourly</strong>\n",
       "                                             -\n",
       "                         <span class=\"js-contractor-tier\">\n",
       "                             Entry Level ($)\n",
       "                         </span>\n",
       "                                         -\n",
       "                     <span class=\"js-duration\">\n",
       "                         Est. Time: 1 to 3 months, 10-30 hrs/week\n",
       "                     </span>\n",
       "                                 -\n",
       "                 <span class=\"js-posted\">Posted\n",
       "                                         <time data-eo-relative=\"2017-09-06T05:52:12+00:00\" datetime=\"2017-09-06T05:52:12+00:00\" itemprop=\"datePosted\">3 hours ago</time>\n",
       " </span>\n",
       " </small>\n",
       " <div class=\"description break m-sm-bottom\" data-ng-controller=\"JobSearchUI.common.jobs.JobDescriptionController as jobDescriptionController\" data-ng-init=\"jobDescriptionController.description = &quot;We require a data administrator to help organise and crunch data in an excel sheet that comes in daily.\\n\\nSales orders come in daily from different channels and countries and we need you to crunch out what's the ROI per country, and also the best performing channel, using basic calculations. \\n\\nThere are only 4-5 columns of data but we need you to be extremely detail oriented and cannot miss out any numbers or have typos.\\n\\nYou need to be able to work daily for 30mins-1 hour on weekdays between 12pm - 4.30pm GMT + 8.&quot;\">\n",
       " <div class=\"\" data-eo-chars-threshold=\"250\" data-eo-truncation-html-unsafe=\"jobDescriptionController.description\" data-is-open=\"isOpen[12]\" data-key=\"~01a5f1d1f16f137e8f\" data-o-event-logging=\"\" data-o-log-tile-less-more=\"\" data-position=\"12\" data-relevance=\"{}\"><span class=\"\" data-ng-show=\"!isOpen\">\n",
       " <span data-ng-bind-html=\"truncatedHtml\">We require a data administrator to help organise and crunch data in an excel sheet that comes in daily.\n",
       " \n",
       " Sales orders come in daily from different channels and countries and we need you to crunch out what's the ROI per country, and also the best perf ...</span>\n",
       " <!-- --><a class=\"eo-truncate-toggle-text eo-truncate-toggle-text-open\" data-ng-click=\"toggle()\" data-ng-if=\"truncationMade\" href=\"javascript:void(0)\">\n",
       "            more\n",
       "     </a><!-- -->\n",
       " </span>\n",
       " <span class=\"ng-hide\" data-ng-show=\"isOpen\">\n",
       " <span data-ng-bind-html=\"htmlToTruncate\">We require a data administrator to help organise and crunch data in an excel sheet that comes in daily.\n",
       " \n",
       " Sales orders come in daily from different channels and countries and we need you to crunch out what's the ROI per country, and also the best performing channel, using basic calculations. \n",
       " \n",
       " There are only 4-5 columns of data but we need you to be extremely detail oriented and cannot miss out any numbers or have typos.\n",
       " \n",
       " You need to be able to work daily for 30mins-1 hour on weekdays between 12pm - 4.30pm GMT + 8.</span>\n",
       " <a class=\"eo-truncate-toggle-text eo-truncate-toggle-text-open\" data-ng-click=\"toggle()\" href=\"javascript:void(0)\">\n",
       "            less\n",
       "     </a>\n",
       " </span>\n",
       " </div>\n",
       " </div>\n",
       " <small class=\"text-muted\">\n",
       " <span class=\"js-skills skills\">\n",
       " <strong class=\"m-xs-right\">Skills:</strong>\n",
       " <span data-skills-truncation=\"5\">\n",
       " <a class=\"o-tag-skill\" data-key=\"~01a5f1d1f16f137e8f\" data-o-event-logging=\"\" data-o-log-result-click=\"search_results_skill\" data-position=\"12\" data-relevance=\"{}\" data-skill=\"data-mining\" href=\"/o/jobs/browse/skill/data-mining/\" target=\"_self\">\n",
       " <span data-ng-class=\"{highlight: false}\">Data Mining</span>\n",
       " </a>\n",
       " <a class=\"o-tag-skill\" data-key=\"~01a5f1d1f16f137e8f\" data-o-event-logging=\"\" data-o-log-result-click=\"search_results_skill\" data-position=\"12\" data-relevance=\"{}\" data-skill=\"microsoft-excel\" href=\"/o/jobs/browse/skill/microsoft-excel/\" target=\"_self\">\n",
       " <span data-ng-class=\"{highlight: false}\">Microsoft Excel</span>\n",
       " </a>\n",
       " </span>\n",
       " </span>\n",
       " </small>\n",
       " </div>\n",
       " </div>\n",
       " </section>\n",
       " <section class=\"job-tile\" data-key=\"~01a7bbbc9639ca6f5c\" data-position=\"13\" data-qm=\"~01a7bbbc9639ca6f5c\" data-relevance=\"{}\" id=\"job_~01a7bbbc9639ca6f5c\" itemscope=\"\" itemtype=\"https://schema.org/JobPosting\">\n",
       " <div class=\"row\">\n",
       " <div class=\"col-md-12\">\n",
       " <h4 class=\"m-0\">\n",
       " <a class=\"job-title-link break visited\" data-key=\"~01a7bbbc9639ca6f5c\" data-o-event-logging=\"\" data-o-log-result-click=\"search_results_title\" data-position=\"13\" data-relevance=\"{}\" href=\"/o/jobs/job/_~01a7bbbc9639ca6f5c/\" itemprop=\"url\">\n",
       "                     SOCIAL MEDIA DATA SPREADSHEET INPUT\n",
       "                 </a>\n",
       " </h4>\n",
       " </div>\n",
       " </div>\n",
       " <div class=\"row\">\n",
       " <div class=\"col-md-12\">\n",
       " <small class=\"text-muted display-inline-block m-sm-bottom m-sm-top\">\n",
       " <strong class=\"js-type\">Hourly</strong>\n",
       "                                             -\n",
       "                         <span class=\"js-contractor-tier\">\n",
       "                             Entry Level ($)\n",
       "                         </span>\n",
       "                                         -\n",
       "                     <span class=\"js-duration\">\n",
       "                         Est. Time: Less than 1 month, Less than 10 hrs/week\n",
       "                     </span>\n",
       "                                 -\n",
       "                 <span class=\"js-posted\">Posted\n",
       "                                         <time data-eo-relative=\"2017-09-06T05:16:00+00:00\" datetime=\"2017-09-06T05:16:00+00:00\" itemprop=\"datePosted\">4 hours ago</time>\n",
       " </span>\n",
       " </small>\n",
       " <div class=\"description break m-sm-bottom\" data-ng-controller=\"JobSearchUI.common.jobs.JobDescriptionController as jobDescriptionController\" data-ng-init='jobDescriptionController.description = \"Need someone to go into my spreadsheet and link Instagram handles to their profiles on the website. The list is about 500 names so far and will continue to grow, so this may be an on going job. Experience with Google Sheets required.\"'>\n",
       " <div class=\"\" data-eo-chars-threshold=\"250\" data-eo-truncation-html-unsafe=\"jobDescriptionController.description\" data-is-open=\"isOpen[13]\" data-key=\"~01a7bbbc9639ca6f5c\" data-o-event-logging=\"\" data-o-log-tile-less-more=\"\" data-position=\"13\" data-relevance=\"{}\"><span class=\"\" data-ng-show=\"!isOpen\">\n",
       " <span data-ng-bind-html=\"truncatedHtml\">Need someone to go into my spreadsheet and link Instagram handles to their profiles on the website. The list is about 500 names so far and will continue to grow, so this may be an on going job. Experience with Google Sheets required.</span>\n",
       " <!-- -->\n",
       " </span>\n",
       " <span class=\"ng-hide\" data-ng-show=\"isOpen\">\n",
       " <span data-ng-bind-html=\"htmlToTruncate\">Need someone to go into my spreadsheet and link Instagram handles to their profiles on the website. The list is about 500 names so far and will continue to grow, so this may be an on going job. Experience with Google Sheets required.</span>\n",
       " <a class=\"eo-truncate-toggle-text eo-truncate-toggle-text-open\" data-ng-click=\"toggle()\" href=\"javascript:void(0)\">\n",
       "            less\n",
       "     </a>\n",
       " </span>\n",
       " </div>\n",
       " </div>\n",
       " <small class=\"text-muted\">\n",
       " <span class=\"js-skills skills\">\n",
       " <strong class=\"m-xs-right\">Skills:</strong>\n",
       " <span data-skills-truncation=\"5\">\n",
       " <a class=\"o-tag-skill\" data-key=\"~01a7bbbc9639ca6f5c\" data-o-event-logging=\"\" data-o-log-result-click=\"search_results_skill\" data-position=\"13\" data-relevance=\"{}\" data-skill=\"data-entry\" href=\"/o/jobs/browse/skill/data-entry/\" target=\"_self\">\n",
       " <span data-ng-class=\"{highlight: false}\">Data Entry</span>\n",
       " </a>\n",
       " <a class=\"o-tag-skill\" data-key=\"~01a7bbbc9639ca6f5c\" data-o-event-logging=\"\" data-o-log-result-click=\"search_results_skill\" data-position=\"13\" data-relevance=\"{}\" data-skill=\"lead-generation\" href=\"/o/jobs/browse/skill/lead-generation/\" target=\"_self\">\n",
       " <span data-ng-class=\"{highlight: false}\">Lead Generation</span>\n",
       " </a>\n",
       " <a class=\"o-tag-skill\" data-key=\"~01a7bbbc9639ca6f5c\" data-o-event-logging=\"\" data-o-log-result-click=\"search_results_skill\" data-position=\"13\" data-relevance=\"{}\" data-skill=\"spreadsheets\" href=\"/o/jobs/browse/skill/spreadsheets/\" target=\"_self\">\n",
       " <span data-ng-class=\"{highlight: false}\">Spreadsheets</span>\n",
       " </a>\n",
       " <a class=\"o-tag-skill\" data-key=\"~01a7bbbc9639ca6f5c\" data-o-event-logging=\"\" data-o-log-result-click=\"search_results_skill\" data-position=\"13\" data-relevance=\"{}\" data-skill=\"web-scraping\" href=\"/o/jobs/browse/skill/web-scraping/\" target=\"_self\">\n",
       " <span data-ng-class=\"{highlight: false}\">Web Scraping</span>\n",
       " </a>\n",
       " </span>\n",
       " </span>\n",
       " </small>\n",
       " </div>\n",
       " </div>\n",
       " </section>\n",
       " <section class=\"job-tile\" data-key=\"~018e9259e16f1df7bc\" data-position=\"14\" data-qm=\"~018e9259e16f1df7bc\" data-relevance=\"{}\" id=\"job_~018e9259e16f1df7bc\" itemscope=\"\" itemtype=\"https://schema.org/JobPosting\">\n",
       " <div class=\"row\">\n",
       " <div class=\"col-md-12\">\n",
       " <h4 class=\"m-0\">\n",
       " <a class=\"job-title-link break visited\" data-key=\"~018e9259e16f1df7bc\" data-o-event-logging=\"\" data-o-log-result-click=\"search_results_title\" data-position=\"14\" data-relevance=\"{}\" href=\"/o/jobs/job/_~018e9259e16f1df7bc/\" itemprop=\"url\">\n",
       "                     Stock Trading Backtesting Tudor\n",
       "                 </a>\n",
       " </h4>\n",
       " </div>\n",
       " </div>\n",
       " <div class=\"row\">\n",
       " <div class=\"col-md-12\">\n",
       " <small class=\"text-muted display-inline-block m-sm-bottom m-sm-top\">\n",
       " <strong class=\"js-type\">Fixed-Price</strong>\n",
       "                                                     -\n",
       "                             <span class=\"js-contractor-tier\">\n",
       "                                 Intermediate ($$)\n",
       "                             </span>\n",
       "                                                 -\n",
       "                         <span class=\"js-budget\">\n",
       "                             Est. Budget:\n",
       "                                                             <span itemprop=\"baseSalary\">$100</span>\n",
       " </span>\n",
       "                                                     -\n",
       "                 <span class=\"js-posted\">Posted\n",
       "                                         <time data-eo-relative=\"2017-09-06T04:24:48+00:00\" datetime=\"2017-09-06T04:24:48+00:00\" itemprop=\"datePosted\">5 hours ago</time>\n",
       " </span>\n",
       " </small>\n",
       " <div class=\"description break m-sm-bottom\" data-ng-controller=\"JobSearchUI.common.jobs.JobDescriptionController as jobDescriptionController\" data-ng-init='jobDescriptionController.description = \"Hi!  I am looking to do some research for a project on stock trading using technical and fundamental analysis.   I would like to incorporate some backtested strategies in my research but am unsure on the appropriate tools and methods to fully accomplish the research\\n\\nI am interested in a tutor that can briefly show me the best tools and methods for backtesting stock trading strategies using fundamental and technical analysis.\\n\\nPlease make a proposal if interested and I look forward to working with you soon!\"'>\n",
       " <div class=\"\" data-eo-chars-threshold=\"250\" data-eo-truncation-html-unsafe=\"jobDescriptionController.description\" data-is-open=\"isOpen[14]\" data-key=\"~018e9259e16f1df7bc\" data-o-event-logging=\"\" data-o-log-tile-less-more=\"\" data-position=\"14\" data-relevance=\"{}\"><span class=\"\" data-ng-show=\"!isOpen\">\n",
       " <span data-ng-bind-html=\"truncatedHtml\">Hi!  I am looking to do some research for a project on stock trading using technical and fundamental analysis.   I would like to incorporate some backtested strategies in my research but am unsure on the appropriate tools and methods to fully accompl ...</span>\n",
       " <!-- --><a class=\"eo-truncate-toggle-text eo-truncate-toggle-text-open\" data-ng-click=\"toggle()\" data-ng-if=\"truncationMade\" href=\"javascript:void(0)\">\n",
       "            more\n",
       "     </a><!-- -->\n",
       " </span>\n",
       " <span class=\"ng-hide\" data-ng-show=\"isOpen\">\n",
       " <span data-ng-bind-html=\"htmlToTruncate\">Hi!  I am looking to do some research for a project on stock trading using technical and fundamental analysis.   I would like to incorporate some backtested strategies in my research but am unsure on the appropriate tools and methods to fully accomplish the research\n",
       " \n",
       " I am interested in a tutor that can briefly show me the best tools and methods for backtesting stock trading strategies using fundamental and technical analysis.\n",
       " \n",
       " Please make a proposal if interested and I look forward to working with you soon!</span>\n",
       " <a class=\"eo-truncate-toggle-text eo-truncate-toggle-text-open\" data-ng-click=\"toggle()\" href=\"javascript:void(0)\">\n",
       "            less\n",
       "     </a>\n",
       " </span>\n",
       " </div>\n",
       " </div>\n",
       " <small class=\"text-muted\">\n",
       " <span class=\"js-skills skills\">\n",
       " <strong class=\"m-xs-right\">Skills:</strong>\n",
       " <span data-skills-truncation=\"5\">\n",
       " <a class=\"o-tag-skill\" data-key=\"~018e9259e16f1df7bc\" data-o-event-logging=\"\" data-o-log-result-click=\"search_results_skill\" data-position=\"14\" data-relevance=\"{}\" data-skill=\"data-analysis\" href=\"/o/jobs/browse/skill/data-analysis/\" target=\"_self\">\n",
       " <span data-ng-class=\"{highlight: false}\">Data Analytics</span>\n",
       " </a>\n",
       " <a class=\"o-tag-skill\" data-key=\"~018e9259e16f1df7bc\" data-o-event-logging=\"\" data-o-log-result-click=\"search_results_skill\" data-position=\"14\" data-relevance=\"{}\" data-skill=\"equity-research\" href=\"/o/jobs/browse/skill/equity-research/\" target=\"_self\">\n",
       " <span data-ng-class=\"{highlight: false}\">Equity Research</span>\n",
       " </a>\n",
       " <a class=\"o-tag-skill\" data-key=\"~018e9259e16f1df7bc\" data-o-event-logging=\"\" data-o-log-result-click=\"search_results_skill\" data-position=\"14\" data-relevance=\"{}\" data-skill=\"financial-analysis\" href=\"/o/jobs/browse/skill/financial-analysis/\" target=\"_self\">\n",
       " <span data-ng-class=\"{highlight: false}\">Financial Analysis</span>\n",
       " </a>\n",
       " <a class=\"o-tag-skill\" data-key=\"~018e9259e16f1df7bc\" data-o-event-logging=\"\" data-o-log-result-click=\"search_results_skill\" data-position=\"14\" data-relevance=\"{}\" data-skill=\"forex-trading\" href=\"/o/jobs/browse/skill/forex-trading/\" target=\"_self\">\n",
       " <span data-ng-class=\"{highlight: false}\">Foreign Exchange Trading</span>\n",
       " </a>\n",
       " <a class=\"o-tag-skill\" data-key=\"~018e9259e16f1df7bc\" data-o-event-logging=\"\" data-o-log-result-click=\"search_results_skill\" data-position=\"14\" data-relevance=\"{}\" data-skill=\"machine-learning\" href=\"/o/jobs/browse/skill/machine-learning/\" target=\"_self\">\n",
       " <span data-ng-class=\"{highlight: false}\">Machine Learning</span>\n",
       " </a>\n",
       " <a class=\"o-tag-skill ng-hide\" data-key=\"~018e9259e16f1df7bc\" data-o-event-logging=\"\" data-o-log-result-click=\"search_results_skill\" data-position=\"14\" data-relevance=\"{}\" data-skill=\"quantitative-analysis\" href=\"/o/jobs/browse/skill/quantitative-analysis/\" ng-show=\"vm.open\" target=\"_self\">\n",
       " <span data-ng-class=\"{highlight: false}\">Quantitative Analysis</span>\n",
       " </a>\n",
       " <a class=\"o-tag-skill ng-hide\" data-key=\"~018e9259e16f1df7bc\" data-o-event-logging=\"\" data-o-log-result-click=\"search_results_skill\" data-position=\"14\" data-relevance=\"{}\" data-skill=\"statistics\" href=\"/o/jobs/browse/skill/statistics/\" ng-show=\"vm.open\" target=\"_self\">\n",
       " <span data-ng-class=\"{highlight: false}\">Statistics</span>\n",
       " </a>\n",
       " <!-- --><button class=\"btn btn-link m-0 p-0\" data-ng-click=\"vm.toggle()\" data-ng-if=\"!vm.open\" type=\"button\">2 more</button><!-- --><!-- --></span>\n",
       " </span>\n",
       " </small>\n",
       " </div>\n",
       " </div>\n",
       " </section>\n",
       " <section class=\"job-tile\" data-key=\"~01b79b3e5e3b020663\" data-position=\"15\" data-qm=\"~01b79b3e5e3b020663\" data-relevance=\"{}\" id=\"job_~01b79b3e5e3b020663\" itemscope=\"\" itemtype=\"https://schema.org/JobPosting\">\n",
       " <div class=\"row\">\n",
       " <div class=\"col-md-12\">\n",
       " <h4 class=\"m-0\">\n",
       " <a class=\"job-title-link break visited\" data-key=\"~01b79b3e5e3b020663\" data-o-event-logging=\"\" data-o-log-result-click=\"search_results_title\" data-position=\"15\" data-relevance=\"{}\" href=\"/o/jobs/job/_~01b79b3e5e3b020663/\" itemprop=\"url\">\n",
       "                     data analysis\n",
       "                 </a>\n",
       " </h4>\n",
       " </div>\n",
       " </div>\n",
       " <div class=\"row\">\n",
       " <div class=\"col-md-12\">\n",
       " <small class=\"text-muted display-inline-block m-sm-bottom m-sm-top\">\n",
       " <strong class=\"js-type\">Fixed-Price</strong>\n",
       "                                                     -\n",
       "                             <span class=\"js-contractor-tier\">\n",
       "                                 Intermediate ($$)\n",
       "                             </span>\n",
       "                                                 -\n",
       "                         <span class=\"js-budget\">\n",
       "                             Est. Budget:\n",
       "                                                             <span itemprop=\"baseSalary\">$60</span>\n",
       " </span>\n",
       "                                                     -\n",
       "                 <span class=\"js-posted\">Posted\n",
       "                                         <time data-eo-relative=\"2017-09-06T04:13:59+00:00\" datetime=\"2017-09-06T04:13:59+00:00\" itemprop=\"datePosted\">5 hours ago</time>\n",
       " </span>\n",
       " </small>\n",
       " <div class=\"description break m-sm-bottom\" data-ng-controller=\"JobSearchUI.common.jobs.JobDescriptionController as jobDescriptionController\" data-ng-init='jobDescriptionController.description = \"help me to fill out the answer\"'>\n",
       " <div class=\"\" data-eo-chars-threshold=\"250\" data-eo-truncation-html-unsafe=\"jobDescriptionController.description\" data-is-open=\"isOpen[15]\" data-key=\"~01b79b3e5e3b020663\" data-o-event-logging=\"\" data-o-log-tile-less-more=\"\" data-position=\"15\" data-relevance=\"{}\"><span class=\"\" data-ng-show=\"!isOpen\">\n",
       " <span data-ng-bind-html=\"truncatedHtml\">help me to fill out the answer</span>\n",
       " <!-- -->\n",
       " </span>\n",
       " <span class=\"ng-hide\" data-ng-show=\"isOpen\">\n",
       " <span data-ng-bind-html=\"htmlToTruncate\">help me to fill out the answer</span>\n",
       " <a class=\"eo-truncate-toggle-text eo-truncate-toggle-text-open\" data-ng-click=\"toggle()\" href=\"javascript:void(0)\">\n",
       "            less\n",
       "     </a>\n",
       " </span>\n",
       " </div>\n",
       " </div>\n",
       " <small class=\"text-muted\">\n",
       " <span class=\"js-skills skills\">\n",
       " <strong class=\"m-xs-right\">Skills:</strong>\n",
       " <span data-skills-truncation=\"5\">\n",
       " <a class=\"o-tag-skill\" data-key=\"~01b79b3e5e3b020663\" data-o-event-logging=\"\" data-o-log-result-click=\"search_results_skill\" data-position=\"15\" data-relevance=\"{}\" data-skill=\"data-analysis\" href=\"/o/jobs/browse/skill/data-analysis/\" target=\"_self\">\n",
       " <span data-ng-class=\"{highlight: false}\">Data Analytics</span>\n",
       " </a>\n",
       " <a class=\"o-tag-skill\" data-key=\"~01b79b3e5e3b020663\" data-o-event-logging=\"\" data-o-log-result-click=\"search_results_skill\" data-position=\"15\" data-relevance=\"{}\" data-skill=\"data-science\" href=\"/o/jobs/browse/skill/data-science/\" target=\"_self\">\n",
       " <span data-ng-class=\"{highlight: false}\">Data Science</span>\n",
       " </a>\n",
       " <a class=\"o-tag-skill\" data-key=\"~01b79b3e5e3b020663\" data-o-event-logging=\"\" data-o-log-result-click=\"search_results_skill\" data-position=\"15\" data-relevance=\"{}\" data-skill=\"machine-learning\" href=\"/o/jobs/browse/skill/machine-learning/\" target=\"_self\">\n",
       " <span data-ng-class=\"{highlight: false}\">Machine Learning</span>\n",
       " </a>\n",
       " <a class=\"o-tag-skill\" data-key=\"~01b79b3e5e3b020663\" data-o-event-logging=\"\" data-o-log-result-click=\"search_results_skill\" data-position=\"15\" data-relevance=\"{}\" data-skill=\"natural-language-processing\" href=\"/o/jobs/browse/skill/natural-language-processing/\" target=\"_self\">\n",
       " <span data-ng-class=\"{highlight: false}\">Natural Language Processing</span>\n",
       " </a>\n",
       " <a class=\"o-tag-skill\" data-key=\"~01b79b3e5e3b020663\" data-o-event-logging=\"\" data-o-log-result-click=\"search_results_skill\" data-position=\"15\" data-relevance=\"{}\" data-skill=\"python\" href=\"/o/jobs/browse/skill/python/\" target=\"_self\">\n",
       " <span data-ng-class=\"{highlight: false}\">Python</span>\n",
       " </a>\n",
       " <a class=\"o-tag-skill ng-hide\" data-key=\"~01b79b3e5e3b020663\" data-o-event-logging=\"\" data-o-log-result-click=\"search_results_skill\" data-position=\"15\" data-relevance=\"{}\" data-skill=\"r\" href=\"/o/jobs/browse/skill/r/\" ng-show=\"vm.open\" target=\"_self\">\n",
       " <span data-ng-class=\"{highlight: false}\">R</span>\n",
       " </a>\n",
       " <!-- --><button class=\"btn btn-link m-0 p-0\" data-ng-click=\"vm.toggle()\" data-ng-if=\"!vm.open\" type=\"button\">1 more</button><!-- --><!-- --></span>\n",
       " </span>\n",
       " </small>\n",
       " </div>\n",
       " </div>\n",
       " </section>\n",
       " <section class=\"job-tile\" data-key=\"~01fb9ae9bd03501509\" data-position=\"16\" data-qm=\"~01fb9ae9bd03501509\" data-relevance=\"{}\" id=\"job_~01fb9ae9bd03501509\" itemscope=\"\" itemtype=\"https://schema.org/JobPosting\">\n",
       " <div class=\"row\">\n",
       " <div class=\"col-md-12\">\n",
       " <h4 class=\"m-0\">\n",
       " <a class=\"job-title-link break visited\" data-key=\"~01fb9ae9bd03501509\" data-o-event-logging=\"\" data-o-log-result-click=\"search_results_title\" data-position=\"16\" data-relevance=\"{}\" href=\"/o/jobs/job/_~01fb9ae9bd03501509/\" itemprop=\"url\">\n",
       "                     Manual Data Extraction, Transformation, and Loading\n",
       "                 </a>\n",
       " </h4>\n",
       " </div>\n",
       " </div>\n",
       " <div class=\"row\">\n",
       " <div class=\"col-md-12\">\n",
       " <small class=\"text-muted display-inline-block m-sm-bottom m-sm-top\">\n",
       " <strong class=\"js-type\">Hourly</strong>\n",
       "                                             -\n",
       "                         <span class=\"js-contractor-tier\">\n",
       "                             Entry Level ($)\n",
       "                         </span>\n",
       "                                         -\n",
       "                     <span class=\"js-duration\">\n",
       "                         Est. Time: 3 to 6 months, 30+ hrs/week\n",
       "                     </span>\n",
       "                                 -\n",
       "                 <span class=\"js-posted\">Posted\n",
       "                                         <time data-eo-relative=\"2017-09-06T03:38:03+00:00\" datetime=\"2017-09-06T03:38:03+00:00\" itemprop=\"datePosted\">5 hours ago</time>\n",
       " </span>\n",
       " </small>\n",
       " <div class=\"description break m-sm-bottom\" data-ng-controller=\"JobSearchUI.common.jobs.JobDescriptionController as jobDescriptionController\" data-ng-init='jobDescriptionController.description = \"We need a US based detail oriented individual to extract data from images of water meter registers, transform the date into a numerical reading, and load the reading into an excel spreadsheet. We have thousands of images and accuracy is critical to the success of the project. We will provide a spreadsheet with hyperlinks to time stamped images. The individual will open the image, read the meter face, and enter the data into the correct cell in the provided spreadsheet. Experience reading Water Meters will provide a sound foundation for a successful completion of the job.\\n\\nWe will require contractors to sign an NDA before start of work.\"'>\n",
       " <div class=\"\" data-eo-chars-threshold=\"250\" data-eo-truncation-html-unsafe=\"jobDescriptionController.description\" data-is-open=\"isOpen[16]\" data-key=\"~01fb9ae9bd03501509\" data-o-event-logging=\"\" data-o-log-tile-less-more=\"\" data-position=\"16\" data-relevance=\"{}\"><span class=\"\" data-ng-show=\"!isOpen\">\n",
       " <span data-ng-bind-html=\"truncatedHtml\">We need a US based detail oriented individual to extract data from images of water meter registers, transform the date into a numerical reading, and load the reading into an excel spreadsheet. We have thousands of images and accuracy is critical to t ...</span>\n",
       " <!-- --><a class=\"eo-truncate-toggle-text eo-truncate-toggle-text-open\" data-ng-click=\"toggle()\" data-ng-if=\"truncationMade\" href=\"javascript:void(0)\">\n",
       "            more\n",
       "     </a><!-- -->\n",
       " </span>\n",
       " <span class=\"ng-hide\" data-ng-show=\"isOpen\">\n",
       " <span data-ng-bind-html=\"htmlToTruncate\">We need a US based detail oriented individual to extract data from images of water meter registers, transform the date into a numerical reading, and load the reading into an excel spreadsheet. We have thousands of images and accuracy is critical to the success of the project. We will provide a spreadsheet with hyperlinks to time stamped images. The individual will open the image, read the meter face, and enter the data into the correct cell in the provided spreadsheet. Experience reading Water Meters will provide a sound foundation for a successful completion of the job.\n",
       " \n",
       " We will require contractors to sign an NDA before start of work.</span>\n",
       " <a class=\"eo-truncate-toggle-text eo-truncate-toggle-text-open\" data-ng-click=\"toggle()\" href=\"javascript:void(0)\">\n",
       "            less\n",
       "     </a>\n",
       " </span>\n",
       " </div>\n",
       " </div>\n",
       " <small class=\"text-muted\">\n",
       " </small>\n",
       " </div>\n",
       " </div>\n",
       " </section>\n",
       " <section class=\"job-tile\" data-key=\"~015fce19fbd36895a9\" data-position=\"17\" data-qm=\"~015fce19fbd36895a9\" data-relevance=\"{}\" id=\"job_~015fce19fbd36895a9\" itemscope=\"\" itemtype=\"https://schema.org/JobPosting\">\n",
       " <div class=\"row\">\n",
       " <div class=\"col-md-12\">\n",
       " <h4 class=\"m-0\">\n",
       " <a class=\"job-title-link break visited\" data-key=\"~015fce19fbd36895a9\" data-o-event-logging=\"\" data-o-log-result-click=\"search_results_title\" data-position=\"17\" data-relevance=\"{}\" href=\"/o/jobs/job/_~015fce19fbd36895a9/\" itemprop=\"url\">\n",
       "                     PDF to XML\n",
       "                 </a>\n",
       " </h4>\n",
       " </div>\n",
       " </div>\n",
       " <div class=\"row\">\n",
       " <div class=\"col-md-12\">\n",
       " <small class=\"text-muted display-inline-block m-sm-bottom m-sm-top\">\n",
       " <strong class=\"js-type\">Fixed-Price</strong>\n",
       "                                                     -\n",
       "                             <span class=\"js-contractor-tier\">\n",
       "                                 Expert ($$$)\n",
       "                             </span>\n",
       "                                                 -\n",
       "                         <span class=\"js-budget\">\n",
       "                             Est. Budget:\n",
       "                                                             <span itemprop=\"baseSalary\">$50</span>\n",
       " </span>\n",
       "                                                     -\n",
       "                 <span class=\"js-posted\">Posted\n",
       "                                         <time data-eo-relative=\"2017-09-06T03:33:51+00:00\" datetime=\"2017-09-06T03:33:51+00:00\" itemprop=\"datePosted\">6 hours ago</time>\n",
       " </span>\n",
       " </small>\n",
       " <div class=\"description break m-sm-bottom\" data-ng-controller=\"JobSearchUI.common.jobs.JobDescriptionController as jobDescriptionController\" data-ng-init='jobDescriptionController.description = \"Looking for an experienced person who can (1) convert PDF to XML, (2) clean the data, and (3) do the sentiment analyses using python. The structure of the content in PDF files (like headers or paragraphing) are expected to preserved for data cleaning and other analyses need.\\n\\nThere are only 20 pdf files for now.\"'>\n",
       " <div class=\"\" data-eo-chars-threshold=\"250\" data-eo-truncation-html-unsafe=\"jobDescriptionController.description\" data-is-open=\"isOpen[17]\" data-key=\"~015fce19fbd36895a9\" data-o-event-logging=\"\" data-o-log-tile-less-more=\"\" data-position=\"17\" data-relevance=\"{}\"><span class=\"\" data-ng-show=\"!isOpen\">\n",
       " <span data-ng-bind-html=\"truncatedHtml\">Looking for an experienced person who can (1) convert PDF to XML, (2) clean the data, and (3) do the sentiment analyses using python. The structure of the content in PDF files (like headers or paragraphing) are expected to preserved for data cleaning ...</span>\n",
       " <!-- --><a class=\"eo-truncate-toggle-text eo-truncate-toggle-text-open\" data-ng-click=\"toggle()\" data-ng-if=\"truncationMade\" href=\"javascript:void(0)\">\n",
       "            more\n",
       "     </a><!-- -->\n",
       " </span>\n",
       " <span class=\"ng-hide\" data-ng-show=\"isOpen\">\n",
       " <span data-ng-bind-html=\"htmlToTruncate\">Looking for an experienced person who can (1) convert PDF to XML, (2) clean the data, and (3) do the sentiment analyses using python. The structure of the content in PDF files (like headers or paragraphing) are expected to preserved for data cleaning and other analyses need.\n",
       " \n",
       " There are only 20 pdf files for now.</span>\n",
       " <a class=\"eo-truncate-toggle-text eo-truncate-toggle-text-open\" data-ng-click=\"toggle()\" href=\"javascript:void(0)\">\n",
       "            less\n",
       "     </a>\n",
       " </span>\n",
       " </div>\n",
       " </div>\n",
       " <small class=\"text-muted\">\n",
       " </small>\n",
       " </div>\n",
       " </div>\n",
       " </section>\n",
       " <section class=\"job-tile\" data-key=\"~017a41881b9e089664\" data-position=\"18\" data-qm=\"~017a41881b9e089664\" data-relevance=\"{}\" id=\"job_~017a41881b9e089664\" itemscope=\"\" itemtype=\"https://schema.org/JobPosting\">\n",
       " <div class=\"row\">\n",
       " <div class=\"col-md-12\">\n",
       " <h4 class=\"m-0\">\n",
       " <a class=\"job-title-link break visited\" data-key=\"~017a41881b9e089664\" data-o-event-logging=\"\" data-o-log-result-click=\"search_results_title\" data-position=\"18\" data-relevance=\"{}\" href=\"/o/jobs/job/_~017a41881b9e089664/\" itemprop=\"url\">\n",
       "                     Help create ERD (entity relationship daigram) using Microsoft Access\n",
       "                 </a>\n",
       " </h4>\n",
       " </div>\n",
       " </div>\n",
       " <div class=\"row\">\n",
       " <div class=\"col-md-12\">\n",
       " <small class=\"text-muted display-inline-block m-sm-bottom m-sm-top\">\n",
       " <strong class=\"js-type\">Hourly</strong>\n",
       "                                             -\n",
       "                         <span class=\"js-contractor-tier\">\n",
       "                             Entry Level ($)\n",
       "                         </span>\n",
       "                                         -\n",
       "                     <span class=\"js-duration\">\n",
       "                         Est. Time: Less than 1 week, Less than 10 hrs/week\n",
       "                     </span>\n",
       "                                 -\n",
       "                 <span class=\"js-posted\">Posted\n",
       "                                         <time data-eo-relative=\"2017-09-06T03:25:51+00:00\" datetime=\"2017-09-06T03:25:51+00:00\" itemprop=\"datePosted\">6 hours ago</time>\n",
       " </span>\n",
       " </small>\n",
       " <div class=\"description break m-sm-bottom\" data-ng-controller=\"JobSearchUI.common.jobs.JobDescriptionController as jobDescriptionController\" data-ng-init='jobDescriptionController.description = \"I need help creating a simple ERD via Microsoft access. I have al the primary keys and foreign keys that need to be implemented. Just need someone to help me using access. Need this done now\"'>\n",
       " <div class=\"\" data-eo-chars-threshold=\"250\" data-eo-truncation-html-unsafe=\"jobDescriptionController.description\" data-is-open=\"isOpen[18]\" data-key=\"~017a41881b9e089664\" data-o-event-logging=\"\" data-o-log-tile-less-more=\"\" data-position=\"18\" data-relevance=\"{}\"><span class=\"\" data-ng-show=\"!isOpen\">\n",
       " <span data-ng-bind-html=\"truncatedHtml\">I need help creating a simple ERD via Microsoft access. I have al the primary keys and foreign keys that need to be implemented. Just need someone to help me using access. Need this done now</span>\n",
       " <!-- -->\n",
       " </span>\n",
       " <span class=\"ng-hide\" data-ng-show=\"isOpen\">\n",
       " <span data-ng-bind-html=\"htmlToTruncate\">I need help creating a simple ERD via Microsoft access. I have al the primary keys and foreign keys that need to be implemented. Just need someone to help me using access. Need this done now</span>\n",
       " <a class=\"eo-truncate-toggle-text eo-truncate-toggle-text-open\" data-ng-click=\"toggle()\" href=\"javascript:void(0)\">\n",
       "            less\n",
       "     </a>\n",
       " </span>\n",
       " </div>\n",
       " </div>\n",
       " <small class=\"text-muted\">\n",
       " <span class=\"js-skills skills\">\n",
       " <strong class=\"m-xs-right\">Skills:</strong>\n",
       " <span data-skills-truncation=\"5\">\n",
       " <a class=\"o-tag-skill\" data-key=\"~017a41881b9e089664\" data-o-event-logging=\"\" data-o-log-result-click=\"search_results_skill\" data-position=\"18\" data-relevance=\"{}\" data-skill=\"database-design\" href=\"/o/jobs/browse/skill/database-design/\" target=\"_self\">\n",
       " <span data-ng-class=\"{highlight: false}\">Database Design</span>\n",
       " </a>\n",
       " <a class=\"o-tag-skill\" data-key=\"~017a41881b9e089664\" data-o-event-logging=\"\" data-o-log-result-click=\"search_results_skill\" data-position=\"18\" data-relevance=\"{}\" data-skill=\"microsoft-access\" href=\"/o/jobs/browse/skill/microsoft-access/\" target=\"_self\">\n",
       " <span data-ng-class=\"{highlight: false}\">Microsoft Access Administration</span>\n",
       " </a>\n",
       " <a class=\"o-tag-skill\" data-key=\"~017a41881b9e089664\" data-o-event-logging=\"\" data-o-log-result-click=\"search_results_skill\" data-position=\"18\" data-relevance=\"{}\" data-skill=\"microsoft-access-programming\" href=\"/o/jobs/browse/skill/microsoft-access-programming/\" target=\"_self\">\n",
       " <span data-ng-class=\"{highlight: false}\">Microsoft Access Programming</span>\n",
       " </a>\n",
       " </span>\n",
       " </span>\n",
       " </small>\n",
       " </div>\n",
       " </div>\n",
       " </section>\n",
       " <section class=\"job-tile\" data-key=\"~01c06f45ffdd4d3e16\" data-position=\"19\" data-qm=\"~01c06f45ffdd4d3e16\" data-relevance=\"{}\" id=\"job_~01c06f45ffdd4d3e16\" itemscope=\"\" itemtype=\"https://schema.org/JobPosting\">\n",
       " <div class=\"row\">\n",
       " <div class=\"col-md-12\">\n",
       " <h4 class=\"m-0\">\n",
       " <a class=\"job-title-link break visited\" data-key=\"~01c06f45ffdd4d3e16\" data-o-event-logging=\"\" data-o-log-result-click=\"search_results_title\" data-position=\"19\" data-relevance=\"{}\" href=\"/o/jobs/job/_~01c06f45ffdd4d3e16/\" itemprop=\"url\">\n",
       "                     ERD using Microsoft Access\n",
       "                 </a>\n",
       " </h4>\n",
       " </div>\n",
       " </div>\n",
       " <div class=\"row\">\n",
       " <div class=\"col-md-12\">\n",
       " <small class=\"text-muted display-inline-block m-sm-bottom m-sm-top\">\n",
       " <strong class=\"js-type\">Hourly</strong>\n",
       "                                             -\n",
       "                         <span class=\"js-contractor-tier\">\n",
       "                             Entry Level ($)\n",
       "                         </span>\n",
       "                                         -\n",
       "                     <span class=\"js-duration\">\n",
       "                         Est. Time: Less than 1 week, Less than 10 hrs/week\n",
       "                     </span>\n",
       "                                 -\n",
       "                 <span class=\"js-posted\">Posted\n",
       "                                         <time data-eo-relative=\"2017-09-06T02:35:02+00:00\" datetime=\"2017-09-06T02:35:02+00:00\" itemprop=\"datePosted\">7 hours ago</time>\n",
       " </span>\n",
       " </small>\n",
       " <div class=\"description break m-sm-bottom\" data-ng-controller=\"JobSearchUI.common.jobs.JobDescriptionController as jobDescriptionController\" data-ng-init='jobDescriptionController.description = \"Looking for someone to help me create ERD via excel to reflect a mock website for a class . Need this asap\\n\\nThis job was posted from a mobile device, so please pardon any typos or any missing details.\"'>\n",
       " <div class=\"\" data-eo-chars-threshold=\"250\" data-eo-truncation-html-unsafe=\"jobDescriptionController.description\" data-is-open=\"isOpen[19]\" data-key=\"~01c06f45ffdd4d3e16\" data-o-event-logging=\"\" data-o-log-tile-less-more=\"\" data-position=\"19\" data-relevance=\"{}\"><span class=\"\" data-ng-show=\"!isOpen\">\n",
       " <span data-ng-bind-html=\"truncatedHtml\">Looking for someone to help me create ERD via excel to reflect a mock website for a class . Need this asap\n",
       " \n",
       " This job was posted from a mobile device, so please pardon any typos or any missing details.</span>\n",
       " <!-- -->\n",
       " </span>\n",
       " <span class=\"ng-hide\" data-ng-show=\"isOpen\">\n",
       " <span data-ng-bind-html=\"htmlToTruncate\">Looking for someone to help me create ERD via excel to reflect a mock website for a class . Need this asap\n",
       " \n",
       " This job was posted from a mobile device, so please pardon any typos or any missing details.</span>\n",
       " <a class=\"eo-truncate-toggle-text eo-truncate-toggle-text-open\" data-ng-click=\"toggle()\" href=\"javascript:void(0)\">\n",
       "            less\n",
       "     </a>\n",
       " </span>\n",
       " </div>\n",
       " </div>\n",
       " <small class=\"text-muted\">\n",
       " <span class=\"js-skills skills\">\n",
       " <strong class=\"m-xs-right\">Skills:</strong>\n",
       " <span data-skills-truncation=\"5\">\n",
       " <a class=\"o-tag-skill\" data-key=\"~01c06f45ffdd4d3e16\" data-o-event-logging=\"\" data-o-log-result-click=\"search_results_skill\" data-position=\"19\" data-relevance=\"{}\" data-skill=\"microsoft-access\" href=\"/o/jobs/browse/skill/microsoft-access/\" target=\"_self\">\n",
       " <span data-ng-class=\"{highlight: false}\">Microsoft Access Administration</span>\n",
       " </a>\n",
       " <a class=\"o-tag-skill\" data-key=\"~01c06f45ffdd4d3e16\" data-o-event-logging=\"\" data-o-log-result-click=\"search_results_skill\" data-position=\"19\" data-relevance=\"{}\" data-skill=\"microsoft-access-programming\" href=\"/o/jobs/browse/skill/microsoft-access-programming/\" target=\"_self\">\n",
       " <span data-ng-class=\"{highlight: false}\">Microsoft Access Programming</span>\n",
       " </a>\n",
       " <a class=\"o-tag-skill\" data-key=\"~01c06f45ffdd4d3e16\" data-o-event-logging=\"\" data-o-log-result-click=\"search_results_skill\" data-position=\"19\" data-relevance=\"{}\" data-skill=\"microsoft-excel\" href=\"/o/jobs/browse/skill/microsoft-excel/\" target=\"_self\">\n",
       " <span data-ng-class=\"{highlight: false}\">Microsoft Excel</span>\n",
       " </a>\n",
       " </span>\n",
       " </span>\n",
       " </small>\n",
       " </div>\n",
       " </div>\n",
       " </section>\n",
       " <section class=\"job-tile\" data-key=\"~01cebfd671d40e40cf\" data-position=\"20\" data-qm=\"~01cebfd671d40e40cf\" data-relevance=\"{}\" id=\"job_~01cebfd671d40e40cf\" itemscope=\"\" itemtype=\"https://schema.org/JobPosting\">\n",
       " <div class=\"row\">\n",
       " <div class=\"col-md-12\">\n",
       " <h4 class=\"m-0\">\n",
       " <a class=\"job-title-link break visited\" data-key=\"~01cebfd671d40e40cf\" data-o-event-logging=\"\" data-o-log-result-click=\"search_results_title\" data-position=\"20\" data-relevance=\"{}\" href=\"/o/jobs/job/_~01cebfd671d40e40cf/\" itemprop=\"url\">\n",
       "                     Database Build- Psychologists, counselors, psychiatrists, social workers.\n",
       "                 </a>\n",
       " </h4>\n",
       " </div>\n",
       " </div>\n",
       " <div class=\"row\">\n",
       " <div class=\"col-md-12\">\n",
       " <small class=\"text-muted display-inline-block m-sm-bottom m-sm-top\">\n",
       " <strong class=\"js-type\">Fixed-Price</strong>\n",
       "                                                     -\n",
       "                             <span class=\"js-contractor-tier\">\n",
       "                                 Entry Level ($)\n",
       "                             </span>\n",
       "                                                 -\n",
       "                         <span class=\"js-budget\">\n",
       "                             Est. Budget:\n",
       "                                                             <span itemprop=\"baseSalary\">$60</span>\n",
       " </span>\n",
       "                                                     -\n",
       "                 <span class=\"js-posted\">Posted\n",
       "                                         <time data-eo-relative=\"2017-09-06T02:19:31+00:00\" datetime=\"2017-09-06T02:19:31+00:00\" itemprop=\"datePosted\">7 hours ago</time>\n",
       " </span>\n",
       " </small>\n",
       " <div class=\"description break m-sm-bottom\" data-ng-controller=\"JobSearchUI.common.jobs.JobDescriptionController as jobDescriptionController\" data-ng-init='jobDescriptionController.description = \"Hello,\\n\\nI am looking to find a person that can build a database.\\n\\n The database is to include Psychologists (preference), Social Workers, Psychiatrists, and Counselors  In and around Melbourne (preference) and Sydney Australia. \\n\\n\\nThe data is to be provided back in an excel spreadsheet and contain at least the following categories. \\n\\nCompany Name\\nCompany Location\\nContact Number\\nWebsite\\nEmail Address \\n\\nI look forward to hearing from you. \\n\\nKindly\\n\\nNatalie\"'>\n",
       " <div class=\"\" data-eo-chars-threshold=\"250\" data-eo-truncation-html-unsafe=\"jobDescriptionController.description\" data-is-open=\"isOpen[20]\" data-key=\"~01cebfd671d40e40cf\" data-o-event-logging=\"\" data-o-log-tile-less-more=\"\" data-position=\"20\" data-relevance=\"{}\"><span class=\"\" data-ng-show=\"!isOpen\">\n",
       " <span data-ng-bind-html=\"truncatedHtml\">Hello,\n",
       " \n",
       " I am looking to find a person that can build a database.\n",
       " \n",
       "  The database is to include Psychologists (preference), Social Workers, Psychiatrists, and Counselors  In and around Melbourne (preference) and Sydney Australia. \n",
       " \n",
       " \n",
       " The data is to be p ...</span>\n",
       " <!-- --><a class=\"eo-truncate-toggle-text eo-truncate-toggle-text-open\" data-ng-click=\"toggle()\" data-ng-if=\"truncationMade\" href=\"javascript:void(0)\">\n",
       "            more\n",
       "     </a><!-- -->\n",
       " </span>\n",
       " <span class=\"ng-hide\" data-ng-show=\"isOpen\">\n",
       " <span data-ng-bind-html=\"htmlToTruncate\">Hello,\n",
       " \n",
       " I am looking to find a person that can build a database.\n",
       " \n",
       "  The database is to include Psychologists (preference), Social Workers, Psychiatrists, and Counselors  In and around Melbourne (preference) and Sydney Australia. \n",
       " \n",
       " \n",
       " The data is to be provided back in an excel spreadsheet and contain at least the following categories. \n",
       " \n",
       " Company Name\n",
       " Company Location\n",
       " Contact Number\n",
       " Website\n",
       " Email Address \n",
       " \n",
       " I look forward to hearing from you. \n",
       " \n",
       " Kindly\n",
       " \n",
       " Natalie</span>\n",
       " <a class=\"eo-truncate-toggle-text eo-truncate-toggle-text-open\" data-ng-click=\"toggle()\" href=\"javascript:void(0)\">\n",
       "            less\n",
       "     </a>\n",
       " </span>\n",
       " </div>\n",
       " </div>\n",
       " <small class=\"text-muted\">\n",
       " <span class=\"js-skills skills\">\n",
       " <strong class=\"m-xs-right\">Skills:</strong>\n",
       " <span data-skills-truncation=\"5\">\n",
       " <a class=\"o-tag-skill\" data-key=\"~01cebfd671d40e40cf\" data-o-event-logging=\"\" data-o-log-result-click=\"search_results_skill\" data-position=\"20\" data-relevance=\"{}\" data-skill=\"administrative-support\" href=\"/o/jobs/browse/skill/administrative-support/\" target=\"_self\">\n",
       " <span data-ng-class=\"{highlight: false}\">Administrative Support</span>\n",
       " </a>\n",
       " <a class=\"o-tag-skill\" data-key=\"~01cebfd671d40e40cf\" data-o-event-logging=\"\" data-o-log-result-click=\"search_results_skill\" data-position=\"20\" data-relevance=\"{}\" data-skill=\"data-entry\" href=\"/o/jobs/browse/skill/data-entry/\" target=\"_self\">\n",
       " <span data-ng-class=\"{highlight: false}\">Data Entry</span>\n",
       " </a>\n",
       " <a class=\"o-tag-skill\" data-key=\"~01cebfd671d40e40cf\" data-o-event-logging=\"\" data-o-log-result-click=\"search_results_skill\" data-position=\"20\" data-relevance=\"{}\" data-skill=\"database-adminstration\" href=\"/o/jobs/browse/skill/database-adminstration/\" target=\"_self\">\n",
       " <span data-ng-class=\"{highlight: false}\">Database Administration</span>\n",
       " </a>\n",
       " <a class=\"o-tag-skill\" data-key=\"~01cebfd671d40e40cf\" data-o-event-logging=\"\" data-o-log-result-click=\"search_results_skill\" data-position=\"20\" data-relevance=\"{}\" data-skill=\"database-design\" href=\"/o/jobs/browse/skill/database-design/\" target=\"_self\">\n",
       " <span data-ng-class=\"{highlight: false}\">Database Design</span>\n",
       " </a>\n",
       " <a class=\"o-tag-skill\" data-key=\"~01cebfd671d40e40cf\" data-o-event-logging=\"\" data-o-log-result-click=\"search_results_skill\" data-position=\"20\" data-relevance=\"{}\" data-skill=\"internet-research\" href=\"/o/jobs/browse/skill/internet-research/\" target=\"_self\">\n",
       " <span data-ng-class=\"{highlight: false}\">Internet Research</span>\n",
       " </a>\n",
       " <a class=\"o-tag-skill ng-hide\" data-key=\"~01cebfd671d40e40cf\" data-o-event-logging=\"\" data-o-log-result-click=\"search_results_skill\" data-position=\"20\" data-relevance=\"{}\" data-skill=\"microsoft-excel\" href=\"/o/jobs/browse/skill/microsoft-excel/\" ng-show=\"vm.open\" target=\"_self\">\n",
       " <span data-ng-class=\"{highlight: false}\">Microsoft Excel</span>\n",
       " </a>\n",
       " <!-- --><button class=\"btn btn-link m-0 p-0\" data-ng-click=\"vm.toggle()\" data-ng-if=\"!vm.open\" type=\"button\">1 more</button><!-- --><!-- --></span>\n",
       " </span>\n",
       " </small>\n",
       " </div>\n",
       " </div>\n",
       " </section>\n",
       " <footer><div data-ng-controller=\"JobSearchUI.common.pagination.PagesController as pagesController\">\n",
       " <ul class=\"pagination pagination-sm m-xs-top-bottom pull-right\">\n",
       " <li class=\"previous\">\n",
       " <a data-ng-click=\"pagesController.changePage(1, 'previous')\" data-o-js-prevent-default=\"\" data-page=\"1\" href=\"/o/jobs/browse/c/data-science-analytics/\">\n",
       "                     Previous\n",
       "                 </a>\n",
       " </li>\n",
       " <li class=\"non-active-page\">\n",
       " <a data-ng-click=\"pagesController.changePage(1, 'page_number')\" data-o-js-prevent-default=\"\" data-page=\"1\" href=\"/o/jobs/browse/c/data-science-analytics/\">\n",
       "                         1\n",
       "                     </a>\n",
       " </li>\n",
       " <li class=\"active\">\n",
       " <span>2 <span class=\"sr-only\">(current)</span></span>\n",
       " </li>\n",
       " <li class=\"non-active-page\">\n",
       " <a data-ng-click=\"pagesController.changePage(3, 'page_number')\" data-o-js-prevent-default=\"\" data-page=\"3\" href=\"/o/jobs/browse/c/data-science-analytics/?page=3\">\n",
       "                         3\n",
       "                     </a>\n",
       " </li>\n",
       " <li class=\"non-active-page\">\n",
       " <a data-ng-click=\"pagesController.changePage(4, 'page_number')\" data-o-js-prevent-default=\"\" data-page=\"4\" href=\"/o/jobs/browse/c/data-science-analytics/?page=4\">\n",
       "                         4\n",
       "                     </a>\n",
       " </li>\n",
       " <li class=\"non-active-page\">\n",
       " <a data-ng-click=\"pagesController.changePage(5, 'page_number')\" data-o-js-prevent-default=\"\" data-page=\"5\" href=\"/o/jobs/browse/c/data-science-analytics/?page=5\">\n",
       "                         5\n",
       "                     </a>\n",
       " </li>\n",
       " <li class=\"next\">\n",
       " <a data-ng-click=\"pagesController.changePage(3, 'next')\" data-o-js-prevent-default=\"\" data-page=\"3\" href=\"/o/jobs/browse/c/data-science-analytics/?page=3\">\n",
       "                     Next\n",
       "                 </a>\n",
       " </li>\n",
       " </ul>\n",
       " </div>\n",
       " </footer>\n",
       " </div>]"
      ]
     },
     "execution_count": 13,
     "metadata": {},
     "output_type": "execute_result"
    }
   ],
   "source": [
    "temp_job_type_list"
   ]
  },
  {
   "cell_type": "code",
   "execution_count": 14,
   "metadata": {
    "collapsed": false
   },
   "outputs": [],
   "source": [
    "job_type = soup.select(\"div[id='jobs-list'] strong[class='js-type']\")"
   ]
  },
  {
   "cell_type": "code",
   "execution_count": 3,
   "metadata": {
    "collapsed": false
   },
   "outputs": [
    {
     "ename": "NameError",
     "evalue": "name 'job_type' is not defined",
     "output_type": "error",
     "traceback": [
      "\u001b[0;31m---------------------------------------------------------------------------\u001b[0m",
      "\u001b[0;31mNameError\u001b[0m                                 Traceback (most recent call last)",
      "\u001b[0;32m<ipython-input-3-ff62983515b9>\u001b[0m in \u001b[0;36m<module>\u001b[0;34m()\u001b[0m\n\u001b[0;32m----> 1\u001b[0;31m \u001b[0mjob_type\u001b[0m\u001b[0;34m[\u001b[0m\u001b[0;36m4\u001b[0m\u001b[0;34m]\u001b[0m\u001b[0;34m.\u001b[0m\u001b[0mtext\u001b[0m\u001b[0;34m\u001b[0m\u001b[0m\n\u001b[0m",
      "\u001b[0;31mNameError\u001b[0m: name 'job_type' is not defined"
     ]
    }
   ],
   "source": [
    "job_type[4].text"
   ]
  },
  {
   "cell_type": "code",
   "execution_count": 17,
   "metadata": {
    "collapsed": false
   },
   "outputs": [],
   "source": [
    "job_tier = soup.select(\"div[id='jobs-list'] span[class='js-contractor-tier']\")"
   ]
  },
  {
   "cell_type": "code",
   "execution_count": 26,
   "metadata": {
    "collapsed": false
   },
   "outputs": [
    {
     "data": {
      "text/plain": [
       "'Intermediate'"
      ]
     },
     "execution_count": 26,
     "metadata": {},
     "output_type": "execute_result"
    }
   ],
   "source": [
    "job_tier[0].text.strip().split()[0]"
   ]
  },
  {
   "cell_type": "code",
   "execution_count": 27,
   "metadata": {
    "collapsed": false
   },
   "outputs": [],
   "source": [
    "skills = soup.select(\"div[id='jobs-list'] span[class='js-skills skills'] a\")"
   ]
  },
  {
   "cell_type": "code",
   "execution_count": 32,
   "metadata": {
    "collapsed": false
   },
   "outputs": [
    {
     "data": {
      "text/plain": [
       "'Microsoft Excel'"
      ]
     },
     "execution_count": 32,
     "metadata": {},
     "output_type": "execute_result"
    }
   ],
   "source": [
    "skills[1].text.strip()"
   ]
  },
  {
   "cell_type": "code",
   "execution_count": null,
   "metadata": {
    "collapsed": true
   },
   "outputs": [],
   "source": []
  },
  {
   "cell_type": "code",
   "execution_count": 79,
   "metadata": {
    "collapsed": false
   },
   "outputs": [
    {
     "ename": "URLError",
     "evalue": "<urlopen error [Errno 61] Connection refused>",
     "output_type": "error",
     "traceback": [
      "\u001b[0;31m---------------------------------------------------------------------------\u001b[0m",
      "\u001b[0;31mConnectionRefusedError\u001b[0m                    Traceback (most recent call last)",
      "\u001b[0;32m/anaconda/lib/python3.6/urllib/request.py\u001b[0m in \u001b[0;36mdo_open\u001b[0;34m(self, http_class, req, **http_conn_args)\u001b[0m\n\u001b[1;32m   1317\u001b[0m                 h.request(req.get_method(), req.selector, req.data, headers,\n\u001b[0;32m-> 1318\u001b[0;31m                           encode_chunked=req.has_header('Transfer-encoding'))\n\u001b[0m\u001b[1;32m   1319\u001b[0m             \u001b[0;32mexcept\u001b[0m \u001b[0mOSError\u001b[0m \u001b[0;32mas\u001b[0m \u001b[0merr\u001b[0m\u001b[0;34m:\u001b[0m \u001b[0;31m# timeout error\u001b[0m\u001b[0;34m\u001b[0m\u001b[0m\n",
      "\u001b[0;32m/anaconda/lib/python3.6/http/client.py\u001b[0m in \u001b[0;36mrequest\u001b[0;34m(self, method, url, body, headers, encode_chunked)\u001b[0m\n\u001b[1;32m   1238\u001b[0m         \u001b[0;34m\"\"\"Send a complete request to the server.\"\"\"\u001b[0m\u001b[0;34m\u001b[0m\u001b[0m\n\u001b[0;32m-> 1239\u001b[0;31m         \u001b[0mself\u001b[0m\u001b[0;34m.\u001b[0m\u001b[0m_send_request\u001b[0m\u001b[0;34m(\u001b[0m\u001b[0mmethod\u001b[0m\u001b[0;34m,\u001b[0m \u001b[0murl\u001b[0m\u001b[0;34m,\u001b[0m \u001b[0mbody\u001b[0m\u001b[0;34m,\u001b[0m \u001b[0mheaders\u001b[0m\u001b[0;34m,\u001b[0m \u001b[0mencode_chunked\u001b[0m\u001b[0;34m)\u001b[0m\u001b[0;34m\u001b[0m\u001b[0m\n\u001b[0m\u001b[1;32m   1240\u001b[0m \u001b[0;34m\u001b[0m\u001b[0m\n",
      "\u001b[0;32m/anaconda/lib/python3.6/http/client.py\u001b[0m in \u001b[0;36m_send_request\u001b[0;34m(self, method, url, body, headers, encode_chunked)\u001b[0m\n\u001b[1;32m   1284\u001b[0m             \u001b[0mbody\u001b[0m \u001b[0;34m=\u001b[0m \u001b[0m_encode\u001b[0m\u001b[0;34m(\u001b[0m\u001b[0mbody\u001b[0m\u001b[0;34m,\u001b[0m \u001b[0;34m'body'\u001b[0m\u001b[0;34m)\u001b[0m\u001b[0;34m\u001b[0m\u001b[0m\n\u001b[0;32m-> 1285\u001b[0;31m         \u001b[0mself\u001b[0m\u001b[0;34m.\u001b[0m\u001b[0mendheaders\u001b[0m\u001b[0;34m(\u001b[0m\u001b[0mbody\u001b[0m\u001b[0;34m,\u001b[0m \u001b[0mencode_chunked\u001b[0m\u001b[0;34m=\u001b[0m\u001b[0mencode_chunked\u001b[0m\u001b[0;34m)\u001b[0m\u001b[0;34m\u001b[0m\u001b[0m\n\u001b[0m\u001b[1;32m   1286\u001b[0m \u001b[0;34m\u001b[0m\u001b[0m\n",
      "\u001b[0;32m/anaconda/lib/python3.6/http/client.py\u001b[0m in \u001b[0;36mendheaders\u001b[0;34m(self, message_body, encode_chunked)\u001b[0m\n\u001b[1;32m   1233\u001b[0m             \u001b[0;32mraise\u001b[0m \u001b[0mCannotSendHeader\u001b[0m\u001b[0;34m(\u001b[0m\u001b[0;34m)\u001b[0m\u001b[0;34m\u001b[0m\u001b[0m\n\u001b[0;32m-> 1234\u001b[0;31m         \u001b[0mself\u001b[0m\u001b[0;34m.\u001b[0m\u001b[0m_send_output\u001b[0m\u001b[0;34m(\u001b[0m\u001b[0mmessage_body\u001b[0m\u001b[0;34m,\u001b[0m \u001b[0mencode_chunked\u001b[0m\u001b[0;34m=\u001b[0m\u001b[0mencode_chunked\u001b[0m\u001b[0;34m)\u001b[0m\u001b[0;34m\u001b[0m\u001b[0m\n\u001b[0m\u001b[1;32m   1235\u001b[0m \u001b[0;34m\u001b[0m\u001b[0m\n",
      "\u001b[0;32m/anaconda/lib/python3.6/http/client.py\u001b[0m in \u001b[0;36m_send_output\u001b[0;34m(self, message_body, encode_chunked)\u001b[0m\n\u001b[1;32m   1025\u001b[0m         \u001b[0;32mdel\u001b[0m \u001b[0mself\u001b[0m\u001b[0;34m.\u001b[0m\u001b[0m_buffer\u001b[0m\u001b[0;34m[\u001b[0m\u001b[0;34m:\u001b[0m\u001b[0;34m]\u001b[0m\u001b[0;34m\u001b[0m\u001b[0m\n\u001b[0;32m-> 1026\u001b[0;31m         \u001b[0mself\u001b[0m\u001b[0;34m.\u001b[0m\u001b[0msend\u001b[0m\u001b[0;34m(\u001b[0m\u001b[0mmsg\u001b[0m\u001b[0;34m)\u001b[0m\u001b[0;34m\u001b[0m\u001b[0m\n\u001b[0m\u001b[1;32m   1027\u001b[0m \u001b[0;34m\u001b[0m\u001b[0m\n",
      "\u001b[0;32m/anaconda/lib/python3.6/http/client.py\u001b[0m in \u001b[0;36msend\u001b[0;34m(self, data)\u001b[0m\n\u001b[1;32m    963\u001b[0m             \u001b[0;32mif\u001b[0m \u001b[0mself\u001b[0m\u001b[0;34m.\u001b[0m\u001b[0mauto_open\u001b[0m\u001b[0;34m:\u001b[0m\u001b[0;34m\u001b[0m\u001b[0m\n\u001b[0;32m--> 964\u001b[0;31m                 \u001b[0mself\u001b[0m\u001b[0;34m.\u001b[0m\u001b[0mconnect\u001b[0m\u001b[0;34m(\u001b[0m\u001b[0;34m)\u001b[0m\u001b[0;34m\u001b[0m\u001b[0m\n\u001b[0m\u001b[1;32m    965\u001b[0m             \u001b[0;32melse\u001b[0m\u001b[0;34m:\u001b[0m\u001b[0;34m\u001b[0m\u001b[0m\n",
      "\u001b[0;32m/anaconda/lib/python3.6/http/client.py\u001b[0m in \u001b[0;36mconnect\u001b[0;34m(self)\u001b[0m\n\u001b[1;32m    935\u001b[0m         self.sock = self._create_connection(\n\u001b[0;32m--> 936\u001b[0;31m             (self.host,self.port), self.timeout, self.source_address)\n\u001b[0m\u001b[1;32m    937\u001b[0m         \u001b[0mself\u001b[0m\u001b[0;34m.\u001b[0m\u001b[0msock\u001b[0m\u001b[0;34m.\u001b[0m\u001b[0msetsockopt\u001b[0m\u001b[0;34m(\u001b[0m\u001b[0msocket\u001b[0m\u001b[0;34m.\u001b[0m\u001b[0mIPPROTO_TCP\u001b[0m\u001b[0;34m,\u001b[0m \u001b[0msocket\u001b[0m\u001b[0;34m.\u001b[0m\u001b[0mTCP_NODELAY\u001b[0m\u001b[0;34m,\u001b[0m \u001b[0;36m1\u001b[0m\u001b[0;34m)\u001b[0m\u001b[0;34m\u001b[0m\u001b[0m\n",
      "\u001b[0;32m/anaconda/lib/python3.6/socket.py\u001b[0m in \u001b[0;36mcreate_connection\u001b[0;34m(address, timeout, source_address)\u001b[0m\n\u001b[1;32m    721\u001b[0m     \u001b[0;32mif\u001b[0m \u001b[0merr\u001b[0m \u001b[0;32mis\u001b[0m \u001b[0;32mnot\u001b[0m \u001b[0;32mNone\u001b[0m\u001b[0;34m:\u001b[0m\u001b[0;34m\u001b[0m\u001b[0m\n\u001b[0;32m--> 722\u001b[0;31m         \u001b[0;32mraise\u001b[0m \u001b[0merr\u001b[0m\u001b[0;34m\u001b[0m\u001b[0m\n\u001b[0m\u001b[1;32m    723\u001b[0m     \u001b[0;32melse\u001b[0m\u001b[0;34m:\u001b[0m\u001b[0;34m\u001b[0m\u001b[0m\n",
      "\u001b[0;32m/anaconda/lib/python3.6/socket.py\u001b[0m in \u001b[0;36mcreate_connection\u001b[0;34m(address, timeout, source_address)\u001b[0m\n\u001b[1;32m    712\u001b[0m                 \u001b[0msock\u001b[0m\u001b[0;34m.\u001b[0m\u001b[0mbind\u001b[0m\u001b[0;34m(\u001b[0m\u001b[0msource_address\u001b[0m\u001b[0;34m)\u001b[0m\u001b[0;34m\u001b[0m\u001b[0m\n\u001b[0;32m--> 713\u001b[0;31m             \u001b[0msock\u001b[0m\u001b[0;34m.\u001b[0m\u001b[0mconnect\u001b[0m\u001b[0;34m(\u001b[0m\u001b[0msa\u001b[0m\u001b[0;34m)\u001b[0m\u001b[0;34m\u001b[0m\u001b[0m\n\u001b[0m\u001b[1;32m    714\u001b[0m             \u001b[0;32mreturn\u001b[0m \u001b[0msock\u001b[0m\u001b[0;34m\u001b[0m\u001b[0m\n",
      "\u001b[0;31mConnectionRefusedError\u001b[0m: [Errno 61] Connection refused",
      "\nDuring handling of the above exception, another exception occurred:\n",
      "\u001b[0;31mURLError\u001b[0m                                  Traceback (most recent call last)",
      "\u001b[0;32m<ipython-input-79-2888d0b6de2b>\u001b[0m in \u001b[0;36m<module>\u001b[0;34m()\u001b[0m\n\u001b[0;32m----> 1\u001b[0;31m \u001b[0mbrowser\u001b[0m\u001b[0;34m.\u001b[0m\u001b[0mquit\u001b[0m\u001b[0;34m(\u001b[0m\u001b[0;34m)\u001b[0m\u001b[0;34m\u001b[0m\u001b[0m\n\u001b[0m",
      "\u001b[0;32m/anaconda/lib/python3.6/site-packages/selenium/webdriver/safari/webdriver.py\u001b[0m in \u001b[0;36mquit\u001b[0;34m(self)\u001b[0m\n\u001b[1;32m     59\u001b[0m         \"\"\"\n\u001b[1;32m     60\u001b[0m         \u001b[0;32mtry\u001b[0m\u001b[0;34m:\u001b[0m\u001b[0;34m\u001b[0m\u001b[0m\n\u001b[0;32m---> 61\u001b[0;31m             \u001b[0mRemoteWebDriver\u001b[0m\u001b[0;34m.\u001b[0m\u001b[0mquit\u001b[0m\u001b[0;34m(\u001b[0m\u001b[0mself\u001b[0m\u001b[0;34m)\u001b[0m\u001b[0;34m\u001b[0m\u001b[0m\n\u001b[0m\u001b[1;32m     62\u001b[0m         \u001b[0;32mexcept\u001b[0m \u001b[0mhttp_client\u001b[0m\u001b[0;34m.\u001b[0m\u001b[0mBadStatusLine\u001b[0m\u001b[0;34m:\u001b[0m\u001b[0;34m\u001b[0m\u001b[0m\n\u001b[1;32m     63\u001b[0m             \u001b[0;32mpass\u001b[0m\u001b[0;34m\u001b[0m\u001b[0m\n",
      "\u001b[0;32m/anaconda/lib/python3.6/site-packages/selenium/webdriver/remote/webdriver.py\u001b[0m in \u001b[0;36mquit\u001b[0;34m(self)\u001b[0m\n\u001b[1;32m    590\u001b[0m         \"\"\"\n\u001b[1;32m    591\u001b[0m         \u001b[0;32mtry\u001b[0m\u001b[0;34m:\u001b[0m\u001b[0;34m\u001b[0m\u001b[0m\n\u001b[0;32m--> 592\u001b[0;31m             \u001b[0mself\u001b[0m\u001b[0;34m.\u001b[0m\u001b[0mexecute\u001b[0m\u001b[0;34m(\u001b[0m\u001b[0mCommand\u001b[0m\u001b[0;34m.\u001b[0m\u001b[0mQUIT\u001b[0m\u001b[0;34m)\u001b[0m\u001b[0;34m\u001b[0m\u001b[0m\n\u001b[0m\u001b[1;32m    593\u001b[0m         \u001b[0;32mfinally\u001b[0m\u001b[0;34m:\u001b[0m\u001b[0;34m\u001b[0m\u001b[0m\n\u001b[1;32m    594\u001b[0m             \u001b[0mself\u001b[0m\u001b[0;34m.\u001b[0m\u001b[0mstop_client\u001b[0m\u001b[0;34m(\u001b[0m\u001b[0;34m)\u001b[0m\u001b[0;34m\u001b[0m\u001b[0m\n",
      "\u001b[0;32m/anaconda/lib/python3.6/site-packages/selenium/webdriver/remote/webdriver.py\u001b[0m in \u001b[0;36mexecute\u001b[0;34m(self, driver_command, params)\u001b[0m\n\u001b[1;32m    293\u001b[0m \u001b[0;34m\u001b[0m\u001b[0m\n\u001b[1;32m    294\u001b[0m         \u001b[0mparams\u001b[0m \u001b[0;34m=\u001b[0m \u001b[0mself\u001b[0m\u001b[0;34m.\u001b[0m\u001b[0m_wrap_value\u001b[0m\u001b[0;34m(\u001b[0m\u001b[0mparams\u001b[0m\u001b[0;34m)\u001b[0m\u001b[0;34m\u001b[0m\u001b[0m\n\u001b[0;32m--> 295\u001b[0;31m         \u001b[0mresponse\u001b[0m \u001b[0;34m=\u001b[0m \u001b[0mself\u001b[0m\u001b[0;34m.\u001b[0m\u001b[0mcommand_executor\u001b[0m\u001b[0;34m.\u001b[0m\u001b[0mexecute\u001b[0m\u001b[0;34m(\u001b[0m\u001b[0mdriver_command\u001b[0m\u001b[0;34m,\u001b[0m \u001b[0mparams\u001b[0m\u001b[0;34m)\u001b[0m\u001b[0;34m\u001b[0m\u001b[0m\n\u001b[0m\u001b[1;32m    296\u001b[0m         \u001b[0;32mif\u001b[0m \u001b[0mresponse\u001b[0m\u001b[0;34m:\u001b[0m\u001b[0;34m\u001b[0m\u001b[0m\n\u001b[1;32m    297\u001b[0m             \u001b[0mself\u001b[0m\u001b[0;34m.\u001b[0m\u001b[0merror_handler\u001b[0m\u001b[0;34m.\u001b[0m\u001b[0mcheck_response\u001b[0m\u001b[0;34m(\u001b[0m\u001b[0mresponse\u001b[0m\u001b[0;34m)\u001b[0m\u001b[0;34m\u001b[0m\u001b[0m\n",
      "\u001b[0;32m/anaconda/lib/python3.6/site-packages/selenium/webdriver/remote/remote_connection.py\u001b[0m in \u001b[0;36mexecute\u001b[0;34m(self, command, params)\u001b[0m\n\u001b[1;32m    462\u001b[0m         \u001b[0mpath\u001b[0m \u001b[0;34m=\u001b[0m \u001b[0mstring\u001b[0m\u001b[0;34m.\u001b[0m\u001b[0mTemplate\u001b[0m\u001b[0;34m(\u001b[0m\u001b[0mcommand_info\u001b[0m\u001b[0;34m[\u001b[0m\u001b[0;36m1\u001b[0m\u001b[0;34m]\u001b[0m\u001b[0;34m)\u001b[0m\u001b[0;34m.\u001b[0m\u001b[0msubstitute\u001b[0m\u001b[0;34m(\u001b[0m\u001b[0mparams\u001b[0m\u001b[0;34m)\u001b[0m\u001b[0;34m\u001b[0m\u001b[0m\n\u001b[1;32m    463\u001b[0m         \u001b[0murl\u001b[0m \u001b[0;34m=\u001b[0m \u001b[0;34m'%s%s'\u001b[0m \u001b[0;34m%\u001b[0m \u001b[0;34m(\u001b[0m\u001b[0mself\u001b[0m\u001b[0;34m.\u001b[0m\u001b[0m_url\u001b[0m\u001b[0;34m,\u001b[0m \u001b[0mpath\u001b[0m\u001b[0;34m)\u001b[0m\u001b[0;34m\u001b[0m\u001b[0m\n\u001b[0;32m--> 464\u001b[0;31m         \u001b[0;32mreturn\u001b[0m \u001b[0mself\u001b[0m\u001b[0;34m.\u001b[0m\u001b[0m_request\u001b[0m\u001b[0;34m(\u001b[0m\u001b[0mcommand_info\u001b[0m\u001b[0;34m[\u001b[0m\u001b[0;36m0\u001b[0m\u001b[0;34m]\u001b[0m\u001b[0;34m,\u001b[0m \u001b[0murl\u001b[0m\u001b[0;34m,\u001b[0m \u001b[0mbody\u001b[0m\u001b[0;34m=\u001b[0m\u001b[0mdata\u001b[0m\u001b[0;34m)\u001b[0m\u001b[0;34m\u001b[0m\u001b[0m\n\u001b[0m\u001b[1;32m    465\u001b[0m \u001b[0;34m\u001b[0m\u001b[0m\n\u001b[1;32m    466\u001b[0m     \u001b[0;32mdef\u001b[0m \u001b[0m_request\u001b[0m\u001b[0;34m(\u001b[0m\u001b[0mself\u001b[0m\u001b[0;34m,\u001b[0m \u001b[0mmethod\u001b[0m\u001b[0;34m,\u001b[0m \u001b[0murl\u001b[0m\u001b[0;34m,\u001b[0m \u001b[0mbody\u001b[0m\u001b[0;34m=\u001b[0m\u001b[0;32mNone\u001b[0m\u001b[0;34m)\u001b[0m\u001b[0;34m:\u001b[0m\u001b[0;34m\u001b[0m\u001b[0m\n",
      "\u001b[0;32m/anaconda/lib/python3.6/site-packages/selenium/webdriver/remote/remote_connection.py\u001b[0m in \u001b[0;36m_request\u001b[0;34m(self, method, url, body)\u001b[0m\n\u001b[1;32m    524\u001b[0m                 opener = url_request.build_opener(url_request.HTTPRedirectHandler(),\n\u001b[1;32m    525\u001b[0m                                                   HttpErrorHandler())\n\u001b[0;32m--> 526\u001b[0;31m             \u001b[0mresp\u001b[0m \u001b[0;34m=\u001b[0m \u001b[0mopener\u001b[0m\u001b[0;34m.\u001b[0m\u001b[0mopen\u001b[0m\u001b[0;34m(\u001b[0m\u001b[0mrequest\u001b[0m\u001b[0;34m,\u001b[0m \u001b[0mtimeout\u001b[0m\u001b[0;34m=\u001b[0m\u001b[0mself\u001b[0m\u001b[0;34m.\u001b[0m\u001b[0m_timeout\u001b[0m\u001b[0;34m)\u001b[0m\u001b[0;34m\u001b[0m\u001b[0m\n\u001b[0m\u001b[1;32m    527\u001b[0m             \u001b[0mstatuscode\u001b[0m \u001b[0;34m=\u001b[0m \u001b[0mresp\u001b[0m\u001b[0;34m.\u001b[0m\u001b[0mcode\u001b[0m\u001b[0;34m\u001b[0m\u001b[0m\n\u001b[1;32m    528\u001b[0m             \u001b[0;32mif\u001b[0m \u001b[0;32mnot\u001b[0m \u001b[0mhasattr\u001b[0m\u001b[0;34m(\u001b[0m\u001b[0mresp\u001b[0m\u001b[0;34m,\u001b[0m \u001b[0;34m'getheader'\u001b[0m\u001b[0;34m)\u001b[0m\u001b[0;34m:\u001b[0m\u001b[0;34m\u001b[0m\u001b[0m\n",
      "\u001b[0;32m/anaconda/lib/python3.6/urllib/request.py\u001b[0m in \u001b[0;36mopen\u001b[0;34m(self, fullurl, data, timeout)\u001b[0m\n\u001b[1;32m    524\u001b[0m             \u001b[0mreq\u001b[0m \u001b[0;34m=\u001b[0m \u001b[0mmeth\u001b[0m\u001b[0;34m(\u001b[0m\u001b[0mreq\u001b[0m\u001b[0;34m)\u001b[0m\u001b[0;34m\u001b[0m\u001b[0m\n\u001b[1;32m    525\u001b[0m \u001b[0;34m\u001b[0m\u001b[0m\n\u001b[0;32m--> 526\u001b[0;31m         \u001b[0mresponse\u001b[0m \u001b[0;34m=\u001b[0m \u001b[0mself\u001b[0m\u001b[0;34m.\u001b[0m\u001b[0m_open\u001b[0m\u001b[0;34m(\u001b[0m\u001b[0mreq\u001b[0m\u001b[0;34m,\u001b[0m \u001b[0mdata\u001b[0m\u001b[0;34m)\u001b[0m\u001b[0;34m\u001b[0m\u001b[0m\n\u001b[0m\u001b[1;32m    527\u001b[0m \u001b[0;34m\u001b[0m\u001b[0m\n\u001b[1;32m    528\u001b[0m         \u001b[0;31m# post-process response\u001b[0m\u001b[0;34m\u001b[0m\u001b[0;34m\u001b[0m\u001b[0m\n",
      "\u001b[0;32m/anaconda/lib/python3.6/urllib/request.py\u001b[0m in \u001b[0;36m_open\u001b[0;34m(self, req, data)\u001b[0m\n\u001b[1;32m    542\u001b[0m         \u001b[0mprotocol\u001b[0m \u001b[0;34m=\u001b[0m \u001b[0mreq\u001b[0m\u001b[0;34m.\u001b[0m\u001b[0mtype\u001b[0m\u001b[0;34m\u001b[0m\u001b[0m\n\u001b[1;32m    543\u001b[0m         result = self._call_chain(self.handle_open, protocol, protocol +\n\u001b[0;32m--> 544\u001b[0;31m                                   '_open', req)\n\u001b[0m\u001b[1;32m    545\u001b[0m         \u001b[0;32mif\u001b[0m \u001b[0mresult\u001b[0m\u001b[0;34m:\u001b[0m\u001b[0;34m\u001b[0m\u001b[0m\n\u001b[1;32m    546\u001b[0m             \u001b[0;32mreturn\u001b[0m \u001b[0mresult\u001b[0m\u001b[0;34m\u001b[0m\u001b[0m\n",
      "\u001b[0;32m/anaconda/lib/python3.6/urllib/request.py\u001b[0m in \u001b[0;36m_call_chain\u001b[0;34m(self, chain, kind, meth_name, *args)\u001b[0m\n\u001b[1;32m    502\u001b[0m         \u001b[0;32mfor\u001b[0m \u001b[0mhandler\u001b[0m \u001b[0;32min\u001b[0m \u001b[0mhandlers\u001b[0m\u001b[0;34m:\u001b[0m\u001b[0;34m\u001b[0m\u001b[0m\n\u001b[1;32m    503\u001b[0m             \u001b[0mfunc\u001b[0m \u001b[0;34m=\u001b[0m \u001b[0mgetattr\u001b[0m\u001b[0;34m(\u001b[0m\u001b[0mhandler\u001b[0m\u001b[0;34m,\u001b[0m \u001b[0mmeth_name\u001b[0m\u001b[0;34m)\u001b[0m\u001b[0;34m\u001b[0m\u001b[0m\n\u001b[0;32m--> 504\u001b[0;31m             \u001b[0mresult\u001b[0m \u001b[0;34m=\u001b[0m \u001b[0mfunc\u001b[0m\u001b[0;34m(\u001b[0m\u001b[0;34m*\u001b[0m\u001b[0margs\u001b[0m\u001b[0;34m)\u001b[0m\u001b[0;34m\u001b[0m\u001b[0m\n\u001b[0m\u001b[1;32m    505\u001b[0m             \u001b[0;32mif\u001b[0m \u001b[0mresult\u001b[0m \u001b[0;32mis\u001b[0m \u001b[0;32mnot\u001b[0m \u001b[0;32mNone\u001b[0m\u001b[0;34m:\u001b[0m\u001b[0;34m\u001b[0m\u001b[0m\n\u001b[1;32m    506\u001b[0m                 \u001b[0;32mreturn\u001b[0m \u001b[0mresult\u001b[0m\u001b[0;34m\u001b[0m\u001b[0m\n",
      "\u001b[0;32m/anaconda/lib/python3.6/urllib/request.py\u001b[0m in \u001b[0;36mhttp_open\u001b[0;34m(self, req)\u001b[0m\n\u001b[1;32m   1344\u001b[0m \u001b[0;34m\u001b[0m\u001b[0m\n\u001b[1;32m   1345\u001b[0m     \u001b[0;32mdef\u001b[0m \u001b[0mhttp_open\u001b[0m\u001b[0;34m(\u001b[0m\u001b[0mself\u001b[0m\u001b[0;34m,\u001b[0m \u001b[0mreq\u001b[0m\u001b[0;34m)\u001b[0m\u001b[0;34m:\u001b[0m\u001b[0;34m\u001b[0m\u001b[0m\n\u001b[0;32m-> 1346\u001b[0;31m         \u001b[0;32mreturn\u001b[0m \u001b[0mself\u001b[0m\u001b[0;34m.\u001b[0m\u001b[0mdo_open\u001b[0m\u001b[0;34m(\u001b[0m\u001b[0mhttp\u001b[0m\u001b[0;34m.\u001b[0m\u001b[0mclient\u001b[0m\u001b[0;34m.\u001b[0m\u001b[0mHTTPConnection\u001b[0m\u001b[0;34m,\u001b[0m \u001b[0mreq\u001b[0m\u001b[0;34m)\u001b[0m\u001b[0;34m\u001b[0m\u001b[0m\n\u001b[0m\u001b[1;32m   1347\u001b[0m \u001b[0;34m\u001b[0m\u001b[0m\n\u001b[1;32m   1348\u001b[0m     \u001b[0mhttp_request\u001b[0m \u001b[0;34m=\u001b[0m \u001b[0mAbstractHTTPHandler\u001b[0m\u001b[0;34m.\u001b[0m\u001b[0mdo_request_\u001b[0m\u001b[0;34m\u001b[0m\u001b[0m\n",
      "\u001b[0;32m/anaconda/lib/python3.6/urllib/request.py\u001b[0m in \u001b[0;36mdo_open\u001b[0;34m(self, http_class, req, **http_conn_args)\u001b[0m\n\u001b[1;32m   1318\u001b[0m                           encode_chunked=req.has_header('Transfer-encoding'))\n\u001b[1;32m   1319\u001b[0m             \u001b[0;32mexcept\u001b[0m \u001b[0mOSError\u001b[0m \u001b[0;32mas\u001b[0m \u001b[0merr\u001b[0m\u001b[0;34m:\u001b[0m \u001b[0;31m# timeout error\u001b[0m\u001b[0;34m\u001b[0m\u001b[0m\n\u001b[0;32m-> 1320\u001b[0;31m                 \u001b[0;32mraise\u001b[0m \u001b[0mURLError\u001b[0m\u001b[0;34m(\u001b[0m\u001b[0merr\u001b[0m\u001b[0;34m)\u001b[0m\u001b[0;34m\u001b[0m\u001b[0m\n\u001b[0m\u001b[1;32m   1321\u001b[0m             \u001b[0mr\u001b[0m \u001b[0;34m=\u001b[0m \u001b[0mh\u001b[0m\u001b[0;34m.\u001b[0m\u001b[0mgetresponse\u001b[0m\u001b[0;34m(\u001b[0m\u001b[0;34m)\u001b[0m\u001b[0;34m\u001b[0m\u001b[0m\n\u001b[1;32m   1322\u001b[0m         \u001b[0;32mexcept\u001b[0m\u001b[0;34m:\u001b[0m\u001b[0;34m\u001b[0m\u001b[0m\n",
      "\u001b[0;31mURLError\u001b[0m: <urlopen error [Errno 61] Connection refused>"
     ]
    }
   ],
   "source": [
    "browser.quit()"
   ]
  },
  {
   "cell_type": "code",
   "execution_count": 25,
   "metadata": {
    "collapsed": false
   },
   "outputs": [
    {
     "data": {
      "text/plain": [
       "'\\nfor i in range(1,3):\\n    upwork_url = \"https://www.upwork.com/o/jobs/browse/c/data-science-analytics/?page=\" + str(i)\\n    browser = webdriver.Safari()\\n    browser.get(upwork_url)\\n    inhtml = browser.execute_script(\"return document.body.innerHTML\")\\n    soup = BeautifulSoup(inhtml, \\'html.parser\\')\\n    \\n    temp_skill_list = soup.select(\"div[id=\\'jobs-list\\'] span[class=\\'js-skills skills\\'] a\")\\n    temp_skill_list = [x.text.strip() for x in temp_skill_list]\\n    skill_list.extend(temp_skill_list)\\n    \\n    temp_job_type_list = soup.select(\"div[id=\\'jobs-list\\'] strong[class=\\'js-type\\']\")\\n    temp_job_type_list = [x.text.strip() for x in temp_job_type_list]\\n    temp_job_type_list = temp_job_type_list * len(temp_skill_list)\\n    job_type_list.extend(temp_job_type_list)\\n    \\n    temp_job_tier_list = soup.select(\"div[id=\\'jobs-list\\'] span[class=\\'js-contractor-tier\\']\")\\n    temp_job_tier_list = [x.text.strip().split()[0] for x in temp_job_tier_list]\\n    temp_job_tier_list = temp_job_tier_list * len(temp_skill_list)\\n    job_tier_list.extend(temp_job_tier_list)\\n    \\n    browser.quit()\\n'"
      ]
     },
     "execution_count": 25,
     "metadata": {},
     "output_type": "execute_result"
    }
   ],
   "source": [
    "'''\n",
    "for i in range(1,3):\n",
    "    upwork_url = \"https://www.upwork.com/o/jobs/browse/c/data-science-analytics/?page=\" + str(i)\n",
    "    browser = webdriver.Safari()\n",
    "    browser.get(upwork_url)\n",
    "    inhtml = browser.execute_script(\"return document.body.innerHTML\")\n",
    "    soup = BeautifulSoup(inhtml, 'html.parser')\n",
    "    \n",
    "    temp_skill_list = soup.select(\"div[id='jobs-list'] span[class='js-skills skills'] a\")\n",
    "    temp_skill_list = [x.text.strip() for x in temp_skill_list]\n",
    "    skill_list.extend(temp_skill_list)\n",
    "    \n",
    "    temp_job_type_list = soup.select(\"div[id='jobs-list'] strong[class='js-type']\")\n",
    "    temp_job_type_list = [x.text.strip() for x in temp_job_type_list]\n",
    "    temp_job_type_list = temp_job_type_list * len(temp_skill_list)\n",
    "    job_type_list.extend(temp_job_type_list)\n",
    "    \n",
    "    temp_job_tier_list = soup.select(\"div[id='jobs-list'] span[class='js-contractor-tier']\")\n",
    "    temp_job_tier_list = [x.text.strip().split()[0] for x in temp_job_tier_list]\n",
    "    temp_job_tier_list = temp_job_tier_list * len(temp_skill_list)\n",
    "    job_tier_list.extend(temp_job_tier_list)\n",
    "    \n",
    "    browser.quit()\n",
    "'''"
   ]
  },
  {
   "cell_type": "code",
   "execution_count": null,
   "metadata": {
    "collapsed": true
   },
   "outputs": [],
   "source": []
  }
 ],
 "metadata": {
  "kernelspec": {
   "display_name": "Python 3",
   "language": "python",
   "name": "python3"
  },
  "language_info": {
   "codemirror_mode": {
    "name": "ipython",
    "version": 3
   },
   "file_extension": ".py",
   "mimetype": "text/x-python",
   "name": "python",
   "nbconvert_exporter": "python",
   "pygments_lexer": "ipython3",
   "version": "3.6.0"
  }
 },
 "nbformat": 4,
 "nbformat_minor": 2
}
