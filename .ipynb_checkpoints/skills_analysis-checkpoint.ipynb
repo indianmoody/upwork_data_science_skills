{
 "cells": [
  {
   "cell_type": "code",
   "execution_count": 1,
   "metadata": {
    "collapsed": true
   },
   "outputs": [],
   "source": [
    "import numpy as np\n",
    "import pandas as pd"
   ]
  },
  {
   "cell_type": "code",
   "execution_count": 2,
   "metadata": {
    "collapsed": true
   },
   "outputs": [],
   "source": [
    "# Read csv file into pandas DataFrame\n",
    "skills_df = pd.read_csv('job_postings_data.csv', index_col=0)"
   ]
  },
  {
   "cell_type": "code",
   "execution_count": 3,
   "metadata": {
    "collapsed": false
   },
   "outputs": [
    {
     "data": {
      "text/html": [
       "<div>\n",
       "<style>\n",
       "    .dataframe thead tr:only-child th {\n",
       "        text-align: right;\n",
       "    }\n",
       "\n",
       "    .dataframe thead th {\n",
       "        text-align: left;\n",
       "    }\n",
       "\n",
       "    .dataframe tbody tr th {\n",
       "        vertical-align: top;\n",
       "    }\n",
       "</style>\n",
       "<table border=\"1\" class=\"dataframe\">\n",
       "  <thead>\n",
       "    <tr style=\"text-align: right;\">\n",
       "      <th></th>\n",
       "      <th>Job Tier</th>\n",
       "      <th>Job Type</th>\n",
       "      <th>Skill</th>\n",
       "    </tr>\n",
       "  </thead>\n",
       "  <tbody>\n",
       "    <tr>\n",
       "      <th>0</th>\n",
       "      <td>Intermediate</td>\n",
       "      <td>Fixed-Price</td>\n",
       "      <td>Data Scraping</td>\n",
       "    </tr>\n",
       "    <tr>\n",
       "      <th>1</th>\n",
       "      <td>Intermediate</td>\n",
       "      <td>Fixed-Price</td>\n",
       "      <td>Web Scraping</td>\n",
       "    </tr>\n",
       "    <tr>\n",
       "      <th>2</th>\n",
       "      <td>Expert</td>\n",
       "      <td>Fixed-Price</td>\n",
       "      <td>Machine Learning</td>\n",
       "    </tr>\n",
       "    <tr>\n",
       "      <th>3</th>\n",
       "      <td>Intermediate</td>\n",
       "      <td>Fixed-Price</td>\n",
       "      <td>Appforfinance Financial Statement Analysis</td>\n",
       "    </tr>\n",
       "    <tr>\n",
       "      <th>4</th>\n",
       "      <td>Intermediate</td>\n",
       "      <td>Fixed-Price</td>\n",
       "      <td>Business Analysis</td>\n",
       "    </tr>\n",
       "  </tbody>\n",
       "</table>\n",
       "</div>"
      ],
      "text/plain": [
       "       Job Tier     Job Type                                       Skill\n",
       "0  Intermediate  Fixed-Price                               Data Scraping\n",
       "1  Intermediate  Fixed-Price                                Web Scraping\n",
       "2        Expert  Fixed-Price                            Machine Learning\n",
       "3  Intermediate  Fixed-Price  Appforfinance Financial Statement Analysis\n",
       "4  Intermediate  Fixed-Price                           Business Analysis"
      ]
     },
     "execution_count": 3,
     "metadata": {},
     "output_type": "execute_result"
    }
   ],
   "source": [
    "skills_df.head(5)"
   ]
  },
  {
   "cell_type": "code",
   "execution_count": 4,
   "metadata": {
    "collapsed": false
   },
   "outputs": [
    {
     "name": "stdout",
     "output_type": "stream",
     "text": [
      "<class 'pandas.core.frame.DataFrame'>\n",
      "Int64Index: 2187 entries, 0 to 2186\n",
      "Data columns (total 3 columns):\n",
      "Job Tier    2187 non-null object\n",
      "Job Type    2187 non-null object\n",
      "Skill       2187 non-null object\n",
      "dtypes: object(3)\n",
      "memory usage: 68.3+ KB\n"
     ]
    }
   ],
   "source": [
    "skills_df.info()"
   ]
  },
  {
   "cell_type": "markdown",
   "metadata": {},
   "source": [
    "-----------------------------------------------------"
   ]
  },
  {
   "cell_type": "markdown",
   "metadata": {},
   "source": [
    "##Most sought-after skills on Upwork for Data Science and Analytics jobs"
   ]
  },
  {
   "cell_type": "code",
   "execution_count": 5,
   "metadata": {
    "collapsed": false
   },
   "outputs": [
    {
     "data": {
      "text/plain": [
       "Microsoft Excel                        145\n",
       "Data Mining                            106\n",
       "Python                                  82\n",
       "Data Entry                              81\n",
       "Data Scraping                           74\n",
       "Machine Learning                        69\n",
       "Data Analytics                          64\n",
       "Data Science                            56\n",
       "Internet Research                       55\n",
       "Web Scraping                            48\n",
       "Data Visualization                      39\n",
       "Statistics                              38\n",
       "Excel VBA                               31\n",
       "Analytics                               25\n",
       "SQL                                     23\n",
       "Quantitative Analysis                   22\n",
       "Microsoft Power BI                      21\n",
       "Tableau Software                        20\n",
       "Data Extraction                         20\n",
       "Financial Analysis                      20\n",
       "Mathematics                             20\n",
       "R                                       17\n",
       "\"Extract, Transform and Load (ETL)\"     16\n",
       "Research                                16\n",
       "Lead Generation                         16\n",
       "API Development                         16\n",
       "PHP                                     15\n",
       "Google Analytics                        14\n",
       "Natural Language Processing             13\n",
       "Amazon Web Services                     13\n",
       "Microsoft Access Programming            13\n",
       "Financial Modeling                      13\n",
       "TensorFlow                              13\n",
       "Artificial Intelligence                 13\n",
       "Deep Learning                           13\n",
       "Microsoft Excel PowerPivot              12\n",
       "Virtual Assistant                       12\n",
       "Business Intelligence                   12\n",
       "Database Design                         12\n",
       "JavaScript                              11\n",
       "Hadoop                                  10\n",
       "Foreign Exchange Trading                 9\n",
       "Big Data                                 9\n",
       "Apache Spark                             9\n",
       "Amazon Webstore                          8\n",
       "Market Research                          8\n",
       "Business Analysis                        8\n",
       "Computer Vision                          7\n",
       "Conversion Rate Optimization             7\n",
       "Image Processing                         7\n",
       "VBA                                      7\n",
       "English                                  7\n",
       "Content Writing                          7\n",
       "Bitcoin                                  7\n",
       "MATLAB                                   7\n",
       "Chatbot Development                      6\n",
       "WordPress                                6\n",
       "Deep Neural Networks                     6\n",
       "OpenCV                                   6\n",
       "Spreadsheets                             6\n",
       "Name: Skill, dtype: int64"
      ]
     },
     "execution_count": 5,
     "metadata": {},
     "output_type": "execute_result"
    }
   ],
   "source": [
    "skills_df['Skill'].value_counts()[:60]"
   ]
  },
  {
   "cell_type": "markdown",
   "metadata": {},
   "source": [
    "-------------------------------"
   ]
  },
  {
   "cell_type": "markdown",
   "metadata": {},
   "source": [
    "##Job 'Type' and 'Tier' for most tagged skills"
   ]
  },
  {
   "cell_type": "markdown",
   "metadata": {},
   "source": [
    "###1 Microsoft Excel"
   ]
  },
  {
   "cell_type": "code",
   "execution_count": 6,
   "metadata": {
    "collapsed": false
   },
   "outputs": [
    {
     "data": {
      "text/plain": [
       "Hourly         75\n",
       "Fixed-Price    70\n",
       "Name: Job Type, dtype: int64"
      ]
     },
     "execution_count": 6,
     "metadata": {},
     "output_type": "execute_result"
    }
   ],
   "source": [
    "skills_df[skills_df['Skill']=='Microsoft Excel']['Job Type'].value_counts()"
   ]
  },
  {
   "cell_type": "code",
   "execution_count": 7,
   "metadata": {
    "collapsed": false
   },
   "outputs": [
    {
     "data": {
      "text/plain": [
       "Intermediate    59\n",
       "Entry           55\n",
       "Expert          31\n",
       "Name: Job Tier, dtype: int64"
      ]
     },
     "execution_count": 7,
     "metadata": {},
     "output_type": "execute_result"
    }
   ],
   "source": [
    "skills_df[skills_df['Skill']=='Microsoft Excel']['Job Tier'].value_counts()"
   ]
  },
  {
   "cell_type": "markdown",
   "metadata": {},
   "source": [
    "###2 Data Mining"
   ]
  },
  {
   "cell_type": "code",
   "execution_count": 8,
   "metadata": {
    "collapsed": false
   },
   "outputs": [
    {
     "data": {
      "text/plain": [
       "Hourly         57\n",
       "Fixed-Price    49\n",
       "Name: Job Type, dtype: int64"
      ]
     },
     "execution_count": 8,
     "metadata": {},
     "output_type": "execute_result"
    }
   ],
   "source": [
    "skills_df[skills_df['Skill']=='Data Mining']['Job Type'].value_counts()"
   ]
  },
  {
   "cell_type": "code",
   "execution_count": 9,
   "metadata": {
    "collapsed": false
   },
   "outputs": [
    {
     "data": {
      "text/plain": [
       "Entry           48\n",
       "Intermediate    43\n",
       "Expert          15\n",
       "Name: Job Tier, dtype: int64"
      ]
     },
     "execution_count": 9,
     "metadata": {},
     "output_type": "execute_result"
    }
   ],
   "source": [
    "skills_df[skills_df['Skill']=='Data Mining']['Job Tier'].value_counts()"
   ]
  },
  {
   "cell_type": "markdown",
   "metadata": {},
   "source": [
    "###3 Python"
   ]
  },
  {
   "cell_type": "code",
   "execution_count": 10,
   "metadata": {
    "collapsed": false
   },
   "outputs": [
    {
     "data": {
      "text/plain": [
       "Hourly         43\n",
       "Fixed-Price    39\n",
       "Name: Job Type, dtype: int64"
      ]
     },
     "execution_count": 10,
     "metadata": {},
     "output_type": "execute_result"
    }
   ],
   "source": [
    "skills_df[skills_df['Skill']=='Python']['Job Type'].value_counts()"
   ]
  },
  {
   "cell_type": "code",
   "execution_count": 11,
   "metadata": {
    "collapsed": false
   },
   "outputs": [
    {
     "data": {
      "text/plain": [
       "Entry           48\n",
       "Intermediate    43\n",
       "Expert          15\n",
       "Name: Job Tier, dtype: int64"
      ]
     },
     "execution_count": 11,
     "metadata": {},
     "output_type": "execute_result"
    }
   ],
   "source": [
    "skills_df[skills_df['Skill']=='Data Mining']['Job Tier'].value_counts()"
   ]
  },
  {
   "cell_type": "markdown",
   "metadata": {},
   "source": [
    "-----------------"
   ]
  },
  {
   "cell_type": "markdown",
   "metadata": {},
   "source": [
    "##Most frequent skills for Entry Level jobs"
   ]
  },
  {
   "cell_type": "code",
   "execution_count": 12,
   "metadata": {
    "collapsed": false
   },
   "outputs": [
    {
     "data": {
      "text/plain": [
       "Microsoft Excel             55\n",
       "Data Mining                 48\n",
       "Data Entry                  43\n",
       "Internet Research           31\n",
       "Data Scraping               24\n",
       "Web Scraping                15\n",
       "Python                      15\n",
       "Data Analytics              12\n",
       "Lead Generation              9\n",
       "Virtual Assistant            8\n",
       "Data Extraction              8\n",
       "Data Science                 7\n",
       "Financial Analysis           6\n",
       "Research                     6\n",
       "Excel VBA                    6\n",
       "Analytics                    5\n",
       "English                      5\n",
       "Foreign Exchange Trading     4\n",
       "Market Research              4\n",
       "Google Analytics             3\n",
       "Name: Skill, dtype: int64"
      ]
     },
     "execution_count": 12,
     "metadata": {},
     "output_type": "execute_result"
    }
   ],
   "source": [
    "skills_df[skills_df['Job Tier']=='Entry']['Skill'].value_counts()[:20]"
   ]
  },
  {
   "cell_type": "markdown",
   "metadata": {},
   "source": [
    "##Most frequent skills for Intermediate Jobs"
   ]
  },
  {
   "cell_type": "code",
   "execution_count": 13,
   "metadata": {
    "collapsed": false
   },
   "outputs": [
    {
     "data": {
      "text/plain": [
       "Microsoft Excel          59\n",
       "Python                   43\n",
       "Data Mining              43\n",
       "Data Scraping            38\n",
       "Machine Learning         37\n",
       "Data Entry               32\n",
       "Data Science             31\n",
       "Data Analytics           30\n",
       "Web Scraping             24\n",
       "Statistics               18\n",
       "Data Visualization       17\n",
       "Internet Research        17\n",
       "Excel VBA                13\n",
       "Microsoft Power BI       13\n",
       "SQL                      12\n",
       "Analytics                12\n",
       "R                        10\n",
       "Mathematics               9\n",
       "Quantitative Analysis     8\n",
       "Tableau Software          8\n",
       "Name: Skill, dtype: int64"
      ]
     },
     "execution_count": 13,
     "metadata": {},
     "output_type": "execute_result"
    }
   ],
   "source": [
    "skills_df[skills_df['Job Tier']=='Intermediate']['Skill'].value_counts()[:20]"
   ]
  },
  {
   "cell_type": "markdown",
   "metadata": {
    "collapsed": false
   },
   "source": [
    "##Most frequent skills for Expert jobs"
   ]
  },
  {
   "cell_type": "code",
   "execution_count": 14,
   "metadata": {
    "collapsed": false
   },
   "outputs": [
    {
     "data": {
      "text/plain": [
       "Microsoft Excel                        31\n",
       "Machine Learning                       29\n",
       "Python                                 24\n",
       "Data Analytics                         22\n",
       "Data Visualization                     19\n",
       "Data Science                           18\n",
       "Statistics                             17\n",
       "Data Mining                            15\n",
       "Quantitative Analysis                  13\n",
       "Data Scraping                          12\n",
       "Tableau Software                       12\n",
       "Excel VBA                              12\n",
       "\"Extract, Transform and Load (ETL)\"    10\n",
       "SQL                                    10\n",
       "API Development                        10\n",
       "Mathematics                             9\n",
       "Web Scraping                            9\n",
       "Deep Learning                           9\n",
       "Artificial Intelligence                 8\n",
       "PHP                                     8\n",
       "Analytics                               8\n",
       "Internet Research                       7\n",
       "Financial Analysis                      7\n",
       "TensorFlow                              7\n",
       "Financial Modeling                      7\n",
       "Amazon Web Services                     7\n",
       "Natural Language Processing             6\n",
       "R                                       6\n",
       "Business Intelligence                   6\n",
       "Microsoft Power BI                      6\n",
       "Name: Skill, dtype: int64"
      ]
     },
     "execution_count": 14,
     "metadata": {},
     "output_type": "execute_result"
    }
   ],
   "source": [
    "skills_df[skills_df['Job Tier']=='Expert']['Skill'].value_counts()[:30]"
   ]
  },
  {
   "cell_type": "markdown",
   "metadata": {},
   "source": [
    "---------------"
   ]
  },
  {
   "cell_type": "code",
   "execution_count": 15,
   "metadata": {
    "collapsed": true
   },
   "outputs": [],
   "source": [
    "import matplotlib.pyplot as plt\n",
    "import seaborn as sns\n",
    "%matplotlib inline"
   ]
  },
  {
   "cell_type": "markdown",
   "metadata": {},
   "source": [
    "##Top 10 Frequent Skills"
   ]
  },
  {
   "cell_type": "code",
   "execution_count": 16,
   "metadata": {
    "collapsed": false
   },
   "outputs": [],
   "source": [
    "top = skills_df['Skill'].value_counts()[:10]\n",
    "top_skills = top.index\n",
    "top_count = top.values\n",
    "top_df = skills_df[skills_df['Skill'].isin(list(top_skills))]"
   ]
  },
  {
   "cell_type": "code",
   "execution_count": 17,
   "metadata": {
    "collapsed": false
   },
   "outputs": [
    {
     "name": "stderr",
     "output_type": "stream",
     "text": [
      "/anaconda/lib/python3.6/site-packages/pandas/core/indexing.py:337: SettingWithCopyWarning: \n",
      "A value is trying to be set on a copy of a slice from a DataFrame.\n",
      "Try using .loc[row_indexer,col_indexer] = value instead\n",
      "\n",
      "See the caveats in the documentation: http://pandas.pydata.org/pandas-docs/stable/indexing.html#indexing-view-versus-copy\n",
      "  self.obj[key] = _infer_fill_value(value)\n",
      "/anaconda/lib/python3.6/site-packages/pandas/core/indexing.py:517: SettingWithCopyWarning: \n",
      "A value is trying to be set on a copy of a slice from a DataFrame.\n",
      "Try using .loc[row_indexer,col_indexer] = value instead\n",
      "\n",
      "See the caveats in the documentation: http://pandas.pydata.org/pandas-docs/stable/indexing.html#indexing-view-versus-copy\n",
      "  self.obj[item] = s\n"
     ]
    }
   ],
   "source": [
    "top_df.loc[:,'Count Order'] = top_df.loc[:,'Skill'].apply(lambda x: top[x])"
   ]
  },
  {
   "cell_type": "code",
   "execution_count": 18,
   "metadata": {
    "collapsed": false
   },
   "outputs": [
    {
     "data": {
      "text/html": [
       "<div>\n",
       "<style>\n",
       "    .dataframe thead tr:only-child th {\n",
       "        text-align: right;\n",
       "    }\n",
       "\n",
       "    .dataframe thead th {\n",
       "        text-align: left;\n",
       "    }\n",
       "\n",
       "    .dataframe tbody tr th {\n",
       "        vertical-align: top;\n",
       "    }\n",
       "</style>\n",
       "<table border=\"1\" class=\"dataframe\">\n",
       "  <thead>\n",
       "    <tr style=\"text-align: right;\">\n",
       "      <th></th>\n",
       "      <th>Job Tier</th>\n",
       "      <th>Job Type</th>\n",
       "      <th>Skill</th>\n",
       "      <th>Count Order</th>\n",
       "    </tr>\n",
       "  </thead>\n",
       "  <tbody>\n",
       "    <tr>\n",
       "      <th>0</th>\n",
       "      <td>Intermediate</td>\n",
       "      <td>Fixed-Price</td>\n",
       "      <td>Data Scraping</td>\n",
       "      <td>74</td>\n",
       "    </tr>\n",
       "    <tr>\n",
       "      <th>1</th>\n",
       "      <td>Intermediate</td>\n",
       "      <td>Fixed-Price</td>\n",
       "      <td>Web Scraping</td>\n",
       "      <td>48</td>\n",
       "    </tr>\n",
       "    <tr>\n",
       "      <th>2</th>\n",
       "      <td>Expert</td>\n",
       "      <td>Fixed-Price</td>\n",
       "      <td>Machine Learning</td>\n",
       "      <td>69</td>\n",
       "    </tr>\n",
       "    <tr>\n",
       "      <th>6</th>\n",
       "      <td>Intermediate</td>\n",
       "      <td>Fixed-Price</td>\n",
       "      <td>Data Analytics</td>\n",
       "      <td>64</td>\n",
       "    </tr>\n",
       "    <tr>\n",
       "      <th>8</th>\n",
       "      <td>Intermediate</td>\n",
       "      <td>Fixed-Price</td>\n",
       "      <td>Microsoft Excel</td>\n",
       "      <td>145</td>\n",
       "    </tr>\n",
       "  </tbody>\n",
       "</table>\n",
       "</div>"
      ],
      "text/plain": [
       "       Job Tier     Job Type             Skill  Count Order\n",
       "0  Intermediate  Fixed-Price     Data Scraping           74\n",
       "1  Intermediate  Fixed-Price      Web Scraping           48\n",
       "2        Expert  Fixed-Price  Machine Learning           69\n",
       "6  Intermediate  Fixed-Price    Data Analytics           64\n",
       "8  Intermediate  Fixed-Price   Microsoft Excel          145"
      ]
     },
     "execution_count": 18,
     "metadata": {},
     "output_type": "execute_result"
    }
   ],
   "source": [
    "top_df.head()"
   ]
  },
  {
   "cell_type": "code",
   "execution_count": 19,
   "metadata": {
    "collapsed": false
   },
   "outputs": [
    {
     "data": {
      "text/html": [
       "<div>\n",
       "<style>\n",
       "    .dataframe thead tr:only-child th {\n",
       "        text-align: right;\n",
       "    }\n",
       "\n",
       "    .dataframe thead th {\n",
       "        text-align: left;\n",
       "    }\n",
       "\n",
       "    .dataframe tbody tr th {\n",
       "        vertical-align: top;\n",
       "    }\n",
       "</style>\n",
       "<table border=\"1\" class=\"dataframe\">\n",
       "  <thead>\n",
       "    <tr style=\"text-align: right;\">\n",
       "      <th></th>\n",
       "      <th>Job Tier</th>\n",
       "      <th>Job Type</th>\n",
       "      <th>Skill</th>\n",
       "      <th>Count Order</th>\n",
       "    </tr>\n",
       "  </thead>\n",
       "  <tbody>\n",
       "    <tr>\n",
       "      <th>8</th>\n",
       "      <td>Intermediate</td>\n",
       "      <td>Fixed-Price</td>\n",
       "      <td>Microsoft Excel</td>\n",
       "      <td>145</td>\n",
       "    </tr>\n",
       "    <tr>\n",
       "      <th>27</th>\n",
       "      <td>Intermediate</td>\n",
       "      <td>Fixed-Price</td>\n",
       "      <td>Microsoft Excel</td>\n",
       "      <td>145</td>\n",
       "    </tr>\n",
       "    <tr>\n",
       "      <th>31</th>\n",
       "      <td>Intermediate</td>\n",
       "      <td>Fixed-Price</td>\n",
       "      <td>Microsoft Excel</td>\n",
       "      <td>145</td>\n",
       "    </tr>\n",
       "    <tr>\n",
       "      <th>52</th>\n",
       "      <td>Entry</td>\n",
       "      <td>Hourly</td>\n",
       "      <td>Microsoft Excel</td>\n",
       "      <td>145</td>\n",
       "    </tr>\n",
       "    <tr>\n",
       "      <th>61</th>\n",
       "      <td>Expert</td>\n",
       "      <td>Fixed-Price</td>\n",
       "      <td>Microsoft Excel</td>\n",
       "      <td>145</td>\n",
       "    </tr>\n",
       "  </tbody>\n",
       "</table>\n",
       "</div>"
      ],
      "text/plain": [
       "        Job Tier     Job Type            Skill  Count Order\n",
       "8   Intermediate  Fixed-Price  Microsoft Excel          145\n",
       "27  Intermediate  Fixed-Price  Microsoft Excel          145\n",
       "31  Intermediate  Fixed-Price  Microsoft Excel          145\n",
       "52         Entry       Hourly  Microsoft Excel          145\n",
       "61        Expert  Fixed-Price  Microsoft Excel          145"
      ]
     },
     "execution_count": 19,
     "metadata": {},
     "output_type": "execute_result"
    }
   ],
   "source": [
    "top_df = top_df.sort_values(by=['Count Order','Skill'], ascending=[0,1])\n",
    "top_df.head()"
   ]
  },
  {
   "cell_type": "markdown",
   "metadata": {},
   "source": [
    "###Most Frequent Skills Plot"
   ]
  },
  {
   "cell_type": "code",
   "execution_count": 42,
   "metadata": {
    "collapsed": false
   },
   "outputs": [
    {
     "data": {
      "image/png": "[encoded data removed]",
      "text/plain": [
       "<matplotlib.figure.Figure at 0x122cf7a20>"
      ]
     },
     "metadata": {},
     "output_type": "display_data"
    }
   ],
   "source": [
    "plt.figure(figsize=(14,7))\n",
    "sns.set_style(\"whitegrid\")\n",
    "sns.countplot(top_df['Skill'], palette=\"Blues_d\")\n",
    "plt.title(\"Top 10 D.S. Skills on Upwork\")\n",
    "plt.savefig('top_10.jpeg', dpi=600)"
   ]
  },
  {
   "cell_type": "markdown",
   "metadata": {},
   "source": [
    "###Most Frequent Skills with Job Tier Categories Plot"
   ]
  },
  {
   "cell_type": "code",
   "execution_count": 44,
   "metadata": {
    "collapsed": false
   },
   "outputs": [
    {
     "data": {
      "image/png": "[encoded data removed]",
      "text/plain": [
       "<matplotlib.figure.Figure at 0x123131cc0>"
      ]
     },
     "metadata": {},
     "output_type": "display_data"
    }
   ],
   "source": [
    "plt.figure(figsize=(16,8))\n",
    "sns.countplot(top_df['Skill'], hue=top_df['Job Tier'], hue_order=['Entry', 'Intermediate', 'Expert'], palette=\"deep\")\n",
    "plt.title('Top 10 D.S. Skills on Upwork with Job Tier')\n",
    "plt.savefig('top_10_tier.jpeg', dpi=600)"
   ]
  },
  {
   "cell_type": "markdown",
   "metadata": {
    "collapsed": true
   },
   "source": [
    "###Most Frequent Skills for Entry-Level Jobs Plot"
   ]
  },
  {
   "cell_type": "code",
   "execution_count": 45,
   "metadata": {
    "collapsed": false
   },
   "outputs": [
    {
     "data": {
      "text/plain": [
       "Microsoft Excel      55\n",
       "Data Mining          48\n",
       "Data Entry           43\n",
       "Internet Research    31\n",
       "Data Scraping        24\n",
       "Web Scraping         15\n",
       "Python               15\n",
       "Data Analytics       12\n",
       "Lead Generation       9\n",
       "Virtual Assistant     8\n",
       "Name: Skill, dtype: int64"
      ]
     },
     "execution_count": 45,
     "metadata": {},
     "output_type": "execute_result"
    }
   ],
   "source": [
    "entry_top = skills_df[skills_df['Job Tier']=='Entry']['Skill'].value_counts()[:10]\n",
    "entry_top"
   ]
  },
  {
   "cell_type": "code",
   "execution_count": 47,
   "metadata": {
    "collapsed": false
   },
   "outputs": [
    {
     "data": {
      "image/png": "[encoded data removed]",
      "text/plain": [
       "<matplotlib.figure.Figure at 0x1234e90f0>"
      ]
     },
     "metadata": {},
     "output_type": "display_data"
    }
   ],
   "source": [
    "plt.figure(figsize=(14,7))\n",
    "sns.barplot(entry_top.index, entry_top.values, palette='Reds_d')\n",
    "plt.title('Top 10 D.S. Entry-Level Skills')\n",
    "plt.savefig('top_10_entry.jpeg', dpi=600)"
   ]
  },
  {
   "cell_type": "markdown",
   "metadata": {},
   "source": [
    "###Most Frequent Skills for Intermediate Jobs Plot"
   ]
  },
  {
   "cell_type": "code",
   "execution_count": 48,
   "metadata": {
    "collapsed": false
   },
   "outputs": [
    {
     "data": {
      "text/plain": [
       "Microsoft Excel     59\n",
       "Python              43\n",
       "Data Mining         43\n",
       "Data Scraping       38\n",
       "Machine Learning    37\n",
       "Data Entry          32\n",
       "Data Science        31\n",
       "Data Analytics      30\n",
       "Web Scraping        24\n",
       "Statistics          18\n",
       "Name: Skill, dtype: int64"
      ]
     },
     "execution_count": 48,
     "metadata": {},
     "output_type": "execute_result"
    }
   ],
   "source": [
    "intermediate_top = skills_df[skills_df['Job Tier']=='Intermediate']['Skill'].value_counts()[:10]\n",
    "intermediate_top"
   ]
  },
  {
   "cell_type": "code",
   "execution_count": 50,
   "metadata": {
    "collapsed": false
   },
   "outputs": [
    {
     "data": {
      "image/png": "[encoded data removed]",
      "text/plain": [
       "<matplotlib.figure.Figure at 0x123ab4470>"
      ]
     },
     "metadata": {},
     "output_type": "display_data"
    }
   ],
   "source": [
    "plt.figure(figsize=(14,7))\n",
    "sns.barplot(intermediate_top.index, intermediate_top.values, palette='Greens_d')\n",
    "plt.title('Top 10 D.S. Intermediate-Level Skills')\n",
    "plt.savefig('top_10_intermediate.jpeg', dpi=600)"
   ]
  },
  {
   "cell_type": "markdown",
   "metadata": {},
   "source": [
    "###Most Frequent Skills for Expert Jobs"
   ]
  },
  {
   "cell_type": "code",
   "execution_count": 51,
   "metadata": {
    "collapsed": false
   },
   "outputs": [
    {
     "data": {
      "text/plain": [
       "Microsoft Excel          31\n",
       "Machine Learning         29\n",
       "Python                   24\n",
       "Data Analytics           22\n",
       "Data Visualization       19\n",
       "Data Science             18\n",
       "Statistics               17\n",
       "Data Mining              15\n",
       "Quantitative Analysis    13\n",
       "Data Scraping            12\n",
       "Name: Skill, dtype: int64"
      ]
     },
     "execution_count": 51,
     "metadata": {},
     "output_type": "execute_result"
    }
   ],
   "source": [
    "expert_top = skills_df[skills_df['Job Tier']=='Expert']['Skill'].value_counts()[:10]\n",
    "expert_top"
   ]
  },
  {
   "cell_type": "code",
   "execution_count": 53,
   "metadata": {
    "collapsed": false
   },
   "outputs": [
    {
     "data": {
      "image/png": "[encoded data removed]",
      "text/plain": [
       "<matplotlib.figure.Figure at 0x122daf550>"
      ]
     },
     "metadata": {},
     "output_type": "display_data"
    }
   ],
   "source": [
    "plt.figure(figsize=(14,7))\n",
    "sns.barplot(expert_top.index, expert_top.values, palette='Oranges_d')\n",
    "plt.title('Top 10 D.S. Expert-Level Skills')\n",
    "plt.savefig('top_10_expert.jpeg', dpi=600)"
   ]
  },
  {
   "cell_type": "code",
   "execution_count": null,
   "metadata": {
    "collapsed": true
   },
   "outputs": [],
   "source": []
  }
 ],
 "metadata": {
  "kernelspec": {
   "display_name": "Python 3",
   "language": "python",
   "name": "python3"
  },
  "language_info": {
   "codemirror_mode": {
    "name": "ipython",
    "version": 3
   },
   "file_extension": ".py",
   "mimetype": "text/x-python",
   "name": "python",
   "nbconvert_exporter": "python",
   "pygments_lexer": "ipython3",
   "version": "3.6.0"
  }
 },
 "nbformat": 4,
 "nbformat_minor": 2
}
