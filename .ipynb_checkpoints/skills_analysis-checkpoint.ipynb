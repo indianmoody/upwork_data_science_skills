{
 "cells": [
  {
   "cell_type": "code",
   "execution_count": 1,
   "metadata": {
    "collapsed": true
   },
   "outputs": [],
   "source": [
    "import numpy as np\n",
    "import pandas as pd"
   ]
  },
  {
   "cell_type": "code",
   "execution_count": 2,
   "metadata": {
    "collapsed": true
   },
   "outputs": [],
   "source": [
    "# Read csv file into pandas DataFrame\n",
    "skills_df = pd.read_csv('job_postings_data.csv', index_col=0)"
   ]
  },
  {
   "cell_type": "code",
   "execution_count": 3,
   "metadata": {
    "collapsed": false
   },
   "outputs": [
    {
     "data": {
      "text/html": [
       "<div>\n",
       "<style>\n",
       "    .dataframe thead tr:only-child th {\n",
       "        text-align: right;\n",
       "    }\n",
       "\n",
       "    .dataframe thead th {\n",
       "        text-align: left;\n",
       "    }\n",
       "\n",
       "    .dataframe tbody tr th {\n",
       "        vertical-align: top;\n",
       "    }\n",
       "</style>\n",
       "<table border=\"1\" class=\"dataframe\">\n",
       "  <thead>\n",
       "    <tr style=\"text-align: right;\">\n",
       "      <th></th>\n",
       "      <th>Job Tier</th>\n",
       "      <th>Job Type</th>\n",
       "      <th>Skill</th>\n",
       "    </tr>\n",
       "  </thead>\n",
       "  <tbody>\n",
       "    <tr>\n",
       "      <th>0</th>\n",
       "      <td>Intermediate</td>\n",
       "      <td>Fixed-Price</td>\n",
       "      <td>Data Scraping</td>\n",
       "    </tr>\n",
       "    <tr>\n",
       "      <th>1</th>\n",
       "      <td>Intermediate</td>\n",
       "      <td>Fixed-Price</td>\n",
       "      <td>Web Scraping</td>\n",
       "    </tr>\n",
       "    <tr>\n",
       "      <th>2</th>\n",
       "      <td>Expert</td>\n",
       "      <td>Fixed-Price</td>\n",
       "      <td>Machine Learning</td>\n",
       "    </tr>\n",
       "    <tr>\n",
       "      <th>3</th>\n",
       "      <td>Intermediate</td>\n",
       "      <td>Fixed-Price</td>\n",
       "      <td>Appforfinance Financial Statement Analysis</td>\n",
       "    </tr>\n",
       "    <tr>\n",
       "      <th>4</th>\n",
       "      <td>Intermediate</td>\n",
       "      <td>Fixed-Price</td>\n",
       "      <td>Business Analysis</td>\n",
       "    </tr>\n",
       "  </tbody>\n",
       "</table>\n",
       "</div>"
      ],
      "text/plain": [
       "       Job Tier     Job Type                                       Skill\n",
       "0  Intermediate  Fixed-Price                               Data Scraping\n",
       "1  Intermediate  Fixed-Price                                Web Scraping\n",
       "2        Expert  Fixed-Price                            Machine Learning\n",
       "3  Intermediate  Fixed-Price  Appforfinance Financial Statement Analysis\n",
       "4  Intermediate  Fixed-Price                           Business Analysis"
      ]
     },
     "execution_count": 3,
     "metadata": {},
     "output_type": "execute_result"
    }
   ],
   "source": [
    "skills_df.head(5)"
   ]
  },
  {
   "cell_type": "code",
   "execution_count": 17,
   "metadata": {
    "collapsed": false
   },
   "outputs": [
    {
     "name": "stdout",
     "output_type": "stream",
     "text": [
      "<class 'pandas.core.frame.DataFrame'>\n",
      "Int64Index: 2187 entries, 0 to 2186\n",
      "Data columns (total 3 columns):\n",
      "Job Tier    2187 non-null object\n",
      "Job Type    2187 non-null object\n",
      "Skill       2187 non-null object\n",
      "dtypes: object(3)\n",
      "memory usage: 68.3+ KB\n"
     ]
    }
   ],
   "source": [
    "skills_df.info()"
   ]
  },
  {
   "cell_type": "code",
   "execution_count": 16,
   "metadata": {
    "collapsed": false
   },
   "outputs": [
    {
     "data": {
      "text/plain": [
       "Microsoft Excel                        145\n",
       "Data Mining                            106\n",
       "Python                                  82\n",
       "Data Entry                              81\n",
       "Data Scraping                           74\n",
       "Machine Learning                        69\n",
       "Data Analytics                          64\n",
       "Data Science                            56\n",
       "Internet Research                       55\n",
       "Web Scraping                            48\n",
       "Data Visualization                      39\n",
       "Statistics                              38\n",
       "Excel VBA                               31\n",
       "Analytics                               25\n",
       "SQL                                     23\n",
       "Quantitative Analysis                   22\n",
       "Microsoft Power BI                      21\n",
       "Tableau Software                        20\n",
       "Mathematics                             20\n",
       "Financial Analysis                      20\n",
       "Data Extraction                         20\n",
       "R                                       17\n",
       "Research                                16\n",
       "API Development                         16\n",
       "Lead Generation                         16\n",
       "\"Extract, Transform and Load (ETL)\"     16\n",
       "PHP                                     15\n",
       "Google Analytics                        14\n",
       "Microsoft Access Programming            13\n",
       "Artificial Intelligence                 13\n",
       "Natural Language Processing             13\n",
       "TensorFlow                              13\n",
       "Financial Modeling                      13\n",
       "Amazon Web Services                     13\n",
       "Deep Learning                           13\n",
       "Database Design                         12\n",
       "Microsoft Excel PowerPivot              12\n",
       "Business Intelligence                   12\n",
       "Virtual Assistant                       12\n",
       "JavaScript                              11\n",
       "Hadoop                                  10\n",
       "Foreign Exchange Trading                 9\n",
       "Big Data                                 9\n",
       "Apache Spark                             9\n",
       "Amazon Webstore                          8\n",
       "Market Research                          8\n",
       "Business Analysis                        8\n",
       "Content Writing                          7\n",
       "Bitcoin                                  7\n",
       "MATLAB                                   7\n",
       "English                                  7\n",
       "Computer Vision                          7\n",
       "Conversion Rate Optimization             7\n",
       "Image Processing                         7\n",
       "VBA                                      7\n",
       "Chatbot Development                      6\n",
       "WordPress                                6\n",
       "Java                                     6\n",
       "Deep Neural Networks                     6\n",
       "OpenCV                                   6\n",
       "Name: Skill, dtype: int64"
      ]
     },
     "execution_count": 16,
     "metadata": {},
     "output_type": "execute_result"
    }
   ],
   "source": [
    "skills_df['Skill'].value_counts()[:60]"
   ]
  },
  {
   "cell_type": "code",
   "execution_count": 5,
   "metadata": {
    "collapsed": false
   },
   "outputs": [
    {
     "data": {
      "text/plain": [
       "Hourly         1248\n",
       "Fixed-Price     939\n",
       "Name: Job Type, dtype: int64"
      ]
     },
     "execution_count": 5,
     "metadata": {},
     "output_type": "execute_result"
    }
   ],
   "source": [
    "skills_df['Job Type'].value_counts()"
   ]
  },
  {
   "cell_type": "code",
   "execution_count": 6,
   "metadata": {
    "collapsed": false
   },
   "outputs": [
    {
     "data": {
      "text/plain": [
       "Intermediate    942\n",
       "Expert          741\n",
       "Entry           504\n",
       "Name: Job Tier, dtype: int64"
      ]
     },
     "execution_count": 6,
     "metadata": {},
     "output_type": "execute_result"
    }
   ],
   "source": [
    "skills_df['Job Tier'].value_counts()"
   ]
  },
  {
   "cell_type": "code",
   "execution_count": 7,
   "metadata": {
    "collapsed": false
   },
   "outputs": [
    {
     "data": {
      "text/plain": [
       "Hourly         75\n",
       "Fixed-Price    70\n",
       "Name: Job Type, dtype: int64"
      ]
     },
     "execution_count": 7,
     "metadata": {},
     "output_type": "execute_result"
    }
   ],
   "source": [
    "skills_df[skills_df['Skill']=='Microsoft Excel']['Job Type'].value_counts()"
   ]
  },
  {
   "cell_type": "code",
   "execution_count": 8,
   "metadata": {
    "collapsed": false
   },
   "outputs": [
    {
     "data": {
      "text/plain": [
       "Intermediate    59\n",
       "Entry           55\n",
       "Expert          31\n",
       "Name: Job Tier, dtype: int64"
      ]
     },
     "execution_count": 8,
     "metadata": {},
     "output_type": "execute_result"
    }
   ],
   "source": [
    "skills_df[skills_df['Skill']=='Microsoft Excel']['Job Tier'].value_counts()"
   ]
  },
  {
   "cell_type": "code",
   "execution_count": 9,
   "metadata": {
    "collapsed": false
   },
   "outputs": [
    {
     "data": {
      "text/plain": [
       "Hourly         57\n",
       "Fixed-Price    49\n",
       "Name: Job Type, dtype: int64"
      ]
     },
     "execution_count": 9,
     "metadata": {},
     "output_type": "execute_result"
    }
   ],
   "source": [
    "skills_df[skills_df['Skill']=='Data Mining']['Job Type'].value_counts()"
   ]
  },
  {
   "cell_type": "code",
   "execution_count": 10,
   "metadata": {
    "collapsed": false
   },
   "outputs": [
    {
     "data": {
      "text/plain": [
       "Entry           48\n",
       "Intermediate    43\n",
       "Expert          15\n",
       "Name: Job Tier, dtype: int64"
      ]
     },
     "execution_count": 10,
     "metadata": {},
     "output_type": "execute_result"
    }
   ],
   "source": [
    "skills_df[skills_df['Skill']=='Data Mining']['Job Tier'].value_counts()"
   ]
  },
  {
   "cell_type": "code",
   "execution_count": 11,
   "metadata": {
    "collapsed": false
   },
   "outputs": [
    {
     "data": {
      "text/plain": [
       "Hourly         34\n",
       "Fixed-Price    21\n",
       "Name: Job Type, dtype: int64"
      ]
     },
     "execution_count": 11,
     "metadata": {},
     "output_type": "execute_result"
    }
   ],
   "source": [
    "skills_df[skills_df['Skill']=='Internet Research']['Job Type'].value_counts()"
   ]
  },
  {
   "cell_type": "code",
   "execution_count": 12,
   "metadata": {
    "collapsed": false
   },
   "outputs": [
    {
     "data": {
      "text/plain": [
       "Entry           31\n",
       "Intermediate    17\n",
       "Expert           7\n",
       "Name: Job Tier, dtype: int64"
      ]
     },
     "execution_count": 12,
     "metadata": {},
     "output_type": "execute_result"
    }
   ],
   "source": [
    "skills_df[skills_df['Skill']=='Internet Research']['Job Tier'].value_counts()"
   ]
  },
  {
   "cell_type": "code",
   "execution_count": null,
   "metadata": {
    "collapsed": true
   },
   "outputs": [],
   "source": []
  },
  {
   "cell_type": "code",
   "execution_count": null,
   "metadata": {
    "collapsed": true
   },
   "outputs": [],
   "source": []
  }
 ],
 "metadata": {
  "kernelspec": {
   "display_name": "Python 3",
   "language": "python",
   "name": "python3"
  },
  "language_info": {
   "codemirror_mode": {
    "name": "ipython",
    "version": 3
   },
   "file_extension": ".py",
   "mimetype": "text/x-python",
   "name": "python",
   "nbconvert_exporter": "python",
   "pygments_lexer": "ipython3",
   "version": "3.6.0"
  }
 },
 "nbformat": 4,
 "nbformat_minor": 2
}
