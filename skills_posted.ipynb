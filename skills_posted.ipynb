{
 "cells": [
  {
   "cell_type": "code",
   "execution_count": 1,
   "metadata": {
    "collapsed": true
   },
   "outputs": [],
   "source": [
    "import numpy as np\n",
    "import pandas as pd\n",
    "import requests\n",
    "from bs4 import BeautifulSoup"
   ]
  },
  {
   "cell_type": "code",
   "execution_count": 2,
   "metadata": {
    "collapsed": true
   },
   "outputs": [],
   "source": [
    "# first, trying on a single page"
   ]
  },
  {
   "cell_type": "code",
   "execution_count": 3,
   "metadata": {
    "collapsed": false
   },
   "outputs": [
    {
     "data": {
      "text/plain": [
       "'\\nupwork_url = \"https://www.upwork.com/o/jobs/browse/c/data-science-analytics/?page=2\"\\npage = requests.get(upwork_url)\\nsoup = BeautifulSoup(page.content, \\'html.parser\\')\\n'"
      ]
     },
     "execution_count": 3,
     "metadata": {},
     "output_type": "execute_result"
    }
   ],
   "source": [
    "'''\n",
    "upwork_url = \"https://www.upwork.com/o/jobs/browse/c/data-science-analytics/?page=2\"\n",
    "page = requests.get(upwork_url)\n",
    "soup = BeautifulSoup(page.content, 'html.parser')\n",
    "'''"
   ]
  },
  {
   "cell_type": "code",
   "execution_count": 23,
   "metadata": {
    "collapsed": false
   },
   "outputs": [],
   "source": [
    "from selenium import webdriver"
   ]
  },
  {
   "cell_type": "code",
   "execution_count": 31,
   "metadata": {
    "collapsed": false
   },
   "outputs": [],
   "source": [
    "#skill_dict = []"
   ]
  },
  {
   "cell_type": "code",
   "execution_count": 34,
   "metadata": {
    "collapsed": true
   },
   "outputs": [],
   "source": [
    "skill_dict = []\n",
    "for i in range(1,81):\n",
    "    upwork_url = \"https://www.upwork.com/o/jobs/browse/c/data-science-analytics/?page=\" + str(i)\n",
    "    browser = webdriver.Safari()\n",
    "    browser.get(upwork_url)\n",
    "    inhtml = browser.execute_script(\"return document.body.innerHTML\")\n",
    "    soup = BeautifulSoup(inhtml, 'html.parser')\n",
    "    single_page_skill_list = soup.select(\"div[id='jobs-list'] span[class='js-skills skills'] a\")\n",
    "    single_page_skill_list = [x.text.strip() for x in single_page_skill_list]\n",
    "    skill_dict.extend(single_page_skill_list)\n",
    "    browser.quit()"
   ]
  },
  {
   "cell_type": "code",
   "execution_count": 35,
   "metadata": {
    "collapsed": false
   },
   "outputs": [
    {
     "data": {
      "text/plain": [
       "2136"
      ]
     },
     "execution_count": 35,
     "metadata": {},
     "output_type": "execute_result"
    }
   ],
   "source": [
    "len(skill_dict)"
   ]
  },
  {
   "cell_type": "code",
   "execution_count": 36,
   "metadata": {
    "collapsed": true
   },
   "outputs": [],
   "source": [
    "skill_dictionary = {}"
   ]
  },
  {
   "cell_type": "code",
   "execution_count": 37,
   "metadata": {
    "collapsed": true
   },
   "outputs": [],
   "source": [
    "for sk in skill_dict:\n",
    "    skill_dictionary[sk] = skill_dictionary.get(sk, 0) + 1"
   ]
  },
  {
   "cell_type": "code",
   "execution_count": 39,
   "metadata": {
    "collapsed": false
   },
   "outputs": [
    {
     "data": {
      "text/plain": [
       "457"
      ]
     },
     "execution_count": 39,
     "metadata": {},
     "output_type": "execute_result"
    }
   ],
   "source": [
    "len(skill_dictionary)"
   ]
  },
  {
   "cell_type": "code",
   "execution_count": 43,
   "metadata": {
    "collapsed": true
   },
   "outputs": [],
   "source": [
    "skill_desc = []\n",
    "count_desc = []\n",
    "for k, v in sorted(skill_dictionary.items(), key=lambda x: x[1], reverse=True):\n",
    "    skill_desc.append(k)\n",
    "    count_desc.append(v)"
   ]
  },
  {
   "cell_type": "code",
   "execution_count": 46,
   "metadata": {
    "collapsed": false
   },
   "outputs": [
    {
     "data": {
      "text/plain": [
       "['Microsoft Excel',\n",
       " 'Data Mining',\n",
       " 'Python',\n",
       " 'Data Entry',\n",
       " 'Data Scraping',\n",
       " 'Data Analytics',\n",
       " 'Machine Learning',\n",
       " 'Internet Research',\n",
       " 'Data Science',\n",
       " 'Data Visualization',\n",
       " 'Web Scraping',\n",
       " 'Statistics',\n",
       " 'Excel VBA',\n",
       " 'Analytics',\n",
       " 'SQL',\n",
       " 'Microsoft Power BI',\n",
       " 'Financial Analysis',\n",
       " 'Lead Generation',\n",
       " 'Tableau Software',\n",
       " 'Quantitative Analysis']"
      ]
     },
     "execution_count": 46,
     "metadata": {},
     "output_type": "execute_result"
    }
   ],
   "source": [
    "skill_desc[:20]"
   ]
  },
  {
   "cell_type": "code",
   "execution_count": 47,
   "metadata": {
    "collapsed": false
   },
   "outputs": [
    {
     "data": {
      "text/plain": [
       "[136,\n",
       " 105,\n",
       " 78,\n",
       " 75,\n",
       " 71,\n",
       " 66,\n",
       " 63,\n",
       " 55,\n",
       " 52,\n",
       " 42,\n",
       " 39,\n",
       " 35,\n",
       " 34,\n",
       " 24,\n",
       " 24,\n",
       " 22,\n",
       " 21,\n",
       " 20,\n",
       " 20,\n",
       " 20]"
      ]
     },
     "execution_count": 47,
     "metadata": {},
     "output_type": "execute_result"
    }
   ],
   "source": [
    "count_desc[:20]"
   ]
  },
  {
   "cell_type": "code",
   "execution_count": null,
   "metadata": {
    "collapsed": true
   },
   "outputs": [],
   "source": []
  },
  {
   "cell_type": "code",
   "execution_count": null,
   "metadata": {
    "collapsed": true
   },
   "outputs": [],
   "source": []
  },
  {
   "cell_type": "code",
   "execution_count": null,
   "metadata": {
    "collapsed": true
   },
   "outputs": [],
   "source": []
  },
  {
   "cell_type": "code",
   "execution_count": 4,
   "metadata": {
    "collapsed": true
   },
   "outputs": [],
   "source": [
    "from selenium import webdriver"
   ]
  },
  {
   "cell_type": "code",
   "execution_count": 18,
   "metadata": {
    "collapsed": false
   },
   "outputs": [],
   "source": [
    "browser = webdriver.Safari()"
   ]
  },
  {
   "cell_type": "code",
   "execution_count": 19,
   "metadata": {
    "collapsed": true
   },
   "outputs": [],
   "source": [
    "upwork_url = \"https://www.upwork.com/o/jobs/browse/c/data-science-analytics/?page=4\""
   ]
  },
  {
   "cell_type": "code",
   "execution_count": 20,
   "metadata": {
    "collapsed": false
   },
   "outputs": [],
   "source": [
    "browser.get(upwork_url)"
   ]
  },
  {
   "cell_type": "code",
   "execution_count": 8,
   "metadata": {
    "collapsed": true
   },
   "outputs": [],
   "source": [
    "inhtml = browser.execute_script(\"return document.body.innerHTML\")"
   ]
  },
  {
   "cell_type": "code",
   "execution_count": 9,
   "metadata": {
    "collapsed": false
   },
   "outputs": [
    {
     "data": {
      "text/plain": [
       "str"
      ]
     },
     "execution_count": 9,
     "metadata": {},
     "output_type": "execute_result"
    }
   ],
   "source": [
    "type(inhtml)"
   ]
  },
  {
   "cell_type": "code",
   "execution_count": 10,
   "metadata": {
    "collapsed": false
   },
   "outputs": [],
   "source": [
    "soup = BeautifulSoup(inhtml, 'html.parser')"
   ]
  },
  {
   "cell_type": "code",
   "execution_count": null,
   "metadata": {
    "collapsed": false
   },
   "outputs": [],
   "source": []
  },
  {
   "cell_type": "code",
   "execution_count": 11,
   "metadata": {
    "collapsed": false
   },
   "outputs": [],
   "source": [
    "#single_page_skill_list = soup2.select(\"a[class='o-tag-skill ng-hide'] span\")\n",
    "#single_page_skill_list = soup2.select(\"a[class='o-tag-skill ng-hide'] span\")\n",
    "single_page_skill_list = soup.select(\"div[id='jobs-list'] span[class='js-skills skills'] a\")"
   ]
  },
  {
   "cell_type": "code",
   "execution_count": 12,
   "metadata": {
    "collapsed": false
   },
   "outputs": [
    {
     "data": {
      "text/plain": [
       "['Business Intelligence',\n",
       " 'Data Analytics',\n",
       " 'Data Modeling',\n",
       " 'Data Visualization',\n",
       " 'Excel VBA',\n",
       " 'Microsoft Excel',\n",
       " 'SQL',\n",
       " 'Tableau Software',\n",
       " 'Artificial Intelligence',\n",
       " 'Machine Learning',\n",
       " 'Microsoft Excel',\n",
       " 'Microsoft Excel',\n",
       " 'Fashion Design',\n",
       " 'Illustration',\n",
       " 'Pattern Recognition',\n",
       " 'Sketching',\n",
       " 'Textile Engineering',\n",
       " 'Content Writing',\n",
       " 'Data Entry',\n",
       " 'Digital Video',\n",
       " 'Internet Research',\n",
       " 'Sports Writing',\n",
       " 'Statistics',\n",
       " 'Video Streaming']"
      ]
     },
     "execution_count": 12,
     "metadata": {},
     "output_type": "execute_result"
    }
   ],
   "source": [
    "single_page_skill_list = [x.text.strip() for x in single_page_skill_list]\n",
    "single_page_skill_list"
   ]
  },
  {
   "cell_type": "code",
   "execution_count": 13,
   "metadata": {
    "collapsed": false
   },
   "outputs": [
    {
     "data": {
      "text/plain": [
       "24"
      ]
     },
     "execution_count": 13,
     "metadata": {},
     "output_type": "execute_result"
    }
   ],
   "source": [
    "len(single_page_skill_list)"
   ]
  },
  {
   "cell_type": "code",
   "execution_count": 48,
   "metadata": {
    "collapsed": false
   },
   "outputs": [],
   "source": [
    "#browser.quit()"
   ]
  },
  {
   "cell_type": "code",
   "execution_count": 21,
   "metadata": {
    "collapsed": false
   },
   "outputs": [],
   "source": [
    "browser.close()"
   ]
  },
  {
   "cell_type": "code",
   "execution_count": 22,
   "metadata": {
    "collapsed": false
   },
   "outputs": [],
   "source": [
    "browser.quit()"
   ]
  },
  {
   "cell_type": "code",
   "execution_count": null,
   "metadata": {
    "collapsed": true
   },
   "outputs": [],
   "source": []
  },
  {
   "cell_type": "code",
   "execution_count": null,
   "metadata": {
    "collapsed": true
   },
   "outputs": [],
   "source": []
  }
 ],
 "metadata": {
  "kernelspec": {
   "display_name": "Python 3",
   "language": "python",
   "name": "python3"
  },
  "language_info": {
   "codemirror_mode": {
    "name": "ipython",
    "version": 3
   },
   "file_extension": ".py",
   "mimetype": "text/x-python",
   "name": "python",
   "nbconvert_exporter": "python",
   "pygments_lexer": "ipython3",
   "version": "3.6.0"
  }
 },
 "nbformat": 4,
 "nbformat_minor": 2
}
