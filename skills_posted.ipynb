{
 "cells": [
  {
   "cell_type": "code",
   "execution_count": 93,
   "metadata": {
    "collapsed": true
   },
   "outputs": [],
   "source": [
    "from bs4 import BeautifulSoup #for HTML parsing\n",
    "from selenium import webdriver #to scrap javascript code of page, 'requests' fails to scrap required data"
   ]
  },
  {
   "cell_type": "code",
   "execution_count": 94,
   "metadata": {
    "collapsed": false
   },
   "outputs": [],
   "source": [
    "skill_list = []     #list to store tagged skills in job postings\n",
    "job_type_list = []  #list to store job type : Hourly or Fixed-Price\n",
    "job_tier_list = []  #list to store job tier : Entry-Level, Intermediate or Expert"
   ]
  },
  {
   "cell_type": "code",
   "execution_count": 100,
   "metadata": {
    "collapsed": false
   },
   "outputs": [],
   "source": [
    "for i in range(1,81):\n",
    "    upwork_url = \"https://www.upwork.com/o/jobs/browse/c/data-science-analytics/?page=\" + str(i)\n",
    "    browser = webdriver.Safari()\n",
    "    browser.get(upwork_url)\n",
    "    inhtml = browser.execute_script(\"return document.body.innerHTML\")\n",
    "    soup = BeautifulSoup(inhtml, 'html.parser')\n",
    "    \n",
    "    job_tile_soup = soup.select(\"div[id='jobs-list'] section[class='job-tile']\")\n",
    "    \n",
    "    for job_tile in job_tile_soup:\n",
    "        temp_skill_list = job_tile.select(\"span[class='js-skills skills'] a\")\n",
    "        temp_skill_list = [x.text.strip() for x in temp_skill_list]\n",
    "        if len(temp_skill_list) == 0:\n",
    "            continue\n",
    "        skill_list.extend(temp_skill_list)\n",
    "        \n",
    "        temp_job_type_list = job_tile.select(\"strong[class='js-type']\")\n",
    "        temp_job_type_list = [x.text.strip() for x in temp_job_type_list]\n",
    "        temp_job_type_list = temp_job_type_list * len(temp_skill_list)\n",
    "        job_type_list.extend(temp_job_type_list)\n",
    "        \n",
    "        temp_job_tier_list = job_tile.select(\"span[class='js-contractor-tier']\")\n",
    "        temp_job_tier_list = [x.text.strip().split()[0] for x in temp_job_tier_list]\n",
    "        temp_job_tier_list = temp_job_tier_list * len(temp_skill_list)\n",
    "        job_tier_list.extend(temp_job_tier_list)\n",
    "\n",
    "    browser.quit()"
   ]
  },
  {
   "cell_type": "code",
   "execution_count": 108,
   "metadata": {
    "collapsed": false
   },
   "outputs": [
    {
     "name": "stdout",
     "output_type": "stream",
     "text": [
      "Python\tFixed-Price\tIntermediate\n",
      "Argus\tHourly\tExpert\n",
      "Financial Analysis\tHourly\tExpert\n",
      "Financial Modeling\tHourly\tExpert\n",
      "Real Estate Appraisal\tHourly\tExpert\n",
      "Real Estate IDX\tHourly\tExpert\n",
      "Real Estate Law\tHourly\tExpert\n",
      "Real Estate Management\tHourly\tExpert\n",
      "Statistics\tHourly\tExpert\n",
      "Financial Analysis\tHourly\tExpert\n"
     ]
    }
   ],
   "source": [
    "for j in range(10):\n",
    "    print(\"{}\\t{}\\t{}\".format(skill_list[j], job_type_list[j], job_tier_list[j]))"
   ]
  },
  {
   "cell_type": "code",
   "execution_count": 101,
   "metadata": {
    "collapsed": false
   },
   "outputs": [
    {
     "data": {
      "text/plain": [
       "2168"
      ]
     },
     "execution_count": 101,
     "metadata": {},
     "output_type": "execute_result"
    }
   ],
   "source": [
    "len(skill_list)"
   ]
  },
  {
   "cell_type": "code",
   "execution_count": 102,
   "metadata": {
    "collapsed": false
   },
   "outputs": [
    {
     "data": {
      "text/plain": [
       "2168"
      ]
     },
     "execution_count": 102,
     "metadata": {},
     "output_type": "execute_result"
    }
   ],
   "source": [
    "len(job_type_list)"
   ]
  },
  {
   "cell_type": "code",
   "execution_count": 103,
   "metadata": {
    "collapsed": false
   },
   "outputs": [
    {
     "data": {
      "text/plain": [
       "2168"
      ]
     },
     "execution_count": 103,
     "metadata": {},
     "output_type": "execute_result"
    }
   ],
   "source": [
    "len(job_tier_list)"
   ]
  },
  {
   "cell_type": "code",
   "execution_count": 104,
   "metadata": {
    "collapsed": true
   },
   "outputs": [],
   "source": [
    "import numpy as np\n",
    "import pandas as pd"
   ]
  },
  {
   "cell_type": "code",
   "execution_count": 106,
   "metadata": {
    "collapsed": true
   },
   "outputs": [],
   "source": [
    "skill_frame = pd.DataFrame({'Skill':skill_list, 'Job Type':job_type_list, 'Job Tier':job_tier_list})"
   ]
  },
  {
   "cell_type": "code",
   "execution_count": 107,
   "metadata": {
    "collapsed": false
   },
   "outputs": [
    {
     "data": {
      "text/html": [
       "<div>\n",
       "<style>\n",
       "    .dataframe thead tr:only-child th {\n",
       "        text-align: right;\n",
       "    }\n",
       "\n",
       "    .dataframe thead th {\n",
       "        text-align: left;\n",
       "    }\n",
       "\n",
       "    .dataframe tbody tr th {\n",
       "        vertical-align: top;\n",
       "    }\n",
       "</style>\n",
       "<table border=\"1\" class=\"dataframe\">\n",
       "  <thead>\n",
       "    <tr style=\"text-align: right;\">\n",
       "      <th></th>\n",
       "      <th>Job Tier</th>\n",
       "      <th>Job Type</th>\n",
       "      <th>Skill</th>\n",
       "    </tr>\n",
       "  </thead>\n",
       "  <tbody>\n",
       "    <tr>\n",
       "      <th>0</th>\n",
       "      <td>Intermediate</td>\n",
       "      <td>Fixed-Price</td>\n",
       "      <td>Python</td>\n",
       "    </tr>\n",
       "    <tr>\n",
       "      <th>1</th>\n",
       "      <td>Expert</td>\n",
       "      <td>Hourly</td>\n",
       "      <td>Argus</td>\n",
       "    </tr>\n",
       "    <tr>\n",
       "      <th>2</th>\n",
       "      <td>Expert</td>\n",
       "      <td>Hourly</td>\n",
       "      <td>Financial Analysis</td>\n",
       "    </tr>\n",
       "    <tr>\n",
       "      <th>3</th>\n",
       "      <td>Expert</td>\n",
       "      <td>Hourly</td>\n",
       "      <td>Financial Modeling</td>\n",
       "    </tr>\n",
       "    <tr>\n",
       "      <th>4</th>\n",
       "      <td>Expert</td>\n",
       "      <td>Hourly</td>\n",
       "      <td>Real Estate Appraisal</td>\n",
       "    </tr>\n",
       "    <tr>\n",
       "      <th>5</th>\n",
       "      <td>Expert</td>\n",
       "      <td>Hourly</td>\n",
       "      <td>Real Estate IDX</td>\n",
       "    </tr>\n",
       "    <tr>\n",
       "      <th>6</th>\n",
       "      <td>Expert</td>\n",
       "      <td>Hourly</td>\n",
       "      <td>Real Estate Law</td>\n",
       "    </tr>\n",
       "    <tr>\n",
       "      <th>7</th>\n",
       "      <td>Expert</td>\n",
       "      <td>Hourly</td>\n",
       "      <td>Real Estate Management</td>\n",
       "    </tr>\n",
       "    <tr>\n",
       "      <th>8</th>\n",
       "      <td>Expert</td>\n",
       "      <td>Hourly</td>\n",
       "      <td>Statistics</td>\n",
       "    </tr>\n",
       "    <tr>\n",
       "      <th>9</th>\n",
       "      <td>Expert</td>\n",
       "      <td>Hourly</td>\n",
       "      <td>Financial Analysis</td>\n",
       "    </tr>\n",
       "  </tbody>\n",
       "</table>\n",
       "</div>"
      ],
      "text/plain": [
       "       Job Tier     Job Type                   Skill\n",
       "0  Intermediate  Fixed-Price                  Python\n",
       "1        Expert       Hourly                   Argus\n",
       "2        Expert       Hourly      Financial Analysis\n",
       "3        Expert       Hourly      Financial Modeling\n",
       "4        Expert       Hourly   Real Estate Appraisal\n",
       "5        Expert       Hourly         Real Estate IDX\n",
       "6        Expert       Hourly         Real Estate Law\n",
       "7        Expert       Hourly  Real Estate Management\n",
       "8        Expert       Hourly              Statistics\n",
       "9        Expert       Hourly      Financial Analysis"
      ]
     },
     "execution_count": 107,
     "metadata": {},
     "output_type": "execute_result"
    }
   ],
   "source": [
    "skill_frame.head(10)"
   ]
  },
  {
   "cell_type": "code",
   "execution_count": 109,
   "metadata": {
    "collapsed": true
   },
   "outputs": [],
   "source": [
    "skill_frame.to_csv('job_postings_data.csv')"
   ]
  },
  {
   "cell_type": "code",
   "execution_count": 110,
   "metadata": {
    "collapsed": true
   },
   "outputs": [],
   "source": [
    "df = pd.read_csv('job_postings_data.csv', index_col=0)"
   ]
  },
  {
   "cell_type": "code",
   "execution_count": 111,
   "metadata": {
    "collapsed": false
   },
   "outputs": [
    {
     "data": {
      "text/html": [
       "<div>\n",
       "<style>\n",
       "    .dataframe thead tr:only-child th {\n",
       "        text-align: right;\n",
       "    }\n",
       "\n",
       "    .dataframe thead th {\n",
       "        text-align: left;\n",
       "    }\n",
       "\n",
       "    .dataframe tbody tr th {\n",
       "        vertical-align: top;\n",
       "    }\n",
       "</style>\n",
       "<table border=\"1\" class=\"dataframe\">\n",
       "  <thead>\n",
       "    <tr style=\"text-align: right;\">\n",
       "      <th></th>\n",
       "      <th>Job Tier</th>\n",
       "      <th>Job Type</th>\n",
       "      <th>Skill</th>\n",
       "    </tr>\n",
       "  </thead>\n",
       "  <tbody>\n",
       "    <tr>\n",
       "      <th>0</th>\n",
       "      <td>Intermediate</td>\n",
       "      <td>Fixed-Price</td>\n",
       "      <td>Python</td>\n",
       "    </tr>\n",
       "    <tr>\n",
       "      <th>1</th>\n",
       "      <td>Expert</td>\n",
       "      <td>Hourly</td>\n",
       "      <td>Argus</td>\n",
       "    </tr>\n",
       "    <tr>\n",
       "      <th>2</th>\n",
       "      <td>Expert</td>\n",
       "      <td>Hourly</td>\n",
       "      <td>Financial Analysis</td>\n",
       "    </tr>\n",
       "    <tr>\n",
       "      <th>3</th>\n",
       "      <td>Expert</td>\n",
       "      <td>Hourly</td>\n",
       "      <td>Financial Modeling</td>\n",
       "    </tr>\n",
       "    <tr>\n",
       "      <th>4</th>\n",
       "      <td>Expert</td>\n",
       "      <td>Hourly</td>\n",
       "      <td>Real Estate Appraisal</td>\n",
       "    </tr>\n",
       "  </tbody>\n",
       "</table>\n",
       "</div>"
      ],
      "text/plain": [
       "       Job Tier     Job Type                  Skill\n",
       "0  Intermediate  Fixed-Price                 Python\n",
       "1        Expert       Hourly                  Argus\n",
       "2        Expert       Hourly     Financial Analysis\n",
       "3        Expert       Hourly     Financial Modeling\n",
       "4        Expert       Hourly  Real Estate Appraisal"
      ]
     },
     "execution_count": 111,
     "metadata": {},
     "output_type": "execute_result"
    }
   ],
   "source": [
    "df.head()"
   ]
  },
  {
   "cell_type": "code",
   "execution_count": null,
   "metadata": {
    "collapsed": true
   },
   "outputs": [],
   "source": []
  },
  {
   "cell_type": "code",
   "execution_count": null,
   "metadata": {
    "collapsed": true
   },
   "outputs": [],
   "source": []
  },
  {
   "cell_type": "code",
   "execution_count": null,
   "metadata": {
    "collapsed": true
   },
   "outputs": [],
   "source": []
  }
 ],
 "metadata": {
  "kernelspec": {
   "display_name": "Python 3",
   "language": "python",
   "name": "python3"
  },
  "language_info": {
   "codemirror_mode": {
    "name": "ipython",
    "version": 3
   },
   "file_extension": ".py",
   "mimetype": "text/x-python",
   "name": "python",
   "nbconvert_exporter": "python",
   "pygments_lexer": "ipython3",
   "version": "3.6.0"
  }
 },
 "nbformat": 4,
 "nbformat_minor": 2
}
