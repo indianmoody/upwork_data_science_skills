{
 "cells": [
  {
   "cell_type": "code",
   "execution_count": 1,
   "metadata": {
    "collapsed": true
   },
   "outputs": [],
   "source": [
    "from bs4 import BeautifulSoup #for HTML parsing\n",
    "from selenium import webdriver #to scrape javascript code of page, 'requests' fails to scrap required data"
   ]
  },
  {
   "cell_type": "code",
   "execution_count": 2,
   "metadata": {
    "collapsed": false
   },
   "outputs": [],
   "source": [
    "skill_list = []     #list to store tagged skills in job postings\n",
    "job_type_list = []  #list to store job type : Hourly or Fixed-Price\n",
    "job_tier_list = []  #list to store job tier : Entry-Level, Intermediate or Expert\n",
    "jobs_with_tagged_skills = 0"
   ]
  },
  {
   "cell_type": "code",
   "execution_count": 3,
   "metadata": {
    "collapsed": false
   },
   "outputs": [],
   "source": [
    "#Covering first 80 pages, where each page has 10 postings\n",
    "for i in range(1,81):\n",
    "    upwork_url = \"https://www.upwork.com/o/jobs/browse/c/data-science-analytics/?page=\" + str(i) #website url\n",
    "    browser = webdriver.Safari()  # object for Safari browser\n",
    "    browser.get(upwork_url)       # navigate to the page\n",
    "    inhtml = browser.execute_script(\"return document.body.innerHTML\") # extract inner HTML of the page as str\n",
    "    soup = BeautifulSoup(inhtml, 'html.parser') # parse with BeautifulSoup\n",
    "    \n",
    "    # Each job listing is posted under HTML section with class 'job-tile'. \n",
    "    job_tile_soup = soup.select(\"div[id='jobs-list'] section[class='job-tile']\") \n",
    "    \n",
    "    # After selecting all HTML sections (class='job-title'), traverse through each 'section' extracting tagged\n",
    "    # skills, job type and job tier. Ignore 'section' under which no skills are tagged.\n",
    "    for job_tile in job_tile_soup:\n",
    "        # scrape, clean and store 'tagged skills'\n",
    "        temp_skill_list = job_tile.select(\"span[class='js-skills skills'] a\")\n",
    "        temp_skill_list = [x.text.strip() for x in temp_skill_list]\n",
    "        if len(temp_skill_list) == 0:\n",
    "            continue\n",
    "        skill_list.extend(temp_skill_list)\n",
    "        jobs_with_tagged_skills += 1\n",
    "        \n",
    "        # scrape, clean and store 'job type'\n",
    "        temp_job_type_list = job_tile.select(\"strong[class='js-type']\")\n",
    "        temp_job_type_list = [x.text.strip() for x in temp_job_type_list]\n",
    "        temp_job_type_list = temp_job_type_list * len(temp_skill_list)\n",
    "        job_type_list.extend(temp_job_type_list)\n",
    "        \n",
    "        # scrape, clean and store 'job tier'\n",
    "        temp_job_tier_list = job_tile.select(\"span[class='js-contractor-tier']\")\n",
    "        temp_job_tier_list = [x.text.strip().split()[0] for x in temp_job_tier_list]\n",
    "        temp_job_tier_list = temp_job_tier_list * len(temp_skill_list)\n",
    "        job_tier_list.extend(temp_job_tier_list)\n",
    "    # close browser session after each page\n",
    "    browser.quit()"
   ]
  },
  {
   "cell_type": "code",
   "execution_count": 4,
   "metadata": {
    "collapsed": false
   },
   "outputs": [
    {
     "name": "stdout",
     "output_type": "stream",
     "text": [
      "Data Scraping\tFixed-Price\tIntermediate\n",
      "Web Scraping\tFixed-Price\tIntermediate\n",
      "Machine Learning\tFixed-Price\tExpert\n",
      "Appforfinance Financial Statement Analysis\tFixed-Price\tIntermediate\n",
      "Business Analysis\tFixed-Price\tIntermediate\n",
      "Business Intelligence\tFixed-Price\tIntermediate\n",
      "Data Analytics\tFixed-Price\tIntermediate\n",
      "Excel VBA\tFixed-Price\tIntermediate\n",
      "Microsoft Excel\tFixed-Price\tIntermediate\n",
      "Microsoft Power BI\tFixed-Price\tIntermediate\n"
     ]
    }
   ],
   "source": [
    "for j in range(10):\n",
    "    print(\"{}\\t{}\\t{}\".format(skill_list[j], job_type_list[j], job_tier_list[j]))"
   ]
  },
  {
   "cell_type": "code",
   "execution_count": 5,
   "metadata": {
    "collapsed": false
   },
   "outputs": [
    {
     "data": {
      "text/plain": [
       "(2187, 2187, 2187)"
      ]
     },
     "execution_count": 5,
     "metadata": {},
     "output_type": "execute_result"
    }
   ],
   "source": [
    "len(skill_list), len(job_type_list), len(job_tier_list)"
   ]
  },
  {
   "cell_type": "code",
   "execution_count": 6,
   "metadata": {
    "collapsed": false
   },
   "outputs": [
    {
     "data": {
      "text/plain": [
       "611"
      ]
     },
     "execution_count": 6,
     "metadata": {},
     "output_type": "execute_result"
    }
   ],
   "source": [
    "jobs_with_tagged_skills"
   ]
  },
  {
   "cell_type": "code",
   "execution_count": null,
   "metadata": {
    "collapsed": false
   },
   "outputs": [],
   "source": []
  },
  {
   "cell_type": "code",
   "execution_count": 8,
   "metadata": {
    "collapsed": true
   },
   "outputs": [],
   "source": [
    "import numpy as np\n",
    "import pandas as pd"
   ]
  },
  {
   "cell_type": "code",
   "execution_count": 9,
   "metadata": {
    "collapsed": true
   },
   "outputs": [],
   "source": [
    "# Create a dataframe of scraped data\n",
    "skill_frame = pd.DataFrame({'Skill':skill_list, 'Job Type':job_type_list, 'Job Tier':job_tier_list})"
   ]
  },
  {
   "cell_type": "code",
   "execution_count": 10,
   "metadata": {
    "collapsed": false
   },
   "outputs": [
    {
     "data": {
      "text/html": [
       "<div>\n",
       "<style>\n",
       "    .dataframe thead tr:only-child th {\n",
       "        text-align: right;\n",
       "    }\n",
       "\n",
       "    .dataframe thead th {\n",
       "        text-align: left;\n",
       "    }\n",
       "\n",
       "    .dataframe tbody tr th {\n",
       "        vertical-align: top;\n",
       "    }\n",
       "</style>\n",
       "<table border=\"1\" class=\"dataframe\">\n",
       "  <thead>\n",
       "    <tr style=\"text-align: right;\">\n",
       "      <th></th>\n",
       "      <th>Job Tier</th>\n",
       "      <th>Job Type</th>\n",
       "      <th>Skill</th>\n",
       "    </tr>\n",
       "  </thead>\n",
       "  <tbody>\n",
       "    <tr>\n",
       "      <th>0</th>\n",
       "      <td>Intermediate</td>\n",
       "      <td>Fixed-Price</td>\n",
       "      <td>Data Scraping</td>\n",
       "    </tr>\n",
       "    <tr>\n",
       "      <th>1</th>\n",
       "      <td>Intermediate</td>\n",
       "      <td>Fixed-Price</td>\n",
       "      <td>Web Scraping</td>\n",
       "    </tr>\n",
       "    <tr>\n",
       "      <th>2</th>\n",
       "      <td>Expert</td>\n",
       "      <td>Fixed-Price</td>\n",
       "      <td>Machine Learning</td>\n",
       "    </tr>\n",
       "    <tr>\n",
       "      <th>3</th>\n",
       "      <td>Intermediate</td>\n",
       "      <td>Fixed-Price</td>\n",
       "      <td>Appforfinance Financial Statement Analysis</td>\n",
       "    </tr>\n",
       "    <tr>\n",
       "      <th>4</th>\n",
       "      <td>Intermediate</td>\n",
       "      <td>Fixed-Price</td>\n",
       "      <td>Business Analysis</td>\n",
       "    </tr>\n",
       "    <tr>\n",
       "      <th>5</th>\n",
       "      <td>Intermediate</td>\n",
       "      <td>Fixed-Price</td>\n",
       "      <td>Business Intelligence</td>\n",
       "    </tr>\n",
       "    <tr>\n",
       "      <th>6</th>\n",
       "      <td>Intermediate</td>\n",
       "      <td>Fixed-Price</td>\n",
       "      <td>Data Analytics</td>\n",
       "    </tr>\n",
       "    <tr>\n",
       "      <th>7</th>\n",
       "      <td>Intermediate</td>\n",
       "      <td>Fixed-Price</td>\n",
       "      <td>Excel VBA</td>\n",
       "    </tr>\n",
       "    <tr>\n",
       "      <th>8</th>\n",
       "      <td>Intermediate</td>\n",
       "      <td>Fixed-Price</td>\n",
       "      <td>Microsoft Excel</td>\n",
       "    </tr>\n",
       "    <tr>\n",
       "      <th>9</th>\n",
       "      <td>Intermediate</td>\n",
       "      <td>Fixed-Price</td>\n",
       "      <td>Microsoft Power BI</td>\n",
       "    </tr>\n",
       "  </tbody>\n",
       "</table>\n",
       "</div>"
      ],
      "text/plain": [
       "       Job Tier     Job Type                                       Skill\n",
       "0  Intermediate  Fixed-Price                               Data Scraping\n",
       "1  Intermediate  Fixed-Price                                Web Scraping\n",
       "2        Expert  Fixed-Price                            Machine Learning\n",
       "3  Intermediate  Fixed-Price  Appforfinance Financial Statement Analysis\n",
       "4  Intermediate  Fixed-Price                           Business Analysis\n",
       "5  Intermediate  Fixed-Price                       Business Intelligence\n",
       "6  Intermediate  Fixed-Price                              Data Analytics\n",
       "7  Intermediate  Fixed-Price                                   Excel VBA\n",
       "8  Intermediate  Fixed-Price                             Microsoft Excel\n",
       "9  Intermediate  Fixed-Price                          Microsoft Power BI"
      ]
     },
     "execution_count": 10,
     "metadata": {},
     "output_type": "execute_result"
    }
   ],
   "source": [
    "skill_frame.head(10)"
   ]
  },
  {
   "cell_type": "code",
   "execution_count": 11,
   "metadata": {
    "collapsed": true
   },
   "outputs": [],
   "source": [
    "# Save the dataframe into a CSV file\n",
    "skill_frame.to_csv('job_postings_data.csv')"
   ]
  },
  {
   "cell_type": "code",
   "execution_count": 12,
   "metadata": {
    "collapsed": true
   },
   "outputs": [],
   "source": [
    "df = pd.read_csv('job_postings_data.csv', index_col=0)"
   ]
  },
  {
   "cell_type": "code",
   "execution_count": 13,
   "metadata": {
    "collapsed": false
   },
   "outputs": [
    {
     "data": {
      "text/html": [
       "<div>\n",
       "<style>\n",
       "    .dataframe thead tr:only-child th {\n",
       "        text-align: right;\n",
       "    }\n",
       "\n",
       "    .dataframe thead th {\n",
       "        text-align: left;\n",
       "    }\n",
       "\n",
       "    .dataframe tbody tr th {\n",
       "        vertical-align: top;\n",
       "    }\n",
       "</style>\n",
       "<table border=\"1\" class=\"dataframe\">\n",
       "  <thead>\n",
       "    <tr style=\"text-align: right;\">\n",
       "      <th></th>\n",
       "      <th>Job Tier</th>\n",
       "      <th>Job Type</th>\n",
       "      <th>Skill</th>\n",
       "    </tr>\n",
       "  </thead>\n",
       "  <tbody>\n",
       "    <tr>\n",
       "      <th>0</th>\n",
       "      <td>Intermediate</td>\n",
       "      <td>Fixed-Price</td>\n",
       "      <td>Data Scraping</td>\n",
       "    </tr>\n",
       "    <tr>\n",
       "      <th>1</th>\n",
       "      <td>Intermediate</td>\n",
       "      <td>Fixed-Price</td>\n",
       "      <td>Web Scraping</td>\n",
       "    </tr>\n",
       "    <tr>\n",
       "      <th>2</th>\n",
       "      <td>Expert</td>\n",
       "      <td>Fixed-Price</td>\n",
       "      <td>Machine Learning</td>\n",
       "    </tr>\n",
       "    <tr>\n",
       "      <th>3</th>\n",
       "      <td>Intermediate</td>\n",
       "      <td>Fixed-Price</td>\n",
       "      <td>Appforfinance Financial Statement Analysis</td>\n",
       "    </tr>\n",
       "    <tr>\n",
       "      <th>4</th>\n",
       "      <td>Intermediate</td>\n",
       "      <td>Fixed-Price</td>\n",
       "      <td>Business Analysis</td>\n",
       "    </tr>\n",
       "  </tbody>\n",
       "</table>\n",
       "</div>"
      ],
      "text/plain": [
       "       Job Tier     Job Type                                       Skill\n",
       "0  Intermediate  Fixed-Price                               Data Scraping\n",
       "1  Intermediate  Fixed-Price                                Web Scraping\n",
       "2        Expert  Fixed-Price                            Machine Learning\n",
       "3  Intermediate  Fixed-Price  Appforfinance Financial Statement Analysis\n",
       "4  Intermediate  Fixed-Price                           Business Analysis"
      ]
     },
     "execution_count": 13,
     "metadata": {},
     "output_type": "execute_result"
    }
   ],
   "source": [
    "df.head()"
   ]
  },
  {
   "cell_type": "code",
   "execution_count": null,
   "metadata": {
    "collapsed": true
   },
   "outputs": [],
   "source": []
  },
  {
   "cell_type": "code",
   "execution_count": null,
   "metadata": {
    "collapsed": true
   },
   "outputs": [],
   "source": []
  },
  {
   "cell_type": "code",
   "execution_count": null,
   "metadata": {
    "collapsed": true
   },
   "outputs": [],
   "source": []
  }
 ],
 "metadata": {
  "kernelspec": {
   "display_name": "Python 3",
   "language": "python",
   "name": "python3"
  },
  "language_info": {
   "codemirror_mode": {
    "name": "ipython",
    "version": 3
   },
   "file_extension": ".py",
   "mimetype": "text/x-python",
   "name": "python",
   "nbconvert_exporter": "python",
   "pygments_lexer": "ipython3",
   "version": "3.6.0"
  }
 },
 "nbformat": 4,
 "nbformat_minor": 2
}
